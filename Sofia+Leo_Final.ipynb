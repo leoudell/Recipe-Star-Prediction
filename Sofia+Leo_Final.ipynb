{
 "cells": [
  {
   "cell_type": "markdown",
   "metadata": {
    "jp-MarkdownHeadingCollapsed": true
   },
   "source": [
    "# How to Predict Recipe Ratings Based on Recipe Complexity\n",
    "**Name(s)**: Sophia Papadopoulos and Leo Udell\n",
    "\n",
    "**Website Link**: https://leoudell.github.io/recipe-star-prediction/"
   ]
  },
  {
   "cell_type": "code",
   "execution_count": 8,
   "metadata": {
    "ExecuteTime": {
     "end_time": "2019-10-31T23:36:28.652554Z",
     "start_time": "2019-10-31T23:36:27.180520Z"
    },
    "jupyter": {
     "source_hidden": true
    }
   },
   "outputs": [],
   "source": [
    "import pandas as pd\n",
    "import numpy as np\n",
    "import requests\n",
    "import re\n",
    "from bs4 import BeautifulSoup\n",
    "\n",
    "import plotly.express as px\n",
    "pd.options.plotting.backend = 'plotly'\n",
    "\n",
    "from lec_utils import * # Feel free to uncomment and use this. It'll make your plotly graphs look like ours in lecture!"
   ]
  },
  {
   "cell_type": "markdown",
   "metadata": {},
   "source": [
    "## Step 1: Introduction"
   ]
  },
  {
   "cell_type": "markdown",
   "metadata": {},
   "source": [
    "Picture this. You come home from a long day at work at the world's best data science company. All you want is a quick bite, but what are the odds this meal will be 5 stars? What is the relation between complexity and star ratings? This analysis explores a dataset of over 730,000 reviews on food.com to determine the relationship between highly rated recipes and recipe complexity. We have defined how complex a recipe can be based on how long it takes to prep and cook, the number of different ingredients, and the number of steps. By analyzing this complexity, we can help chefs optimize the complexity of their recipes for better ratings and different audiences.\n",
    "\n",
    "**Total Rows in Dataset:** \n",
    "\n",
    "| Column Recipe in Dataset   | Description |\n",
    "|-------------|-------|\n",
    "| 'name'   | Recipe name|\n",
    "| 'minutes' | Minutes to prepare recipe |\n",
    "| 'n_steps' | Number of steps in recipe    |\n",
    "\n",
    "| Column Rating in Dataset    | Description |\n",
    "|-------------|-------|\n",
    "| 'user_id'   | User ID |\n",
    "| 'rating' | Star rating given by user |"
   ]
  },
  {
   "cell_type": "code",
   "execution_count": 10,
   "metadata": {},
   "outputs": [
    {
     "data": {
      "text/plain": [
       "(83782, 12)"
      ]
     },
     "execution_count": 10,
     "metadata": {},
     "output_type": "execute_result"
    }
   ],
   "source": [
    "recipes = pd.read_csv('RAW_recipes.csv')\n",
    "recipes.shape"
   ]
  },
  {
   "cell_type": "code",
   "execution_count": 11,
   "metadata": {},
   "outputs": [
    {
     "data": {
      "text/plain": [
       "(731927, 5)"
      ]
     },
     "execution_count": 11,
     "metadata": {},
     "output_type": "execute_result"
    }
   ],
   "source": [
    "ratings = pd.read_csv('RAW_interactions.csv')\n",
    "ratings.shape"
   ]
  },
  {
   "cell_type": "markdown",
   "metadata": {},
   "source": [
    "## Step 2: Data Cleaning and Exploratory Data Analysis"
   ]
  },
  {
   "cell_type": "markdown",
   "metadata": {},
   "source": [
    "### Data Cleaning\n",
    "1. The Food.com data came in two separate CSV files, one for the recipes and one for the ratings. We performed an inner join of the recipes and ratings CSVs on the recipe_id field to ensure every rating in our merged set had a corresponding recipe record.\n",
    "2. We removed columns that were not needed for modeling, like rating text and written steps. After column drops, we checked for NaNs across all remaining fields and found none. However, some ratings had 0 as a rating value; we dropped those rows before training.\n",
    "3. Our dataframe started around 731,000 rows with 17 columns, and we ended with 220,000 rows with 5 columns after cleaning."
   ]
  },
  {
   "cell_type": "code",
   "execution_count": 12,
   "metadata": {
    "ExecuteTime": {
     "end_time": "2019-10-31T23:36:28.657068Z",
     "start_time": "2019-10-31T23:36:28.654650Z"
    }
   },
   "outputs": [],
   "source": [
    "merged_unclean = recipes.merge(ratings, left_on='id', right_on='recipe_id')"
   ]
  },
  {
   "cell_type": "code",
   "execution_count": 13,
   "metadata": {
    "ExecuteTime": {
     "end_time": "2019-10-31T23:36:28.662099Z",
     "start_time": "2019-10-31T23:36:28.660016Z"
    }
   },
   "outputs": [
    {
     "data": {
      "text/html": [
       "<div>\n",
       "<style scoped>\n",
       "    .dataframe tbody tr th:only-of-type {\n",
       "        vertical-align: middle;\n",
       "    }\n",
       "\n",
       "    .dataframe tbody tr th {\n",
       "        vertical-align: top;\n",
       "    }\n",
       "\n",
       "    .dataframe thead th {\n",
       "        text-align: right;\n",
       "    }\n",
       "</style>\n",
       "<table border=\"1\" class=\"dataframe\">\n",
       "  <thead>\n",
       "    <tr style=\"text-align: right;\">\n",
       "      <th></th>\n",
       "      <th>id</th>\n",
       "      <th>contributor_id</th>\n",
       "      <th>name</th>\n",
       "      <th>minutes</th>\n",
       "      <th>n_steps</th>\n",
       "      <th>n_ingredients</th>\n",
       "      <th>rating</th>\n",
       "    </tr>\n",
       "  </thead>\n",
       "  <tbody>\n",
       "    <tr>\n",
       "      <th>229722</th>\n",
       "      <td>454403</td>\n",
       "      <td>1458294</td>\n",
       "      <td>whole wheat raisin bread</td>\n",
       "      <td>155</td>\n",
       "      <td>17</td>\n",
       "      <td>9</td>\n",
       "      <td>5</td>\n",
       "    </tr>\n",
       "    <tr>\n",
       "      <th>31381</th>\n",
       "      <td>503260</td>\n",
       "      <td>852554</td>\n",
       "      <td>broiled salmon with spice pomade   alton brown</td>\n",
       "      <td>70</td>\n",
       "      <td>14</td>\n",
       "      <td>11</td>\n",
       "      <td>5</td>\n",
       "    </tr>\n",
       "    <tr>\n",
       "      <th>268</th>\n",
       "      <td>443640</td>\n",
       "      <td>1751920</td>\n",
       "      <td>he proposed   red velvet cake</td>\n",
       "      <td>50</td>\n",
       "      <td>19</td>\n",
       "      <td>13</td>\n",
       "      <td>5</td>\n",
       "    </tr>\n",
       "    <tr>\n",
       "      <th>103245</th>\n",
       "      <td>299064</td>\n",
       "      <td>114317</td>\n",
       "      <td>healthy banana pineapple muffins</td>\n",
       "      <td>45</td>\n",
       "      <td>7</td>\n",
       "      <td>13</td>\n",
       "      <td>5</td>\n",
       "    </tr>\n",
       "    <tr>\n",
       "      <th>192129</th>\n",
       "      <td>296105</td>\n",
       "      <td>486725</td>\n",
       "      <td>smashed loaded potatoes  low fat</td>\n",
       "      <td>15</td>\n",
       "      <td>8</td>\n",
       "      <td>7</td>\n",
       "      <td>4</td>\n",
       "    </tr>\n",
       "  </tbody>\n",
       "</table>\n",
       "</div>"
      ],
      "text/plain": [
       "            id  contributor_id  \\\n",
       "229722  454403         1458294   \n",
       "31381   503260          852554   \n",
       "268     443640         1751920   \n",
       "103245  299064          114317   \n",
       "192129  296105          486725   \n",
       "\n",
       "                                                  name  minutes  n_steps  \\\n",
       "229722                        whole wheat raisin bread      155       17   \n",
       "31381   broiled salmon with spice pomade   alton brown       70       14   \n",
       "268                      he proposed   red velvet cake       50       19   \n",
       "103245                healthy banana pineapple muffins       45        7   \n",
       "192129                smashed loaded potatoes  low fat       15        8   \n",
       "\n",
       "        n_ingredients  rating  \n",
       "229722              9       5  \n",
       "31381              11       5  \n",
       "268                13       5  \n",
       "103245             13       5  \n",
       "192129              7       4  "
      ]
     },
     "execution_count": 13,
     "metadata": {},
     "output_type": "execute_result"
    }
   ],
   "source": [
    "merged = merged_unclean[['id', 'contributor_id', 'name', 'minutes', 'n_steps', 'n_ingredients', 'rating']]\n",
    "merged.sample(5)"
   ]
  },
  {
   "cell_type": "code",
   "execution_count": 14,
   "metadata": {
    "collapsed": true,
    "jupyter": {
     "outputs_hidden": true
    }
   },
   "outputs": [
    {
     "data": {
      "text/plain": [
       "rating\n",
       "5    169676\n",
       "4     37307\n",
       "0     15035\n",
       "3      7172\n",
       "1      2870\n",
       "2      2368\n",
       "Name: count, dtype: int64"
      ]
     },
     "execution_count": 14,
     "metadata": {},
     "output_type": "execute_result"
    }
   ],
   "source": [
    "merged['rating'].value_counts()"
   ]
  },
  {
   "cell_type": "code",
   "execution_count": 33,
   "metadata": {},
   "outputs": [
    {
     "data": {
      "text/html": [
       "<div>\n",
       "<style scoped>\n",
       "    .dataframe tbody tr th:only-of-type {\n",
       "        vertical-align: middle;\n",
       "    }\n",
       "\n",
       "    .dataframe tbody tr th {\n",
       "        vertical-align: top;\n",
       "    }\n",
       "\n",
       "    .dataframe thead th {\n",
       "        text-align: right;\n",
       "    }\n",
       "</style>\n",
       "<table border=\"1\" class=\"dataframe\">\n",
       "  <thead>\n",
       "    <tr style=\"text-align: right;\">\n",
       "      <th></th>\n",
       "      <th>id</th>\n",
       "      <th>contributor_id</th>\n",
       "      <th>name</th>\n",
       "      <th>minutes</th>\n",
       "      <th>n_steps</th>\n",
       "      <th>n_ingredients</th>\n",
       "      <th>rating</th>\n",
       "    </tr>\n",
       "  </thead>\n",
       "  <tbody>\n",
       "    <tr>\n",
       "      <th>70181</th>\n",
       "      <td>356724</td>\n",
       "      <td>467583</td>\n",
       "      <td>death by chocolate a la trellis</td>\n",
       "      <td>1680</td>\n",
       "      <td>100</td>\n",
       "      <td>19</td>\n",
       "      <td>5</td>\n",
       "    </tr>\n",
       "    <tr>\n",
       "      <th>70180</th>\n",
       "      <td>356724</td>\n",
       "      <td>467583</td>\n",
       "      <td>death by chocolate a la trellis</td>\n",
       "      <td>1680</td>\n",
       "      <td>100</td>\n",
       "      <td>19</td>\n",
       "      <td>5</td>\n",
       "    </tr>\n",
       "    <tr>\n",
       "      <th>70179</th>\n",
       "      <td>356724</td>\n",
       "      <td>467583</td>\n",
       "      <td>death by chocolate a la trellis</td>\n",
       "      <td>1680</td>\n",
       "      <td>100</td>\n",
       "      <td>19</td>\n",
       "      <td>5</td>\n",
       "    </tr>\n",
       "    <tr>\n",
       "      <th>222804</th>\n",
       "      <td>537089</td>\n",
       "      <td>2002205938</td>\n",
       "      <td>vampire s kiss cake</td>\n",
       "      <td>2930</td>\n",
       "      <td>98</td>\n",
       "      <td>18</td>\n",
       "      <td>5</td>\n",
       "    </tr>\n",
       "    <tr>\n",
       "      <th>23669</th>\n",
       "      <td>454787</td>\n",
       "      <td>746976</td>\n",
       "      <td>best authentic mexican tamales ever</td>\n",
       "      <td>360</td>\n",
       "      <td>93</td>\n",
       "      <td>13</td>\n",
       "      <td>0</td>\n",
       "    </tr>\n",
       "  </tbody>\n",
       "</table>\n",
       "</div>"
      ],
      "text/plain": [
       "            id  contributor_id                                 name  minutes  \\\n",
       "70181   356724          467583      death by chocolate a la trellis     1680   \n",
       "70180   356724          467583      death by chocolate a la trellis     1680   \n",
       "70179   356724          467583      death by chocolate a la trellis     1680   \n",
       "222804  537089      2002205938                  vampire s kiss cake     2930   \n",
       "23669   454787          746976  best authentic mexican tamales ever      360   \n",
       "\n",
       "        n_steps  n_ingredients  rating  \n",
       "70181       100             19       5  \n",
       "70180       100             19       5  \n",
       "70179       100             19       5  \n",
       "222804       98             18       5  \n",
       "23669        93             13       0  "
      ]
     },
     "execution_count": 33,
     "metadata": {},
     "output_type": "execute_result"
    }
   ],
   "source": [
    "merged.sort_values('n_steps', ascending=False).head()"
   ]
  },
  {
   "cell_type": "markdown",
   "metadata": {},
   "source": [
    "### Univariate Analysis\n",
    "This plot shows the distribution of ratings between recipes. As shown by the plot, most of the recipes have a 5-star rating. There are also a few recipes with a 0 rating, indicating that the user did not leave a rating for their posted comment. This does not mean that the user rated the recipe poorly, but that they chose not to rate the recipe. Given our goal, keeping these 0-star ratings would give inaccurate final results, so we chose to drop these recipes from our dataset. "
   ]
  },
  {
   "cell_type": "code",
   "execution_count": null,
   "metadata": {},
   "outputs": [],
   "source": [
    "fig = (\n",
    "    merged['rating']\n",
    "    .value_counts()\n",
    "    .plot(\n",
    "        kind='bar',\n",
    "        title='Frequency of Ratings'\n",
    "    )\n",
    ")\n",
    "fig.write_html('uniAnalysis.html', include_plotlyjs='cdn')"
   ]
  },
  {
   "cell_type": "code",
   "execution_count": 16,
   "metadata": {},
   "outputs": [],
   "source": [
    "merged_non_zero = merged[merged['rating'] != 0]"
   ]
  },
  {
   "cell_type": "markdown",
   "metadata": {},
   "source": [
    "### Bivariate Analysis\n",
    "This plot measures the average rating, number of steps, and number of ingredients in each recipe. Typically, as the number of steps increases, so does the preparation time for the recipe. Likewise, when the number of steps increases, so does the number of ingredients. "
   ]
  },
  {
   "cell_type": "code",
   "execution_count": null,
   "metadata": {},
   "outputs": [],
   "source": [
    "fig = (\n",
    "    merged_non_zero\n",
    "    .plot(\n",
    "        kind='box',\n",
    "        title='Ratings vs Minutes',\n",
    "        x='rating',\n",
    "        y='minutes'\n",
    "    )\n",
    ")\n",
    "#fig.write_html('uniAnalysis.html', include_plotlyjs='cdn')\n",
    "fig"
   ]
  },
  {
   "cell_type": "markdown",
   "metadata": {},
   "source": [
    "This plot measures the average rating, number of steps, and minutes to prepare each recipe in the dataset. Both plots are heavily skewed to the left, with most recipes not taking very long; however, there are a few recipes that take over 200,000 minutes. "
   ]
  },
  {
   "cell_type": "code",
   "execution_count": null,
   "metadata": {},
   "outputs": [],
   "source": [
    "fig = px.scatter(\n",
    "    merged_non_zero,\n",
    "    x='minutes',\n",
    "    y='n_steps',\n",
    "    hover_name='name',\n",
    "    color='n_ingredients',\n",
    "    title='Minutes vs. Number of Steps vs. Ingredients',\n",
    ")\n",
    "\n",
    "fig.update_layout(\n",
    "    xaxis_title='Minutes',\n",
    "    yaxis_title='Number of Steps',\n",
    "    legend_title='Number of Ingredients'\n",
    ")\n",
    "fig.show()\n",
    "fig.write_html('bivAnalysisPT2.html', include_plotlyjs='cdn')"
   ]
  },
  {
   "cell_type": "markdown",
   "metadata": {},
   "source": [
    "### Interesting Aggregates\n",
    "When constructing the bivariate analysis of the dataset, we were curious about the recipes with the longest preparation time. We came across one recipe with a strange title. Taking over 1 million minutes, \"How to Preserve a Husband\" has 2 ingredients (cream and peaches) and 2 five-star reviews. "
   ]
  },
  {
   "cell_type": "code",
   "execution_count": null,
   "metadata": {},
   "outputs": [],
   "source": [
    "pOut = merged_non_zero.sort_values('minutes', ascending=False).head(7).groupby('name').first().drop('contributor_id', axis=1).drop('id', axis=1).sort_values('minutes', ascending=False)\n",
    "print(pOut)"
   ]
  },
  {
   "cell_type": "markdown",
   "metadata": {},
   "source": [
    "### Imputation\n",
    "While cleaning the data, we found that there are no missing values in the dataset. For some recipes, there are 0 ratings for that recipe, and that would then be converted to a NAN value. Due to the model we created, the recipes with zero reviews are not useful and were removed. "
   ]
  },
  {
   "cell_type": "markdown",
   "metadata": {},
   "source": [
    "## Step 3: Framing a Prediction Problem"
   ]
  },
  {
   "cell_type": "markdown",
   "metadata": {
    "ExecuteTime": {
     "end_time": "2019-10-31T23:36:28.657068Z",
     "start_time": "2019-10-31T23:36:28.654650Z"
    }
   },
   "source": [
    "## Problem Identification\n",
    "What is the average rating for a recipe based on its \"complexity\"? We have defined recipe \"complexity\" as the number of ingredients, the number of minutes it takes to complete, and the number of steps included. In order to do this, we constructed a regression model to predict the recipe's start rating of 0 - 5. \n",
    "- **Type of Problem:** Our goal was to predict a numerical value: the average recipe rating based on complexity. Since this rating is a continuous variable, we were dealing with a regression problem rather than a classification problem.\n",
    "- **Evaluation Metric:** We used Mean Squared Error (MSE) as our primary evaluation metric. MSE is well-suited for regression tasks because it directly measures the squared difference between predicted ratings and actual ratings. MSE penalizes large errors and prioritizes accuracy on recipes that would otherwise be error-prone. This was particularly useful in our case due to the several extremely long recipes."
   ]
  },
  {
   "cell_type": "markdown",
   "metadata": {},
   "source": [
    "## Step 4: Baseline Model"
   ]
  },
  {
   "cell_type": "markdown",
   "metadata": {},
   "source": [
    "## Baseline Model\n",
    "For the baseline model, we chose to use a linear regression model to predict the ratings. We used three features from the recipes data set that were mentioned in our definition of complexity. <br>\n",
    "*Features*\n",
    "1. `n_ingredients` (quantitative): The number of ingredients a recipe requires\n",
    "2. `minutes` (quantitative): The number of minutes it takes to complete a recipe\n",
    "3. `n_steps` (quantitative): The number of steps it takes to complete a recipe\n",
    "Since all of the features selected here are quantitative, we did not have to perform any encoding.\n",
    "\n",
    "**Model Performance**<br>\n",
    "As stated, we evaluated the performance of our model using Mean Squared Error. The MSE of this model is approximately 0.505. In the context of the rating scale, our model has a prediction error of about `sqrt(0.505) = 0.71`. This means that if a true rating is 3.0, our model will predict that the recipe is anywhere from 2.3 to 3.7 stars. This model is not optimal due to the large variance in possible predictions. Part of this inaccuracy is due in part to the highly skewed training data. With the transformations used in the next steps, we improved the overall model prediction accuracy."
   ]
  },
  {
   "cell_type": "code",
   "execution_count": 17,
   "metadata": {},
   "outputs": [],
   "source": [
    "from sklearn.linear_model import LinearRegression\n",
    "from sklearn.preprocessing import StandardScaler\n",
    "from sklearn.pipeline import Pipeline, make_pipeline\n",
    "from sklearn.metrics import mean_squared_error"
   ]
  },
  {
   "cell_type": "code",
   "execution_count": 18,
   "metadata": {},
   "outputs": [
    {
     "data": {
      "text/plain": [
       "0.5047532308413739"
      ]
     },
     "execution_count": 18,
     "metadata": {},
     "output_type": "execute_result"
    }
   ],
   "source": [
    "model_simple = LinearRegression()\n",
    "model_simple.fit(X=merged_non_zero[['n_ingredients', 'minutes', 'n_steps']], y=merged_non_zero['rating'])\n",
    "simple_mse = mean_squared_error(merged_non_zero['rating'], model_simple.predict(merged_non_zero[['n_ingredients', 'minutes', 'n_steps']]))\n",
    "simple_mse"
   ]
  },
  {
   "cell_type": "markdown",
   "metadata": {},
   "source": [
    "## Step 5: Final Model\n",
    "In the baseline model, we used the raw values of `n_ingredients`, `minutes`, and `n_steps` to predict the `rating`. This method was not robust to the large outliers that we found in the dataset. In order to account for this, we added features that standardized the data while still keeping the complexity of a recipe intact. \n",
    "\n",
    "**New Features**\n",
    "1. **QuantitativeTransformer**: We utilized this transformer on all of the columns from the baseline model to account for the extreme outliers. This created a uniform distribution of the data, which was crucial for decreasing MSE. MSE is very susceptible to large outliers, and this transformer improved our results.\n",
    "2. **PolynomialFeatures**: A recipe’s complexity, as we defined it, doesn’t affect ratings strictly linearly. Very basic recipes might appeal to cooks looking for quick meals, while highly intricate ones cater to enthusiasts willing to invest more time. By adding polynomial terms, our model can flexibly fit these subtler patterns instead of forcing a purely linear relationship.\n",
    "\n",
    "**Modeling Algorithm & Hyperparameters**:\n",
    "We decided to stick with the Linear Regression model because our newly added features account for outliers and adjusting the degree of predictions. For the hyperparameters, we tuned the PolynomialFeature degree. We utlized GridSearchCV to try all degrees between 1 and 9 inclusive. With that method, we found that the best degree was a degree 4 polynomial. \n",
    "\n",
    "**Performance Enhancements**:\n",
    "As stated previously, our baseline model achieved an MSE of 0.505. Our new model achieved a modest improvement, reducing the MSE to 0.503. This final model adjusts for outliers, which was the main factor in decreasing the MSE, and produces predictions that are more accurate relative to the true center of the data. Moving forward, this outlier‑robust approach can be extended with additional regularization or alternative loss functions to further enhance model stability and predictive performance.\n",
    "\n",
    "**Model Performance Plots**:\n",
    "To model our model's performance, we needed to keep one of the variables constant. Pictured below are 3D plots to help visualize performance when one variable is kept at the constant median of that variable. Some interesting points provided by these plots are that when steps are held constant, the model performs poorly when minutes are low, and there are 10 ingredients. It could be true that recipes advertising short preparation times but demanding many ingredients may frustrate users, or low-minute, 10-ingredient recipes are rare. Another interesting point is that the model performs best when minutes are kept consistent and ingredients and steps are varied. This is most likely due to the large time-based outliers present in the data. Under these conditions, it performs worse when there are few steps and few ingredients, suggesting that users do not look for or make incredibly simple recipes, such as a baked potato or cereal.\n"
   ]
  },
  {
   "cell_type": "code",
   "execution_count": 20,
   "metadata": {
    "ExecuteTime": {
     "end_time": "2019-10-31T23:36:28.662099Z",
     "start_time": "2019-10-31T23:36:28.660016Z"
    }
   },
   "outputs": [
    {
     "data": {
      "text/plain": [
       "0.5034706516465115"
      ]
     },
     "execution_count": 20,
     "metadata": {},
     "output_type": "execute_result"
    }
   ],
   "source": [
    "from sklearn.preprocessing import PolynomialFeatures\n",
    "from sklearn.model_selection import GridSearchCV\n",
    "from sklearn.compose import ColumnTransformer, make_column_transformer\n",
    "from sklearn.preprocessing import QuantileTransformer\n",
    "\n",
    "def create_pipe_cross_validated_degree(X_train, y_train):\n",
    "    preprocessing = make_column_transformer(\n",
    "        (QuantileTransformer(), ['n_ingredients', 'minutes', 'n_steps']),\n",
    "        remainder='drop'\n",
    "    )\n",
    "    \n",
    "    hyperparams = {\n",
    "        'polynomialfeatures__degree': range(1, 10)\n",
    "    }\n",
    "    \n",
    "    model_regularized = GridSearchCV(\n",
    "        estimator=make_pipeline(preprocessing, PolynomialFeatures(include_bias=False), LinearRegression()),\n",
    "        param_grid=hyperparams,\n",
    "        scoring='neg_mean_squared_error'\n",
    "    )\n",
    "    return model_regularized.fit(X_train, y_train)\n",
    "\n",
    "model_cross = create_pipe_cross_validated_degree(merged_non_zero[['n_ingredients', 'minutes', 'n_steps']], merged_non_zero['rating'])\n",
    "cross_mse = mean_squared_error(merged_non_zero['rating'], model_cross.predict(merged_non_zero[['n_ingredients', 'minutes', 'n_steps']]))\n",
    "\n",
    "cross_mse"
   ]
  },
  {
   "cell_type": "code",
   "execution_count": 27,
   "metadata": {},
   "outputs": [
    {
     "data": {
      "application/vnd.plotly.v1+json": {
       "config": {
        "plotlyServerURL": "https://plot.ly"
       },
       "data": [
        {
         "colorscale": [
          [
           0,
           "rgb(150,0,90)"
          ],
          [
           0.125,
           "rgb(0,0,200)"
          ],
          [
           0.25,
           "rgb(0,25,255)"
          ],
          [
           0.375,
           "rgb(0,152,255)"
          ],
          [
           0.5,
           "rgb(44,255,150)"
          ],
          [
           0.625,
           "rgb(151,255,0)"
          ],
          [
           0.75,
           "rgb(255,234,0)"
          ],
          [
           0.875,
           "rgb(255,111,0)"
          ],
          [
           1,
           "rgb(255,0,0)"
          ]
         ],
         "type": "surface",
         "x": [
          [
           1,
           1,
           1,
           1,
           1,
           1,
           1,
           1,
           1,
           1,
           1,
           1,
           1,
           1,
           1,
           1,
           1,
           1,
           1,
           1
          ],
          [
           2.894736842105263,
           2.894736842105263,
           2.894736842105263,
           2.894736842105263,
           2.894736842105263,
           2.894736842105263,
           2.894736842105263,
           2.894736842105263,
           2.894736842105263,
           2.894736842105263,
           2.894736842105263,
           2.894736842105263,
           2.894736842105263,
           2.894736842105263,
           2.894736842105263,
           2.894736842105263,
           2.894736842105263,
           2.894736842105263,
           2.894736842105263,
           2.894736842105263
          ],
          [
           4.789473684210526,
           4.789473684210526,
           4.789473684210526,
           4.789473684210526,
           4.789473684210526,
           4.789473684210526,
           4.789473684210526,
           4.789473684210526,
           4.789473684210526,
           4.789473684210526,
           4.789473684210526,
           4.789473684210526,
           4.789473684210526,
           4.789473684210526,
           4.789473684210526,
           4.789473684210526,
           4.789473684210526,
           4.789473684210526,
           4.789473684210526,
           4.789473684210526
          ],
          [
           6.684210526315789,
           6.684210526315789,
           6.684210526315789,
           6.684210526315789,
           6.684210526315789,
           6.684210526315789,
           6.684210526315789,
           6.684210526315789,
           6.684210526315789,
           6.684210526315789,
           6.684210526315789,
           6.684210526315789,
           6.684210526315789,
           6.684210526315789,
           6.684210526315789,
           6.684210526315789,
           6.684210526315789,
           6.684210526315789,
           6.684210526315789,
           6.684210526315789
          ],
          [
           8.578947368421051,
           8.578947368421051,
           8.578947368421051,
           8.578947368421051,
           8.578947368421051,
           8.578947368421051,
           8.578947368421051,
           8.578947368421051,
           8.578947368421051,
           8.578947368421051,
           8.578947368421051,
           8.578947368421051,
           8.578947368421051,
           8.578947368421051,
           8.578947368421051,
           8.578947368421051,
           8.578947368421051,
           8.578947368421051,
           8.578947368421051,
           8.578947368421051
          ],
          [
           10.473684210526315,
           10.473684210526315,
           10.473684210526315,
           10.473684210526315,
           10.473684210526315,
           10.473684210526315,
           10.473684210526315,
           10.473684210526315,
           10.473684210526315,
           10.473684210526315,
           10.473684210526315,
           10.473684210526315,
           10.473684210526315,
           10.473684210526315,
           10.473684210526315,
           10.473684210526315,
           10.473684210526315,
           10.473684210526315,
           10.473684210526315,
           10.473684210526315
          ],
          [
           12.368421052631579,
           12.368421052631579,
           12.368421052631579,
           12.368421052631579,
           12.368421052631579,
           12.368421052631579,
           12.368421052631579,
           12.368421052631579,
           12.368421052631579,
           12.368421052631579,
           12.368421052631579,
           12.368421052631579,
           12.368421052631579,
           12.368421052631579,
           12.368421052631579,
           12.368421052631579,
           12.368421052631579,
           12.368421052631579,
           12.368421052631579,
           12.368421052631579
          ],
          [
           14.26315789473684,
           14.26315789473684,
           14.26315789473684,
           14.26315789473684,
           14.26315789473684,
           14.26315789473684,
           14.26315789473684,
           14.26315789473684,
           14.26315789473684,
           14.26315789473684,
           14.26315789473684,
           14.26315789473684,
           14.26315789473684,
           14.26315789473684,
           14.26315789473684,
           14.26315789473684,
           14.26315789473684,
           14.26315789473684,
           14.26315789473684,
           14.26315789473684
          ],
          [
           16.157894736842103,
           16.157894736842103,
           16.157894736842103,
           16.157894736842103,
           16.157894736842103,
           16.157894736842103,
           16.157894736842103,
           16.157894736842103,
           16.157894736842103,
           16.157894736842103,
           16.157894736842103,
           16.157894736842103,
           16.157894736842103,
           16.157894736842103,
           16.157894736842103,
           16.157894736842103,
           16.157894736842103,
           16.157894736842103,
           16.157894736842103,
           16.157894736842103
          ],
          [
           18.052631578947366,
           18.052631578947366,
           18.052631578947366,
           18.052631578947366,
           18.052631578947366,
           18.052631578947366,
           18.052631578947366,
           18.052631578947366,
           18.052631578947366,
           18.052631578947366,
           18.052631578947366,
           18.052631578947366,
           18.052631578947366,
           18.052631578947366,
           18.052631578947366,
           18.052631578947366,
           18.052631578947366,
           18.052631578947366,
           18.052631578947366,
           18.052631578947366
          ],
          [
           19.94736842105263,
           19.94736842105263,
           19.94736842105263,
           19.94736842105263,
           19.94736842105263,
           19.94736842105263,
           19.94736842105263,
           19.94736842105263,
           19.94736842105263,
           19.94736842105263,
           19.94736842105263,
           19.94736842105263,
           19.94736842105263,
           19.94736842105263,
           19.94736842105263,
           19.94736842105263,
           19.94736842105263,
           19.94736842105263,
           19.94736842105263,
           19.94736842105263
          ],
          [
           21.842105263157894,
           21.842105263157894,
           21.842105263157894,
           21.842105263157894,
           21.842105263157894,
           21.842105263157894,
           21.842105263157894,
           21.842105263157894,
           21.842105263157894,
           21.842105263157894,
           21.842105263157894,
           21.842105263157894,
           21.842105263157894,
           21.842105263157894,
           21.842105263157894,
           21.842105263157894,
           21.842105263157894,
           21.842105263157894,
           21.842105263157894,
           21.842105263157894
          ],
          [
           23.736842105263158,
           23.736842105263158,
           23.736842105263158,
           23.736842105263158,
           23.736842105263158,
           23.736842105263158,
           23.736842105263158,
           23.736842105263158,
           23.736842105263158,
           23.736842105263158,
           23.736842105263158,
           23.736842105263158,
           23.736842105263158,
           23.736842105263158,
           23.736842105263158,
           23.736842105263158,
           23.736842105263158,
           23.736842105263158,
           23.736842105263158,
           23.736842105263158
          ],
          [
           25.63157894736842,
           25.63157894736842,
           25.63157894736842,
           25.63157894736842,
           25.63157894736842,
           25.63157894736842,
           25.63157894736842,
           25.63157894736842,
           25.63157894736842,
           25.63157894736842,
           25.63157894736842,
           25.63157894736842,
           25.63157894736842,
           25.63157894736842,
           25.63157894736842,
           25.63157894736842,
           25.63157894736842,
           25.63157894736842,
           25.63157894736842,
           25.63157894736842
          ],
          [
           27.52631578947368,
           27.52631578947368,
           27.52631578947368,
           27.52631578947368,
           27.52631578947368,
           27.52631578947368,
           27.52631578947368,
           27.52631578947368,
           27.52631578947368,
           27.52631578947368,
           27.52631578947368,
           27.52631578947368,
           27.52631578947368,
           27.52631578947368,
           27.52631578947368,
           27.52631578947368,
           27.52631578947368,
           27.52631578947368,
           27.52631578947368,
           27.52631578947368
          ],
          [
           29.421052631578945,
           29.421052631578945,
           29.421052631578945,
           29.421052631578945,
           29.421052631578945,
           29.421052631578945,
           29.421052631578945,
           29.421052631578945,
           29.421052631578945,
           29.421052631578945,
           29.421052631578945,
           29.421052631578945,
           29.421052631578945,
           29.421052631578945,
           29.421052631578945,
           29.421052631578945,
           29.421052631578945,
           29.421052631578945,
           29.421052631578945,
           29.421052631578945
          ],
          [
           31.31578947368421,
           31.31578947368421,
           31.31578947368421,
           31.31578947368421,
           31.31578947368421,
           31.31578947368421,
           31.31578947368421,
           31.31578947368421,
           31.31578947368421,
           31.31578947368421,
           31.31578947368421,
           31.31578947368421,
           31.31578947368421,
           31.31578947368421,
           31.31578947368421,
           31.31578947368421,
           31.31578947368421,
           31.31578947368421,
           31.31578947368421,
           31.31578947368421
          ],
          [
           33.21052631578947,
           33.21052631578947,
           33.21052631578947,
           33.21052631578947,
           33.21052631578947,
           33.21052631578947,
           33.21052631578947,
           33.21052631578947,
           33.21052631578947,
           33.21052631578947,
           33.21052631578947,
           33.21052631578947,
           33.21052631578947,
           33.21052631578947,
           33.21052631578947,
           33.21052631578947,
           33.21052631578947,
           33.21052631578947,
           33.21052631578947,
           33.21052631578947
          ],
          [
           35.10526315789473,
           35.10526315789473,
           35.10526315789473,
           35.10526315789473,
           35.10526315789473,
           35.10526315789473,
           35.10526315789473,
           35.10526315789473,
           35.10526315789473,
           35.10526315789473,
           35.10526315789473,
           35.10526315789473,
           35.10526315789473,
           35.10526315789473,
           35.10526315789473,
           35.10526315789473,
           35.10526315789473,
           35.10526315789473,
           35.10526315789473,
           35.10526315789473
          ],
          [
           37,
           37,
           37,
           37,
           37,
           37,
           37,
           37,
           37,
           37,
           37,
           37,
           37,
           37,
           37,
           37,
           37,
           37,
           37,
           37
          ]
         ],
         "y": [
          [
           0,
           55326.31578947369,
           110652.63157894737,
           165978.94736842107,
           221305.26315789475,
           276631.5789473684,
           331957.89473684214,
           387284.2105263158,
           442610.5263157895,
           497936.8421052632,
           553263.1578947369,
           608589.4736842106,
           663915.7894736843,
           719242.105263158,
           774568.4210526316,
           829894.7368421053,
           885221.052631579,
           940547.3684210527,
           995873.6842105264,
           1051200
          ],
          [
           0,
           55326.31578947369,
           110652.63157894737,
           165978.94736842107,
           221305.26315789475,
           276631.5789473684,
           331957.89473684214,
           387284.2105263158,
           442610.5263157895,
           497936.8421052632,
           553263.1578947369,
           608589.4736842106,
           663915.7894736843,
           719242.105263158,
           774568.4210526316,
           829894.7368421053,
           885221.052631579,
           940547.3684210527,
           995873.6842105264,
           1051200
          ],
          [
           0,
           55326.31578947369,
           110652.63157894737,
           165978.94736842107,
           221305.26315789475,
           276631.5789473684,
           331957.89473684214,
           387284.2105263158,
           442610.5263157895,
           497936.8421052632,
           553263.1578947369,
           608589.4736842106,
           663915.7894736843,
           719242.105263158,
           774568.4210526316,
           829894.7368421053,
           885221.052631579,
           940547.3684210527,
           995873.6842105264,
           1051200
          ],
          [
           0,
           55326.31578947369,
           110652.63157894737,
           165978.94736842107,
           221305.26315789475,
           276631.5789473684,
           331957.89473684214,
           387284.2105263158,
           442610.5263157895,
           497936.8421052632,
           553263.1578947369,
           608589.4736842106,
           663915.7894736843,
           719242.105263158,
           774568.4210526316,
           829894.7368421053,
           885221.052631579,
           940547.3684210527,
           995873.6842105264,
           1051200
          ],
          [
           0,
           55326.31578947369,
           110652.63157894737,
           165978.94736842107,
           221305.26315789475,
           276631.5789473684,
           331957.89473684214,
           387284.2105263158,
           442610.5263157895,
           497936.8421052632,
           553263.1578947369,
           608589.4736842106,
           663915.7894736843,
           719242.105263158,
           774568.4210526316,
           829894.7368421053,
           885221.052631579,
           940547.3684210527,
           995873.6842105264,
           1051200
          ],
          [
           0,
           55326.31578947369,
           110652.63157894737,
           165978.94736842107,
           221305.26315789475,
           276631.5789473684,
           331957.89473684214,
           387284.2105263158,
           442610.5263157895,
           497936.8421052632,
           553263.1578947369,
           608589.4736842106,
           663915.7894736843,
           719242.105263158,
           774568.4210526316,
           829894.7368421053,
           885221.052631579,
           940547.3684210527,
           995873.6842105264,
           1051200
          ],
          [
           0,
           55326.31578947369,
           110652.63157894737,
           165978.94736842107,
           221305.26315789475,
           276631.5789473684,
           331957.89473684214,
           387284.2105263158,
           442610.5263157895,
           497936.8421052632,
           553263.1578947369,
           608589.4736842106,
           663915.7894736843,
           719242.105263158,
           774568.4210526316,
           829894.7368421053,
           885221.052631579,
           940547.3684210527,
           995873.6842105264,
           1051200
          ],
          [
           0,
           55326.31578947369,
           110652.63157894737,
           165978.94736842107,
           221305.26315789475,
           276631.5789473684,
           331957.89473684214,
           387284.2105263158,
           442610.5263157895,
           497936.8421052632,
           553263.1578947369,
           608589.4736842106,
           663915.7894736843,
           719242.105263158,
           774568.4210526316,
           829894.7368421053,
           885221.052631579,
           940547.3684210527,
           995873.6842105264,
           1051200
          ],
          [
           0,
           55326.31578947369,
           110652.63157894737,
           165978.94736842107,
           221305.26315789475,
           276631.5789473684,
           331957.89473684214,
           387284.2105263158,
           442610.5263157895,
           497936.8421052632,
           553263.1578947369,
           608589.4736842106,
           663915.7894736843,
           719242.105263158,
           774568.4210526316,
           829894.7368421053,
           885221.052631579,
           940547.3684210527,
           995873.6842105264,
           1051200
          ],
          [
           0,
           55326.31578947369,
           110652.63157894737,
           165978.94736842107,
           221305.26315789475,
           276631.5789473684,
           331957.89473684214,
           387284.2105263158,
           442610.5263157895,
           497936.8421052632,
           553263.1578947369,
           608589.4736842106,
           663915.7894736843,
           719242.105263158,
           774568.4210526316,
           829894.7368421053,
           885221.052631579,
           940547.3684210527,
           995873.6842105264,
           1051200
          ],
          [
           0,
           55326.31578947369,
           110652.63157894737,
           165978.94736842107,
           221305.26315789475,
           276631.5789473684,
           331957.89473684214,
           387284.2105263158,
           442610.5263157895,
           497936.8421052632,
           553263.1578947369,
           608589.4736842106,
           663915.7894736843,
           719242.105263158,
           774568.4210526316,
           829894.7368421053,
           885221.052631579,
           940547.3684210527,
           995873.6842105264,
           1051200
          ],
          [
           0,
           55326.31578947369,
           110652.63157894737,
           165978.94736842107,
           221305.26315789475,
           276631.5789473684,
           331957.89473684214,
           387284.2105263158,
           442610.5263157895,
           497936.8421052632,
           553263.1578947369,
           608589.4736842106,
           663915.7894736843,
           719242.105263158,
           774568.4210526316,
           829894.7368421053,
           885221.052631579,
           940547.3684210527,
           995873.6842105264,
           1051200
          ],
          [
           0,
           55326.31578947369,
           110652.63157894737,
           165978.94736842107,
           221305.26315789475,
           276631.5789473684,
           331957.89473684214,
           387284.2105263158,
           442610.5263157895,
           497936.8421052632,
           553263.1578947369,
           608589.4736842106,
           663915.7894736843,
           719242.105263158,
           774568.4210526316,
           829894.7368421053,
           885221.052631579,
           940547.3684210527,
           995873.6842105264,
           1051200
          ],
          [
           0,
           55326.31578947369,
           110652.63157894737,
           165978.94736842107,
           221305.26315789475,
           276631.5789473684,
           331957.89473684214,
           387284.2105263158,
           442610.5263157895,
           497936.8421052632,
           553263.1578947369,
           608589.4736842106,
           663915.7894736843,
           719242.105263158,
           774568.4210526316,
           829894.7368421053,
           885221.052631579,
           940547.3684210527,
           995873.6842105264,
           1051200
          ],
          [
           0,
           55326.31578947369,
           110652.63157894737,
           165978.94736842107,
           221305.26315789475,
           276631.5789473684,
           331957.89473684214,
           387284.2105263158,
           442610.5263157895,
           497936.8421052632,
           553263.1578947369,
           608589.4736842106,
           663915.7894736843,
           719242.105263158,
           774568.4210526316,
           829894.7368421053,
           885221.052631579,
           940547.3684210527,
           995873.6842105264,
           1051200
          ],
          [
           0,
           55326.31578947369,
           110652.63157894737,
           165978.94736842107,
           221305.26315789475,
           276631.5789473684,
           331957.89473684214,
           387284.2105263158,
           442610.5263157895,
           497936.8421052632,
           553263.1578947369,
           608589.4736842106,
           663915.7894736843,
           719242.105263158,
           774568.4210526316,
           829894.7368421053,
           885221.052631579,
           940547.3684210527,
           995873.6842105264,
           1051200
          ],
          [
           0,
           55326.31578947369,
           110652.63157894737,
           165978.94736842107,
           221305.26315789475,
           276631.5789473684,
           331957.89473684214,
           387284.2105263158,
           442610.5263157895,
           497936.8421052632,
           553263.1578947369,
           608589.4736842106,
           663915.7894736843,
           719242.105263158,
           774568.4210526316,
           829894.7368421053,
           885221.052631579,
           940547.3684210527,
           995873.6842105264,
           1051200
          ],
          [
           0,
           55326.31578947369,
           110652.63157894737,
           165978.94736842107,
           221305.26315789475,
           276631.5789473684,
           331957.89473684214,
           387284.2105263158,
           442610.5263157895,
           497936.8421052632,
           553263.1578947369,
           608589.4736842106,
           663915.7894736843,
           719242.105263158,
           774568.4210526316,
           829894.7368421053,
           885221.052631579,
           940547.3684210527,
           995873.6842105264,
           1051200
          ],
          [
           0,
           55326.31578947369,
           110652.63157894737,
           165978.94736842107,
           221305.26315789475,
           276631.5789473684,
           331957.89473684214,
           387284.2105263158,
           442610.5263157895,
           497936.8421052632,
           553263.1578947369,
           608589.4736842106,
           663915.7894736843,
           719242.105263158,
           774568.4210526316,
           829894.7368421053,
           885221.052631579,
           940547.3684210527,
           995873.6842105264,
           1051200
          ],
          [
           0,
           55326.31578947369,
           110652.63157894737,
           165978.94736842107,
           221305.26315789475,
           276631.5789473684,
           331957.89473684214,
           387284.2105263158,
           442610.5263157895,
           497936.8421052632,
           553263.1578947369,
           608589.4736842106,
           663915.7894736843,
           719242.105263158,
           774568.4210526316,
           829894.7368421053,
           885221.052631579,
           940547.3684210527,
           995873.6842105264,
           1051200
          ]
         ],
         "z": [
          [
           4.687447865144705,
           4.705818237473207,
           4.705818237473207,
           4.705818237473207,
           4.705818237473207,
           4.705818237473207,
           4.705818237473207,
           4.705818237473207,
           4.705818237473207,
           4.705818237473207,
           4.705818237473207,
           4.705818237473207,
           4.705818237473207,
           4.705818237473207,
           4.705818237473207,
           4.705818237473207,
           4.705818237473207,
           4.705818237473207,
           4.705818237473207,
           4.705818237473207
          ],
          [
           4.680935331913334,
           4.698363599182972,
           4.698363599182972,
           4.698363599182972,
           4.698363599182972,
           4.698363599182972,
           4.698363599182972,
           4.698363599182972,
           4.698363599182972,
           4.698363599182972,
           4.698363599182972,
           4.698363599182972,
           4.698363599182972,
           4.698363599182972,
           4.698363599182972,
           4.698363599182972,
           4.698363599182972,
           4.698363599182972,
           4.698363599182972,
           4.698363599182972
          ],
          [
           4.633543366922674,
           4.646943366818704,
           4.646943366818704,
           4.646943366818704,
           4.646943366818704,
           4.646943366818704,
           4.646943366818704,
           4.646943366818704,
           4.646943366818704,
           4.646943366818704,
           4.646943366818704,
           4.646943366818704,
           4.646943366818704,
           4.646943366818704,
           4.646943366818704,
           4.646943366818704,
           4.646943366818704,
           4.646943366818704,
           4.646943366818704,
           4.646943366818704
          ],
          [
           4.568518549398142,
           4.587976783280735,
           4.587976783280735,
           4.587976783280735,
           4.587976783280735,
           4.587976783280735,
           4.587976783280735,
           4.587976783280735,
           4.587976783280735,
           4.587976783280735,
           4.587976783280735,
           4.587976783280735,
           4.587976783280735,
           4.587976783280735,
           4.587976783280735,
           4.587976783280735,
           4.587976783280735,
           4.587976783280735,
           4.587976783280735,
           4.587976783280735
          ],
          [
           4.525921675375134,
           4.561882112897933,
           4.561882112897933,
           4.561882112897933,
           4.561882112897933,
           4.561882112897933,
           4.561882112897933,
           4.561882112897933,
           4.561882112897933,
           4.561882112897933,
           4.561882112897933,
           4.561882112897933,
           4.561882112897933,
           4.561882112897933,
           4.561882112897933,
           4.561882112897933,
           4.561882112897933,
           4.561882112897933,
           4.561882112897933,
           4.561882112897933
          ],
          [
           4.522387221309626,
           4.564531560843843,
           4.564531560843843,
           4.564531560843843,
           4.564531560843843,
           4.564531560843843,
           4.564531560843843,
           4.564531560843843,
           4.564531560843843,
           4.564531560843843,
           4.564531560843843,
           4.564531560843843,
           4.564531560843843,
           4.564531560843843,
           4.564531560843843,
           4.564531560843843,
           4.564531560843843,
           4.564531560843843,
           4.564531560843843,
           4.564531560843843
          ],
          [
           4.549391993315263,
           4.579834898135145,
           4.579834898135145,
           4.579834898135145,
           4.579834898135145,
           4.579834898135145,
           4.579834898135145,
           4.579834898135145,
           4.579834898135145,
           4.579834898135145,
           4.579834898135145,
           4.579834898135143,
           4.579834898135143,
           4.579834898135145,
           4.579834898135145,
           4.579834898135145,
           4.579834898135145,
           4.579834898135145,
           4.579834898135145,
           4.579834898135145
          ],
          [
           4.584486380707905,
           4.5968961709917044,
           4.5968961709917044,
           4.5968961709917044,
           4.5968961709917044,
           4.5968961709917044,
           4.5968961709917044,
           4.5968961709917044,
           4.5968961709917044,
           4.5968961709917044,
           4.5968961709917044,
           4.5968961709917044,
           4.5968961709917044,
           4.5968961709917044,
           4.5968961709917044,
           4.5968961709917044,
           4.5968961709917044,
           4.5968961709917044,
           4.5968961709917044,
           4.5968961709917044
          ],
          [
           4.609043875168465,
           4.608387254008822,
           4.608387254008822,
           4.608387254008822,
           4.608387254008822,
           4.608387254008822,
           4.608387254008822,
           4.608387254008822,
           4.608387254008822,
           4.608387254008822,
           4.608387254008822,
           4.608387254008822,
           4.608387254008822,
           4.608387254008822,
           4.608387254008822,
           4.608387254008822,
           4.608387254008822,
           4.608387254008822,
           4.608387254008822,
           4.608387254008822
          ],
          [
           4.623189821764163,
           4.6149395608683905,
           4.6149395608683905,
           4.6149395608683905,
           4.6149395608683905,
           4.6149395608683905,
           4.6149395608683905,
           4.6149395608683905,
           4.6149395608683905,
           4.6149395608683905,
           4.6149395608683905,
           4.6149395608683905,
           4.6149395608683905,
           4.6149395608683905,
           4.6149395608683905,
           4.6149395608683905,
           4.6149395608683905,
           4.6149395608683905,
           4.614939560868387,
           4.614939560868387
          ],
          [
           4.627048091001653,
           4.616721732466766,
           4.616721732466766,
           4.616721732466766,
           4.616721732466766,
           4.616721732466766,
           4.616721732466766,
           4.616721732466766,
           4.616721732466766,
           4.616721732466766,
           4.616721732466766,
           4.616721732466766,
           4.616721732466766,
           4.616721732466766,
           4.616721732466766,
           4.616721732466766,
           4.616721732466766,
           4.616721732466766,
           4.616721732466766,
           4.616721732466766
          ],
          [
           4.6309971858920305,
           4.618544234022859,
           4.618544234022859,
           4.618544234022859,
           4.618544234022859,
           4.618544234022859,
           4.618544234022859,
           4.618544234022859,
           4.618544234022859,
           4.618544234022859,
           4.618544234022859,
           4.618544234022859,
           4.618544234022859,
           4.618544234022859,
           4.618544234022859,
           4.618544234022859,
           4.618544234022859,
           4.618544234022859,
           4.618544234022859,
           4.618544234022859
          ],
          [
           4.633656827119419,
           4.619770861998342,
           4.619770861998342,
           4.619770861998342,
           4.619770861998342,
           4.619770861998342,
           4.619770861998342,
           4.619770861998342,
           4.619770861998342,
           4.619770861998342,
           4.619770861998342,
           4.619770861998342,
           4.619770861998342,
           4.619770861998342,
           4.619770861998342,
           4.619770861998342,
           4.619770861998342,
           4.619770861998342,
           4.619770861998342,
           4.619770861998342
          ],
          [
           4.634400773575562,
           4.620113868856197,
           4.620113868856197,
           4.620113868856197,
           4.620113868856197,
           4.620113868856197,
           4.620113868856197,
           4.620113868856197,
           4.620113868856197,
           4.620113868856197,
           4.620113868856197,
           4.620113868856197,
           4.620113868856197,
           4.620113868856197,
           4.620113868856197,
           4.620113868856197,
           4.620113868856197,
           4.620113868856197,
           4.620113868856197,
           4.620113868856197
          ],
          [
           4.634739298843043,
           4.620269936806682,
           4.620269936806682,
           4.620269936806682,
           4.620269936806682,
           4.620269936806682,
           4.620269936806682,
           4.620269936806682,
           4.620269936806682,
           4.620269936806682,
           4.620269936806682,
           4.620269936806682,
           4.620269936806682,
           4.620269936806682,
           4.620269936806682,
           4.620269936806682,
           4.620269936806682,
           4.620269936806682,
           4.620269936806682,
           4.620269936806682
          ],
          [
           4.635001824058575,
           4.62039096115879,
           4.62039096115879,
           4.62039096115879,
           4.62039096115879,
           4.62039096115879,
           4.62039096115879,
           4.62039096115879,
           4.62039096115879,
           4.62039096115879,
           4.62039096115879,
           4.62039096115879,
           4.62039096115879,
           4.62039096115879,
           4.62039096115879,
           4.62039096115879,
           4.62039096115879,
           4.62039096115879,
           4.62039096115879,
           4.62039096115879
          ],
          [
           4.635220889422537,
           4.620491946642116,
           4.620491946642116,
           4.620491946642116,
           4.620491946642116,
           4.620491946642116,
           4.620491946642116,
           4.620491946642116,
           4.620491946642116,
           4.620491946642116,
           4.620491946642116,
           4.620491946642116,
           4.620491946642116,
           4.620491946642116,
           4.620491946642116,
           4.620491946642116,
           4.620491946642116,
           4.620491946642116,
           4.620491946642116,
           4.620491946642116
          ],
          [
           4.635220889422537,
           4.620491946642116,
           4.620491946642116,
           4.620491946642116,
           4.620491946642116,
           4.620491946642116,
           4.620491946642116,
           4.620491946642116,
           4.620491946642116,
           4.620491946642116,
           4.620491946642116,
           4.620491946642116,
           4.620491946642116,
           4.620491946642116,
           4.620491946642116,
           4.620491946642116,
           4.620491946642116,
           4.620491946642116,
           4.620491946642116,
           4.620491946642116
          ],
          [
           4.635220889422537,
           4.620491946642116,
           4.620491946642116,
           4.620491946642116,
           4.620491946642116,
           4.620491946642116,
           4.620491946642116,
           4.620491946642116,
           4.620491946642116,
           4.620491946642116,
           4.620491946642116,
           4.620491946642116,
           4.620491946642116,
           4.620491946642116,
           4.620491946642116,
           4.620491946642116,
           4.620491946642116,
           4.620491946642116,
           4.620491946642116,
           4.620491946642116
          ],
          [
           4.635220889422537,
           4.620491946642116,
           4.620491946642116,
           4.620491946642116,
           4.620491946642116,
           4.620491946642116,
           4.620491946642116,
           4.620491946642116,
           4.620491946642116,
           4.620491946642116,
           4.620491946642116,
           4.620491946642116,
           4.620491946642116,
           4.620491946642116,
           4.620491946642116,
           4.620491946642116,
           4.620491946642116,
           4.620491946642116,
           4.620491946642116,
           4.620491946642116
          ]
         ]
        }
       ],
       "layout": {
        "autosize": true,
        "scene": {
         "aspectmode": "auto",
         "aspectratio": {
          "x": 1,
          "y": 1,
          "z": 1
         },
         "camera": {
          "center": {
           "x": 0,
           "y": 0,
           "z": 0
          },
          "eye": {
           "x": 0.00013066193838172114,
           "y": -0.0064332786276384895,
           "z": -0.0076547928487339404
          },
          "projection": {
           "type": "perspective"
          },
          "up": {
           "x": 0.000130304991104982,
           "y": -0.0007702207647223137,
           "z": 0.999999694890245
          }
         },
         "xaxis": {
          "title": {
           "text": "Ingredients"
          },
          "type": "linear"
         },
         "yaxis": {
          "title": {
           "text": "Minutes"
          },
          "type": "linear"
         },
         "zaxis": {
          "title": {
           "text": "Predicted Rating"
          },
          "type": "linear"
         }
        },
        "template": {
         "data": {
          "bar": [
           {
            "error_x": {
             "color": "rgb(36,36,36)"
            },
            "error_y": {
             "color": "rgb(36,36,36)"
            },
            "marker": {
             "line": {
              "color": "white",
              "width": 0.5
             },
             "pattern": {
              "fillmode": "overlay",
              "size": 10,
              "solidity": 0.2
             }
            },
            "type": "bar"
           }
          ],
          "barpolar": [
           {
            "marker": {
             "line": {
              "color": "white",
              "width": 0.5
             },
             "pattern": {
              "fillmode": "overlay",
              "size": 10,
              "solidity": 0.2
             }
            },
            "type": "barpolar"
           }
          ],
          "carpet": [
           {
            "aaxis": {
             "endlinecolor": "rgb(36,36,36)",
             "gridcolor": "white",
             "linecolor": "white",
             "minorgridcolor": "white",
             "startlinecolor": "rgb(36,36,36)"
            },
            "baxis": {
             "endlinecolor": "rgb(36,36,36)",
             "gridcolor": "white",
             "linecolor": "white",
             "minorgridcolor": "white",
             "startlinecolor": "rgb(36,36,36)"
            },
            "type": "carpet"
           }
          ],
          "choropleth": [
           {
            "colorbar": {
             "outlinewidth": 1,
             "tickcolor": "rgb(36,36,36)",
             "ticks": "outside"
            },
            "type": "choropleth"
           }
          ],
          "contour": [
           {
            "colorbar": {
             "outlinewidth": 1,
             "tickcolor": "rgb(36,36,36)",
             "ticks": "outside"
            },
            "colorscale": [
             [
              0,
              "#440154"
             ],
             [
              0.1111111111111111,
              "#482878"
             ],
             [
              0.2222222222222222,
              "#3e4989"
             ],
             [
              0.3333333333333333,
              "#31688e"
             ],
             [
              0.4444444444444444,
              "#26828e"
             ],
             [
              0.5555555555555556,
              "#1f9e89"
             ],
             [
              0.6666666666666666,
              "#35b779"
             ],
             [
              0.7777777777777778,
              "#6ece58"
             ],
             [
              0.8888888888888888,
              "#b5de2b"
             ],
             [
              1,
              "#fde725"
             ]
            ],
            "type": "contour"
           }
          ],
          "contourcarpet": [
           {
            "colorbar": {
             "outlinewidth": 1,
             "tickcolor": "rgb(36,36,36)",
             "ticks": "outside"
            },
            "type": "contourcarpet"
           }
          ],
          "heatmap": [
           {
            "colorbar": {
             "outlinewidth": 1,
             "tickcolor": "rgb(36,36,36)",
             "ticks": "outside"
            },
            "colorscale": [
             [
              0,
              "#440154"
             ],
             [
              0.1111111111111111,
              "#482878"
             ],
             [
              0.2222222222222222,
              "#3e4989"
             ],
             [
              0.3333333333333333,
              "#31688e"
             ],
             [
              0.4444444444444444,
              "#26828e"
             ],
             [
              0.5555555555555556,
              "#1f9e89"
             ],
             [
              0.6666666666666666,
              "#35b779"
             ],
             [
              0.7777777777777778,
              "#6ece58"
             ],
             [
              0.8888888888888888,
              "#b5de2b"
             ],
             [
              1,
              "#fde725"
             ]
            ],
            "type": "heatmap"
           }
          ],
          "heatmapgl": [
           {
            "colorbar": {
             "outlinewidth": 1,
             "tickcolor": "rgb(36,36,36)",
             "ticks": "outside"
            },
            "colorscale": [
             [
              0,
              "#440154"
             ],
             [
              0.1111111111111111,
              "#482878"
             ],
             [
              0.2222222222222222,
              "#3e4989"
             ],
             [
              0.3333333333333333,
              "#31688e"
             ],
             [
              0.4444444444444444,
              "#26828e"
             ],
             [
              0.5555555555555556,
              "#1f9e89"
             ],
             [
              0.6666666666666666,
              "#35b779"
             ],
             [
              0.7777777777777778,
              "#6ece58"
             ],
             [
              0.8888888888888888,
              "#b5de2b"
             ],
             [
              1,
              "#fde725"
             ]
            ],
            "type": "heatmapgl"
           }
          ],
          "histogram": [
           {
            "marker": {
             "line": {
              "color": "white",
              "width": 0.6
             }
            },
            "type": "histogram"
           }
          ],
          "histogram2d": [
           {
            "colorbar": {
             "outlinewidth": 1,
             "tickcolor": "rgb(36,36,36)",
             "ticks": "outside"
            },
            "colorscale": [
             [
              0,
              "#440154"
             ],
             [
              0.1111111111111111,
              "#482878"
             ],
             [
              0.2222222222222222,
              "#3e4989"
             ],
             [
              0.3333333333333333,
              "#31688e"
             ],
             [
              0.4444444444444444,
              "#26828e"
             ],
             [
              0.5555555555555556,
              "#1f9e89"
             ],
             [
              0.6666666666666666,
              "#35b779"
             ],
             [
              0.7777777777777778,
              "#6ece58"
             ],
             [
              0.8888888888888888,
              "#b5de2b"
             ],
             [
              1,
              "#fde725"
             ]
            ],
            "type": "histogram2d"
           }
          ],
          "histogram2dcontour": [
           {
            "colorbar": {
             "outlinewidth": 1,
             "tickcolor": "rgb(36,36,36)",
             "ticks": "outside"
            },
            "colorscale": [
             [
              0,
              "#440154"
             ],
             [
              0.1111111111111111,
              "#482878"
             ],
             [
              0.2222222222222222,
              "#3e4989"
             ],
             [
              0.3333333333333333,
              "#31688e"
             ],
             [
              0.4444444444444444,
              "#26828e"
             ],
             [
              0.5555555555555556,
              "#1f9e89"
             ],
             [
              0.6666666666666666,
              "#35b779"
             ],
             [
              0.7777777777777778,
              "#6ece58"
             ],
             [
              0.8888888888888888,
              "#b5de2b"
             ],
             [
              1,
              "#fde725"
             ]
            ],
            "type": "histogram2dcontour"
           }
          ],
          "mesh3d": [
           {
            "colorbar": {
             "outlinewidth": 1,
             "tickcolor": "rgb(36,36,36)",
             "ticks": "outside"
            },
            "type": "mesh3d"
           }
          ],
          "parcoords": [
           {
            "line": {
             "colorbar": {
              "outlinewidth": 1,
              "tickcolor": "rgb(36,36,36)",
              "ticks": "outside"
             }
            },
            "type": "parcoords"
           }
          ],
          "pie": [
           {
            "automargin": true,
            "type": "pie"
           }
          ],
          "scatter": [
           {
            "fillpattern": {
             "fillmode": "overlay",
             "size": 10,
             "solidity": 0.2
            },
            "type": "scatter"
           }
          ],
          "scatter3d": [
           {
            "line": {
             "colorbar": {
              "outlinewidth": 1,
              "tickcolor": "rgb(36,36,36)",
              "ticks": "outside"
             }
            },
            "marker": {
             "colorbar": {
              "outlinewidth": 1,
              "tickcolor": "rgb(36,36,36)",
              "ticks": "outside"
             }
            },
            "type": "scatter3d"
           }
          ],
          "scattercarpet": [
           {
            "marker": {
             "colorbar": {
              "outlinewidth": 1,
              "tickcolor": "rgb(36,36,36)",
              "ticks": "outside"
             }
            },
            "type": "scattercarpet"
           }
          ],
          "scattergeo": [
           {
            "marker": {
             "colorbar": {
              "outlinewidth": 1,
              "tickcolor": "rgb(36,36,36)",
              "ticks": "outside"
             }
            },
            "type": "scattergeo"
           }
          ],
          "scattergl": [
           {
            "marker": {
             "colorbar": {
              "outlinewidth": 1,
              "tickcolor": "rgb(36,36,36)",
              "ticks": "outside"
             }
            },
            "type": "scattergl"
           }
          ],
          "scattermapbox": [
           {
            "marker": {
             "colorbar": {
              "outlinewidth": 1,
              "tickcolor": "rgb(36,36,36)",
              "ticks": "outside"
             }
            },
            "type": "scattermapbox"
           }
          ],
          "scatterpolar": [
           {
            "marker": {
             "colorbar": {
              "outlinewidth": 1,
              "tickcolor": "rgb(36,36,36)",
              "ticks": "outside"
             }
            },
            "type": "scatterpolar"
           }
          ],
          "scatterpolargl": [
           {
            "marker": {
             "colorbar": {
              "outlinewidth": 1,
              "tickcolor": "rgb(36,36,36)",
              "ticks": "outside"
             }
            },
            "type": "scatterpolargl"
           }
          ],
          "scatterternary": [
           {
            "marker": {
             "colorbar": {
              "outlinewidth": 1,
              "tickcolor": "rgb(36,36,36)",
              "ticks": "outside"
             }
            },
            "type": "scatterternary"
           }
          ],
          "surface": [
           {
            "colorbar": {
             "outlinewidth": 1,
             "tickcolor": "rgb(36,36,36)",
             "ticks": "outside"
            },
            "colorscale": [
             [
              0,
              "#440154"
             ],
             [
              0.1111111111111111,
              "#482878"
             ],
             [
              0.2222222222222222,
              "#3e4989"
             ],
             [
              0.3333333333333333,
              "#31688e"
             ],
             [
              0.4444444444444444,
              "#26828e"
             ],
             [
              0.5555555555555556,
              "#1f9e89"
             ],
             [
              0.6666666666666666,
              "#35b779"
             ],
             [
              0.7777777777777778,
              "#6ece58"
             ],
             [
              0.8888888888888888,
              "#b5de2b"
             ],
             [
              1,
              "#fde725"
             ]
            ],
            "type": "surface"
           }
          ],
          "table": [
           {
            "cells": {
             "fill": {
              "color": "rgb(237,237,237)"
             },
             "line": {
              "color": "white"
             }
            },
            "header": {
             "fill": {
              "color": "rgb(217,217,217)"
             },
             "line": {
              "color": "white"
             }
            },
            "type": "table"
           }
          ]
         },
         "layout": {
          "annotationdefaults": {
           "arrowhead": 0,
           "arrowwidth": 1
          },
          "autosize": true,
          "autotypenumbers": "strict",
          "coloraxis": {
           "colorbar": {
            "outlinewidth": 1,
            "tickcolor": "rgb(36,36,36)",
            "ticks": "outside"
           }
          },
          "colorscale": {
           "diverging": [
            [
             0,
             "rgb(103,0,31)"
            ],
            [
             0.1,
             "rgb(178,24,43)"
            ],
            [
             0.2,
             "rgb(214,96,77)"
            ],
            [
             0.3,
             "rgb(244,165,130)"
            ],
            [
             0.4,
             "rgb(253,219,199)"
            ],
            [
             0.5,
             "rgb(247,247,247)"
            ],
            [
             0.6,
             "rgb(209,229,240)"
            ],
            [
             0.7,
             "rgb(146,197,222)"
            ],
            [
             0.8,
             "rgb(67,147,195)"
            ],
            [
             0.9,
             "rgb(33,102,172)"
            ],
            [
             1,
             "rgb(5,48,97)"
            ]
           ],
           "sequential": [
            [
             0,
             "#440154"
            ],
            [
             0.1111111111111111,
             "#482878"
            ],
            [
             0.2222222222222222,
             "#3e4989"
            ],
            [
             0.3333333333333333,
             "#31688e"
            ],
            [
             0.4444444444444444,
             "#26828e"
            ],
            [
             0.5555555555555556,
             "#1f9e89"
            ],
            [
             0.6666666666666666,
             "#35b779"
            ],
            [
             0.7777777777777778,
             "#6ece58"
            ],
            [
             0.8888888888888888,
             "#b5de2b"
            ],
            [
             1,
             "#fde725"
            ]
           ],
           "sequentialminus": [
            [
             0,
             "#440154"
            ],
            [
             0.1111111111111111,
             "#482878"
            ],
            [
             0.2222222222222222,
             "#3e4989"
            ],
            [
             0.3333333333333333,
             "#31688e"
            ],
            [
             0.4444444444444444,
             "#26828e"
            ],
            [
             0.5555555555555556,
             "#1f9e89"
            ],
            [
             0.6666666666666666,
             "#35b779"
            ],
            [
             0.7777777777777778,
             "#6ece58"
            ],
            [
             0.8888888888888888,
             "#b5de2b"
            ],
            [
             1,
             "#fde725"
            ]
           ]
          },
          "colorway": [
           "#1F77B4",
           "#FF7F0E",
           "#2CA02C",
           "#D62728",
           "#9467BD",
           "#8C564B",
           "#E377C2",
           "#7F7F7F",
           "#BCBD22",
           "#17BECF"
          ],
          "font": {
           "color": "rgb(36,36,36)"
          },
          "geo": {
           "bgcolor": "white",
           "lakecolor": "white",
           "landcolor": "white",
           "showlakes": true,
           "showland": true,
           "subunitcolor": "white"
          },
          "height": 400,
          "hoverlabel": {
           "align": "left"
          },
          "hovermode": "closest",
          "mapbox": {
           "style": "light"
          },
          "margin": {
           "b": 30,
           "l": 30,
           "r": 30,
           "t": 30
          },
          "paper_bgcolor": "white",
          "plot_bgcolor": "white",
          "polar": {
           "angularaxis": {
            "gridcolor": "rgb(232,232,232)",
            "linecolor": "rgb(36,36,36)",
            "showgrid": false,
            "showline": true,
            "ticks": "outside"
           },
           "bgcolor": "white",
           "radialaxis": {
            "gridcolor": "rgb(232,232,232)",
            "linecolor": "rgb(36,36,36)",
            "showgrid": false,
            "showline": true,
            "ticks": "outside"
           }
          },
          "scene": {
           "xaxis": {
            "backgroundcolor": "white",
            "gridcolor": "rgb(232,232,232)",
            "gridwidth": 2,
            "linecolor": "rgb(36,36,36)",
            "showbackground": true,
            "showgrid": false,
            "showline": true,
            "ticks": "outside",
            "zeroline": false,
            "zerolinecolor": "rgb(36,36,36)"
           },
           "yaxis": {
            "backgroundcolor": "white",
            "gridcolor": "rgb(232,232,232)",
            "gridwidth": 2,
            "linecolor": "rgb(36,36,36)",
            "showbackground": true,
            "showgrid": false,
            "showline": true,
            "ticks": "outside",
            "zeroline": false,
            "zerolinecolor": "rgb(36,36,36)"
           },
           "zaxis": {
            "backgroundcolor": "white",
            "gridcolor": "rgb(232,232,232)",
            "gridwidth": 2,
            "linecolor": "rgb(36,36,36)",
            "showbackground": true,
            "showgrid": false,
            "showline": true,
            "ticks": "outside",
            "zeroline": false,
            "zerolinecolor": "rgb(36,36,36)"
           }
          },
          "shapedefaults": {
           "fillcolor": "black",
           "line": {
            "width": 0
           },
           "opacity": 0.3
          },
          "ternary": {
           "aaxis": {
            "gridcolor": "rgb(232,232,232)",
            "linecolor": "rgb(36,36,36)",
            "showgrid": false,
            "showline": true,
            "ticks": "outside"
           },
           "baxis": {
            "gridcolor": "rgb(232,232,232)",
            "linecolor": "rgb(36,36,36)",
            "showgrid": false,
            "showline": true,
            "ticks": "outside"
           },
           "bgcolor": "white",
           "caxis": {
            "gridcolor": "rgb(232,232,232)",
            "linecolor": "rgb(36,36,36)",
            "showgrid": false,
            "showline": true,
            "ticks": "outside"
           }
          },
          "title": {
           "x": 0.5,
           "xanchor": "center"
          },
          "width": 600,
          "xaxis": {
           "automargin": true,
           "gridcolor": "rgb(232,232,232)",
           "linecolor": "rgb(36,36,36)",
           "showgrid": true,
           "showline": true,
           "ticks": "outside",
           "title": {
            "standoff": 15
           },
           "zeroline": false,
           "zerolinecolor": "rgb(36,36,36)"
          },
          "yaxis": {
           "automargin": true,
           "gridcolor": "rgb(232,232,232)",
           "linecolor": "rgb(36,36,36)",
           "showgrid": true,
           "showline": true,
           "ticks": "outside",
           "title": {
            "standoff": 15
           },
           "zeroline": false,
           "zerolinecolor": "rgb(36,36,36)"
          }
         }
        },
        "title": {
         "text": "Visualization of Model Performance with Constant Steps"
        }
       }
      },
      "image/png": "[encoded data removed]",
      "text/html": [
       "<div>                            <div id=\"2f779946-aac1-4bd6-adba-529291830068\" class=\"plotly-graph-div\" style=\"height:400px; width:600px;\"></div>            <script type=\"text/javascript\">                require([\"plotly\"], function(Plotly) {                    window.PLOTLYENV=window.PLOTLYENV || {};                                    if (document.getElementById(\"2f779946-aac1-4bd6-adba-529291830068\")) {                    Plotly.newPlot(                        \"2f779946-aac1-4bd6-adba-529291830068\",                        [{\"colorscale\":[[0.0,\"rgb(150,0,90)\"],[0.125,\"rgb(0,0,200)\"],[0.25,\"rgb(0,25,255)\"],[0.375,\"rgb(0,152,255)\"],[0.5,\"rgb(44,255,150)\"],[0.625,\"rgb(151,255,0)\"],[0.75,\"rgb(255,234,0)\"],[0.875,\"rgb(255,111,0)\"],[1.0,\"rgb(255,0,0)\"]],\"x\":[[1.0,1.0,1.0,1.0,1.0,1.0,1.0,1.0,1.0,1.0,1.0,1.0,1.0,1.0,1.0,1.0,1.0,1.0,1.0,1.0],[2.894736842105263,2.894736842105263,2.894736842105263,2.894736842105263,2.894736842105263,2.894736842105263,2.894736842105263,2.894736842105263,2.894736842105263,2.894736842105263,2.894736842105263,2.894736842105263,2.894736842105263,2.894736842105263,2.894736842105263,2.894736842105263,2.894736842105263,2.894736842105263,2.894736842105263,2.894736842105263],[4.789473684210526,4.789473684210526,4.789473684210526,4.789473684210526,4.789473684210526,4.789473684210526,4.789473684210526,4.789473684210526,4.789473684210526,4.789473684210526,4.789473684210526,4.789473684210526,4.789473684210526,4.789473684210526,4.789473684210526,4.789473684210526,4.789473684210526,4.789473684210526,4.789473684210526,4.789473684210526],[6.684210526315789,6.684210526315789,6.684210526315789,6.684210526315789,6.684210526315789,6.684210526315789,6.684210526315789,6.684210526315789,6.684210526315789,6.684210526315789,6.684210526315789,6.684210526315789,6.684210526315789,6.684210526315789,6.684210526315789,6.684210526315789,6.684210526315789,6.684210526315789,6.684210526315789,6.684210526315789],[8.578947368421051,8.578947368421051,8.578947368421051,8.578947368421051,8.578947368421051,8.578947368421051,8.578947368421051,8.578947368421051,8.578947368421051,8.578947368421051,8.578947368421051,8.578947368421051,8.578947368421051,8.578947368421051,8.578947368421051,8.578947368421051,8.578947368421051,8.578947368421051,8.578947368421051,8.578947368421051],[10.473684210526315,10.473684210526315,10.473684210526315,10.473684210526315,10.473684210526315,10.473684210526315,10.473684210526315,10.473684210526315,10.473684210526315,10.473684210526315,10.473684210526315,10.473684210526315,10.473684210526315,10.473684210526315,10.473684210526315,10.473684210526315,10.473684210526315,10.473684210526315,10.473684210526315,10.473684210526315],[12.368421052631579,12.368421052631579,12.368421052631579,12.368421052631579,12.368421052631579,12.368421052631579,12.368421052631579,12.368421052631579,12.368421052631579,12.368421052631579,12.368421052631579,12.368421052631579,12.368421052631579,12.368421052631579,12.368421052631579,12.368421052631579,12.368421052631579,12.368421052631579,12.368421052631579,12.368421052631579],[14.26315789473684,14.26315789473684,14.26315789473684,14.26315789473684,14.26315789473684,14.26315789473684,14.26315789473684,14.26315789473684,14.26315789473684,14.26315789473684,14.26315789473684,14.26315789473684,14.26315789473684,14.26315789473684,14.26315789473684,14.26315789473684,14.26315789473684,14.26315789473684,14.26315789473684,14.26315789473684],[16.157894736842103,16.157894736842103,16.157894736842103,16.157894736842103,16.157894736842103,16.157894736842103,16.157894736842103,16.157894736842103,16.157894736842103,16.157894736842103,16.157894736842103,16.157894736842103,16.157894736842103,16.157894736842103,16.157894736842103,16.157894736842103,16.157894736842103,16.157894736842103,16.157894736842103,16.157894736842103],[18.052631578947366,18.052631578947366,18.052631578947366,18.052631578947366,18.052631578947366,18.052631578947366,18.052631578947366,18.052631578947366,18.052631578947366,18.052631578947366,18.052631578947366,18.052631578947366,18.052631578947366,18.052631578947366,18.052631578947366,18.052631578947366,18.052631578947366,18.052631578947366,18.052631578947366,18.052631578947366],[19.94736842105263,19.94736842105263,19.94736842105263,19.94736842105263,19.94736842105263,19.94736842105263,19.94736842105263,19.94736842105263,19.94736842105263,19.94736842105263,19.94736842105263,19.94736842105263,19.94736842105263,19.94736842105263,19.94736842105263,19.94736842105263,19.94736842105263,19.94736842105263,19.94736842105263,19.94736842105263],[21.842105263157894,21.842105263157894,21.842105263157894,21.842105263157894,21.842105263157894,21.842105263157894,21.842105263157894,21.842105263157894,21.842105263157894,21.842105263157894,21.842105263157894,21.842105263157894,21.842105263157894,21.842105263157894,21.842105263157894,21.842105263157894,21.842105263157894,21.842105263157894,21.842105263157894,21.842105263157894],[23.736842105263158,23.736842105263158,23.736842105263158,23.736842105263158,23.736842105263158,23.736842105263158,23.736842105263158,23.736842105263158,23.736842105263158,23.736842105263158,23.736842105263158,23.736842105263158,23.736842105263158,23.736842105263158,23.736842105263158,23.736842105263158,23.736842105263158,23.736842105263158,23.736842105263158,23.736842105263158],[25.63157894736842,25.63157894736842,25.63157894736842,25.63157894736842,25.63157894736842,25.63157894736842,25.63157894736842,25.63157894736842,25.63157894736842,25.63157894736842,25.63157894736842,25.63157894736842,25.63157894736842,25.63157894736842,25.63157894736842,25.63157894736842,25.63157894736842,25.63157894736842,25.63157894736842,25.63157894736842],[27.52631578947368,27.52631578947368,27.52631578947368,27.52631578947368,27.52631578947368,27.52631578947368,27.52631578947368,27.52631578947368,27.52631578947368,27.52631578947368,27.52631578947368,27.52631578947368,27.52631578947368,27.52631578947368,27.52631578947368,27.52631578947368,27.52631578947368,27.52631578947368,27.52631578947368,27.52631578947368],[29.421052631578945,29.421052631578945,29.421052631578945,29.421052631578945,29.421052631578945,29.421052631578945,29.421052631578945,29.421052631578945,29.421052631578945,29.421052631578945,29.421052631578945,29.421052631578945,29.421052631578945,29.421052631578945,29.421052631578945,29.421052631578945,29.421052631578945,29.421052631578945,29.421052631578945,29.421052631578945],[31.31578947368421,31.31578947368421,31.31578947368421,31.31578947368421,31.31578947368421,31.31578947368421,31.31578947368421,31.31578947368421,31.31578947368421,31.31578947368421,31.31578947368421,31.31578947368421,31.31578947368421,31.31578947368421,31.31578947368421,31.31578947368421,31.31578947368421,31.31578947368421,31.31578947368421,31.31578947368421],[33.21052631578947,33.21052631578947,33.21052631578947,33.21052631578947,33.21052631578947,33.21052631578947,33.21052631578947,33.21052631578947,33.21052631578947,33.21052631578947,33.21052631578947,33.21052631578947,33.21052631578947,33.21052631578947,33.21052631578947,33.21052631578947,33.21052631578947,33.21052631578947,33.21052631578947,33.21052631578947],[35.10526315789473,35.10526315789473,35.10526315789473,35.10526315789473,35.10526315789473,35.10526315789473,35.10526315789473,35.10526315789473,35.10526315789473,35.10526315789473,35.10526315789473,35.10526315789473,35.10526315789473,35.10526315789473,35.10526315789473,35.10526315789473,35.10526315789473,35.10526315789473,35.10526315789473,35.10526315789473],[37.0,37.0,37.0,37.0,37.0,37.0,37.0,37.0,37.0,37.0,37.0,37.0,37.0,37.0,37.0,37.0,37.0,37.0,37.0,37.0]],\"y\":[[0.0,55326.31578947369,110652.63157894737,165978.94736842107,221305.26315789475,276631.5789473684,331957.89473684214,387284.2105263158,442610.5263157895,497936.8421052632,553263.1578947369,608589.4736842106,663915.7894736843,719242.105263158,774568.4210526316,829894.7368421053,885221.052631579,940547.3684210527,995873.6842105264,1051200.0],[0.0,55326.31578947369,110652.63157894737,165978.94736842107,221305.26315789475,276631.5789473684,331957.89473684214,387284.2105263158,442610.5263157895,497936.8421052632,553263.1578947369,608589.4736842106,663915.7894736843,719242.105263158,774568.4210526316,829894.7368421053,885221.052631579,940547.3684210527,995873.6842105264,1051200.0],[0.0,55326.31578947369,110652.63157894737,165978.94736842107,221305.26315789475,276631.5789473684,331957.89473684214,387284.2105263158,442610.5263157895,497936.8421052632,553263.1578947369,608589.4736842106,663915.7894736843,719242.105263158,774568.4210526316,829894.7368421053,885221.052631579,940547.3684210527,995873.6842105264,1051200.0],[0.0,55326.31578947369,110652.63157894737,165978.94736842107,221305.26315789475,276631.5789473684,331957.89473684214,387284.2105263158,442610.5263157895,497936.8421052632,553263.1578947369,608589.4736842106,663915.7894736843,719242.105263158,774568.4210526316,829894.7368421053,885221.052631579,940547.3684210527,995873.6842105264,1051200.0],[0.0,55326.31578947369,110652.63157894737,165978.94736842107,221305.26315789475,276631.5789473684,331957.89473684214,387284.2105263158,442610.5263157895,497936.8421052632,553263.1578947369,608589.4736842106,663915.7894736843,719242.105263158,774568.4210526316,829894.7368421053,885221.052631579,940547.3684210527,995873.6842105264,1051200.0],[0.0,55326.31578947369,110652.63157894737,165978.94736842107,221305.26315789475,276631.5789473684,331957.89473684214,387284.2105263158,442610.5263157895,497936.8421052632,553263.1578947369,608589.4736842106,663915.7894736843,719242.105263158,774568.4210526316,829894.7368421053,885221.052631579,940547.3684210527,995873.6842105264,1051200.0],[0.0,55326.31578947369,110652.63157894737,165978.94736842107,221305.26315789475,276631.5789473684,331957.89473684214,387284.2105263158,442610.5263157895,497936.8421052632,553263.1578947369,608589.4736842106,663915.7894736843,719242.105263158,774568.4210526316,829894.7368421053,885221.052631579,940547.3684210527,995873.6842105264,1051200.0],[0.0,55326.31578947369,110652.63157894737,165978.94736842107,221305.26315789475,276631.5789473684,331957.89473684214,387284.2105263158,442610.5263157895,497936.8421052632,553263.1578947369,608589.4736842106,663915.7894736843,719242.105263158,774568.4210526316,829894.7368421053,885221.052631579,940547.3684210527,995873.6842105264,1051200.0],[0.0,55326.31578947369,110652.63157894737,165978.94736842107,221305.26315789475,276631.5789473684,331957.89473684214,387284.2105263158,442610.5263157895,497936.8421052632,553263.1578947369,608589.4736842106,663915.7894736843,719242.105263158,774568.4210526316,829894.7368421053,885221.052631579,940547.3684210527,995873.6842105264,1051200.0],[0.0,55326.31578947369,110652.63157894737,165978.94736842107,221305.26315789475,276631.5789473684,331957.89473684214,387284.2105263158,442610.5263157895,497936.8421052632,553263.1578947369,608589.4736842106,663915.7894736843,719242.105263158,774568.4210526316,829894.7368421053,885221.052631579,940547.3684210527,995873.6842105264,1051200.0],[0.0,55326.31578947369,110652.63157894737,165978.94736842107,221305.26315789475,276631.5789473684,331957.89473684214,387284.2105263158,442610.5263157895,497936.8421052632,553263.1578947369,608589.4736842106,663915.7894736843,719242.105263158,774568.4210526316,829894.7368421053,885221.052631579,940547.3684210527,995873.6842105264,1051200.0],[0.0,55326.31578947369,110652.63157894737,165978.94736842107,221305.26315789475,276631.5789473684,331957.89473684214,387284.2105263158,442610.5263157895,497936.8421052632,553263.1578947369,608589.4736842106,663915.7894736843,719242.105263158,774568.4210526316,829894.7368421053,885221.052631579,940547.3684210527,995873.6842105264,1051200.0],[0.0,55326.31578947369,110652.63157894737,165978.94736842107,221305.26315789475,276631.5789473684,331957.89473684214,387284.2105263158,442610.5263157895,497936.8421052632,553263.1578947369,608589.4736842106,663915.7894736843,719242.105263158,774568.4210526316,829894.7368421053,885221.052631579,940547.3684210527,995873.6842105264,1051200.0],[0.0,55326.31578947369,110652.63157894737,165978.94736842107,221305.26315789475,276631.5789473684,331957.89473684214,387284.2105263158,442610.5263157895,497936.8421052632,553263.1578947369,608589.4736842106,663915.7894736843,719242.105263158,774568.4210526316,829894.7368421053,885221.052631579,940547.3684210527,995873.6842105264,1051200.0],[0.0,55326.31578947369,110652.63157894737,165978.94736842107,221305.26315789475,276631.5789473684,331957.89473684214,387284.2105263158,442610.5263157895,497936.8421052632,553263.1578947369,608589.4736842106,663915.7894736843,719242.105263158,774568.4210526316,829894.7368421053,885221.052631579,940547.3684210527,995873.6842105264,1051200.0],[0.0,55326.31578947369,110652.63157894737,165978.94736842107,221305.26315789475,276631.5789473684,331957.89473684214,387284.2105263158,442610.5263157895,497936.8421052632,553263.1578947369,608589.4736842106,663915.7894736843,719242.105263158,774568.4210526316,829894.7368421053,885221.052631579,940547.3684210527,995873.6842105264,1051200.0],[0.0,55326.31578947369,110652.63157894737,165978.94736842107,221305.26315789475,276631.5789473684,331957.89473684214,387284.2105263158,442610.5263157895,497936.8421052632,553263.1578947369,608589.4736842106,663915.7894736843,719242.105263158,774568.4210526316,829894.7368421053,885221.052631579,940547.3684210527,995873.6842105264,1051200.0],[0.0,55326.31578947369,110652.63157894737,165978.94736842107,221305.26315789475,276631.5789473684,331957.89473684214,387284.2105263158,442610.5263157895,497936.8421052632,553263.1578947369,608589.4736842106,663915.7894736843,719242.105263158,774568.4210526316,829894.7368421053,885221.052631579,940547.3684210527,995873.6842105264,1051200.0],[0.0,55326.31578947369,110652.63157894737,165978.94736842107,221305.26315789475,276631.5789473684,331957.89473684214,387284.2105263158,442610.5263157895,497936.8421052632,553263.1578947369,608589.4736842106,663915.7894736843,719242.105263158,774568.4210526316,829894.7368421053,885221.052631579,940547.3684210527,995873.6842105264,1051200.0],[0.0,55326.31578947369,110652.63157894737,165978.94736842107,221305.26315789475,276631.5789473684,331957.89473684214,387284.2105263158,442610.5263157895,497936.8421052632,553263.1578947369,608589.4736842106,663915.7894736843,719242.105263158,774568.4210526316,829894.7368421053,885221.052631579,940547.3684210527,995873.6842105264,1051200.0]],\"z\":[[4.687447865144705,4.705818237473207,4.705818237473207,4.705818237473207,4.705818237473207,4.705818237473207,4.705818237473207,4.705818237473207,4.705818237473207,4.705818237473207,4.705818237473207,4.705818237473207,4.705818237473207,4.705818237473207,4.705818237473207,4.705818237473207,4.705818237473207,4.705818237473207,4.705818237473207,4.705818237473207],[4.680935331913334,4.698363599182972,4.698363599182972,4.698363599182972,4.698363599182972,4.698363599182972,4.698363599182972,4.698363599182972,4.698363599182972,4.698363599182972,4.698363599182972,4.698363599182972,4.698363599182972,4.698363599182972,4.698363599182972,4.698363599182972,4.698363599182972,4.698363599182972,4.698363599182972,4.698363599182972],[4.633543366922674,4.646943366818704,4.646943366818704,4.646943366818704,4.646943366818704,4.646943366818704,4.646943366818704,4.646943366818704,4.646943366818704,4.646943366818704,4.646943366818704,4.646943366818704,4.646943366818704,4.646943366818704,4.646943366818704,4.646943366818704,4.646943366818704,4.646943366818704,4.646943366818704,4.646943366818704],[4.568518549398142,4.587976783280735,4.587976783280735,4.587976783280735,4.587976783280735,4.587976783280735,4.587976783280735,4.587976783280735,4.587976783280735,4.587976783280735,4.587976783280735,4.587976783280735,4.587976783280735,4.587976783280735,4.587976783280735,4.587976783280735,4.587976783280735,4.587976783280735,4.587976783280735,4.587976783280735],[4.525921675375134,4.561882112897933,4.561882112897933,4.561882112897933,4.561882112897933,4.561882112897933,4.561882112897933,4.561882112897933,4.561882112897933,4.561882112897933,4.561882112897933,4.561882112897933,4.561882112897933,4.561882112897933,4.561882112897933,4.561882112897933,4.561882112897933,4.561882112897933,4.561882112897933,4.561882112897933],[4.522387221309626,4.564531560843843,4.564531560843843,4.564531560843843,4.564531560843843,4.564531560843843,4.564531560843843,4.564531560843843,4.564531560843843,4.564531560843843,4.564531560843843,4.564531560843843,4.564531560843843,4.564531560843843,4.564531560843843,4.564531560843843,4.564531560843843,4.564531560843843,4.564531560843843,4.564531560843843],[4.549391993315263,4.579834898135145,4.579834898135145,4.579834898135145,4.579834898135145,4.579834898135145,4.579834898135145,4.579834898135145,4.579834898135145,4.579834898135145,4.579834898135145,4.579834898135143,4.579834898135143,4.579834898135145,4.579834898135145,4.579834898135145,4.579834898135145,4.579834898135145,4.579834898135145,4.579834898135145],[4.584486380707905,4.5968961709917044,4.5968961709917044,4.5968961709917044,4.5968961709917044,4.5968961709917044,4.5968961709917044,4.5968961709917044,4.5968961709917044,4.5968961709917044,4.5968961709917044,4.5968961709917044,4.5968961709917044,4.5968961709917044,4.5968961709917044,4.5968961709917044,4.5968961709917044,4.5968961709917044,4.5968961709917044,4.5968961709917044],[4.609043875168465,4.608387254008822,4.608387254008822,4.608387254008822,4.608387254008822,4.608387254008822,4.608387254008822,4.608387254008822,4.608387254008822,4.608387254008822,4.608387254008822,4.608387254008822,4.608387254008822,4.608387254008822,4.608387254008822,4.608387254008822,4.608387254008822,4.608387254008822,4.608387254008822,4.608387254008822],[4.623189821764163,4.6149395608683905,4.6149395608683905,4.6149395608683905,4.6149395608683905,4.6149395608683905,4.6149395608683905,4.6149395608683905,4.6149395608683905,4.6149395608683905,4.6149395608683905,4.6149395608683905,4.6149395608683905,4.6149395608683905,4.6149395608683905,4.6149395608683905,4.6149395608683905,4.6149395608683905,4.614939560868387,4.614939560868387],[4.627048091001653,4.616721732466766,4.616721732466766,4.616721732466766,4.616721732466766,4.616721732466766,4.616721732466766,4.616721732466766,4.616721732466766,4.616721732466766,4.616721732466766,4.616721732466766,4.616721732466766,4.616721732466766,4.616721732466766,4.616721732466766,4.616721732466766,4.616721732466766,4.616721732466766,4.616721732466766],[4.6309971858920305,4.618544234022859,4.618544234022859,4.618544234022859,4.618544234022859,4.618544234022859,4.618544234022859,4.618544234022859,4.618544234022859,4.618544234022859,4.618544234022859,4.618544234022859,4.618544234022859,4.618544234022859,4.618544234022859,4.618544234022859,4.618544234022859,4.618544234022859,4.618544234022859,4.618544234022859],[4.633656827119419,4.619770861998342,4.619770861998342,4.619770861998342,4.619770861998342,4.619770861998342,4.619770861998342,4.619770861998342,4.619770861998342,4.619770861998342,4.619770861998342,4.619770861998342,4.619770861998342,4.619770861998342,4.619770861998342,4.619770861998342,4.619770861998342,4.619770861998342,4.619770861998342,4.619770861998342],[4.634400773575562,4.620113868856197,4.620113868856197,4.620113868856197,4.620113868856197,4.620113868856197,4.620113868856197,4.620113868856197,4.620113868856197,4.620113868856197,4.620113868856197,4.620113868856197,4.620113868856197,4.620113868856197,4.620113868856197,4.620113868856197,4.620113868856197,4.620113868856197,4.620113868856197,4.620113868856197],[4.634739298843043,4.620269936806682,4.620269936806682,4.620269936806682,4.620269936806682,4.620269936806682,4.620269936806682,4.620269936806682,4.620269936806682,4.620269936806682,4.620269936806682,4.620269936806682,4.620269936806682,4.620269936806682,4.620269936806682,4.620269936806682,4.620269936806682,4.620269936806682,4.620269936806682,4.620269936806682],[4.635001824058575,4.62039096115879,4.62039096115879,4.62039096115879,4.62039096115879,4.62039096115879,4.62039096115879,4.62039096115879,4.62039096115879,4.62039096115879,4.62039096115879,4.62039096115879,4.62039096115879,4.62039096115879,4.62039096115879,4.62039096115879,4.62039096115879,4.62039096115879,4.62039096115879,4.62039096115879],[4.635220889422537,4.620491946642116,4.620491946642116,4.620491946642116,4.620491946642116,4.620491946642116,4.620491946642116,4.620491946642116,4.620491946642116,4.620491946642116,4.620491946642116,4.620491946642116,4.620491946642116,4.620491946642116,4.620491946642116,4.620491946642116,4.620491946642116,4.620491946642116,4.620491946642116,4.620491946642116],[4.635220889422537,4.620491946642116,4.620491946642116,4.620491946642116,4.620491946642116,4.620491946642116,4.620491946642116,4.620491946642116,4.620491946642116,4.620491946642116,4.620491946642116,4.620491946642116,4.620491946642116,4.620491946642116,4.620491946642116,4.620491946642116,4.620491946642116,4.620491946642116,4.620491946642116,4.620491946642116],[4.635220889422537,4.620491946642116,4.620491946642116,4.620491946642116,4.620491946642116,4.620491946642116,4.620491946642116,4.620491946642116,4.620491946642116,4.620491946642116,4.620491946642116,4.620491946642116,4.620491946642116,4.620491946642116,4.620491946642116,4.620491946642116,4.620491946642116,4.620491946642116,4.620491946642116,4.620491946642116],[4.635220889422537,4.620491946642116,4.620491946642116,4.620491946642116,4.620491946642116,4.620491946642116,4.620491946642116,4.620491946642116,4.620491946642116,4.620491946642116,4.620491946642116,4.620491946642116,4.620491946642116,4.620491946642116,4.620491946642116,4.620491946642116,4.620491946642116,4.620491946642116,4.620491946642116,4.620491946642116]],\"type\":\"surface\"}],                        {\"template\":{\"data\":{\"barpolar\":[{\"marker\":{\"line\":{\"color\":\"white\",\"width\":0.5},\"pattern\":{\"fillmode\":\"overlay\",\"size\":10,\"solidity\":0.2}},\"type\":\"barpolar\"}],\"bar\":[{\"error_x\":{\"color\":\"rgb(36,36,36)\"},\"error_y\":{\"color\":\"rgb(36,36,36)\"},\"marker\":{\"line\":{\"color\":\"white\",\"width\":0.5},\"pattern\":{\"fillmode\":\"overlay\",\"size\":10,\"solidity\":0.2}},\"type\":\"bar\"}],\"carpet\":[{\"aaxis\":{\"endlinecolor\":\"rgb(36,36,36)\",\"gridcolor\":\"white\",\"linecolor\":\"white\",\"minorgridcolor\":\"white\",\"startlinecolor\":\"rgb(36,36,36)\"},\"baxis\":{\"endlinecolor\":\"rgb(36,36,36)\",\"gridcolor\":\"white\",\"linecolor\":\"white\",\"minorgridcolor\":\"white\",\"startlinecolor\":\"rgb(36,36,36)\"},\"type\":\"carpet\"}],\"choropleth\":[{\"colorbar\":{\"outlinewidth\":1,\"tickcolor\":\"rgb(36,36,36)\",\"ticks\":\"outside\"},\"type\":\"choropleth\"}],\"contourcarpet\":[{\"colorbar\":{\"outlinewidth\":1,\"tickcolor\":\"rgb(36,36,36)\",\"ticks\":\"outside\"},\"type\":\"contourcarpet\"}],\"contour\":[{\"colorbar\":{\"outlinewidth\":1,\"tickcolor\":\"rgb(36,36,36)\",\"ticks\":\"outside\"},\"colorscale\":[[0.0,\"#440154\"],[0.1111111111111111,\"#482878\"],[0.2222222222222222,\"#3e4989\"],[0.3333333333333333,\"#31688e\"],[0.4444444444444444,\"#26828e\"],[0.5555555555555556,\"#1f9e89\"],[0.6666666666666666,\"#35b779\"],[0.7777777777777778,\"#6ece58\"],[0.8888888888888888,\"#b5de2b\"],[1.0,\"#fde725\"]],\"type\":\"contour\"}],\"heatmapgl\":[{\"colorbar\":{\"outlinewidth\":1,\"tickcolor\":\"rgb(36,36,36)\",\"ticks\":\"outside\"},\"colorscale\":[[0.0,\"#440154\"],[0.1111111111111111,\"#482878\"],[0.2222222222222222,\"#3e4989\"],[0.3333333333333333,\"#31688e\"],[0.4444444444444444,\"#26828e\"],[0.5555555555555556,\"#1f9e89\"],[0.6666666666666666,\"#35b779\"],[0.7777777777777778,\"#6ece58\"],[0.8888888888888888,\"#b5de2b\"],[1.0,\"#fde725\"]],\"type\":\"heatmapgl\"}],\"heatmap\":[{\"colorbar\":{\"outlinewidth\":1,\"tickcolor\":\"rgb(36,36,36)\",\"ticks\":\"outside\"},\"colorscale\":[[0.0,\"#440154\"],[0.1111111111111111,\"#482878\"],[0.2222222222222222,\"#3e4989\"],[0.3333333333333333,\"#31688e\"],[0.4444444444444444,\"#26828e\"],[0.5555555555555556,\"#1f9e89\"],[0.6666666666666666,\"#35b779\"],[0.7777777777777778,\"#6ece58\"],[0.8888888888888888,\"#b5de2b\"],[1.0,\"#fde725\"]],\"type\":\"heatmap\"}],\"histogram2dcontour\":[{\"colorbar\":{\"outlinewidth\":1,\"tickcolor\":\"rgb(36,36,36)\",\"ticks\":\"outside\"},\"colorscale\":[[0.0,\"#440154\"],[0.1111111111111111,\"#482878\"],[0.2222222222222222,\"#3e4989\"],[0.3333333333333333,\"#31688e\"],[0.4444444444444444,\"#26828e\"],[0.5555555555555556,\"#1f9e89\"],[0.6666666666666666,\"#35b779\"],[0.7777777777777778,\"#6ece58\"],[0.8888888888888888,\"#b5de2b\"],[1.0,\"#fde725\"]],\"type\":\"histogram2dcontour\"}],\"histogram2d\":[{\"colorbar\":{\"outlinewidth\":1,\"tickcolor\":\"rgb(36,36,36)\",\"ticks\":\"outside\"},\"colorscale\":[[0.0,\"#440154\"],[0.1111111111111111,\"#482878\"],[0.2222222222222222,\"#3e4989\"],[0.3333333333333333,\"#31688e\"],[0.4444444444444444,\"#26828e\"],[0.5555555555555556,\"#1f9e89\"],[0.6666666666666666,\"#35b779\"],[0.7777777777777778,\"#6ece58\"],[0.8888888888888888,\"#b5de2b\"],[1.0,\"#fde725\"]],\"type\":\"histogram2d\"}],\"histogram\":[{\"marker\":{\"line\":{\"color\":\"white\",\"width\":0.6}},\"type\":\"histogram\"}],\"mesh3d\":[{\"colorbar\":{\"outlinewidth\":1,\"tickcolor\":\"rgb(36,36,36)\",\"ticks\":\"outside\"},\"type\":\"mesh3d\"}],\"parcoords\":[{\"line\":{\"colorbar\":{\"outlinewidth\":1,\"tickcolor\":\"rgb(36,36,36)\",\"ticks\":\"outside\"}},\"type\":\"parcoords\"}],\"pie\":[{\"automargin\":true,\"type\":\"pie\"}],\"scatter3d\":[{\"line\":{\"colorbar\":{\"outlinewidth\":1,\"tickcolor\":\"rgb(36,36,36)\",\"ticks\":\"outside\"}},\"marker\":{\"colorbar\":{\"outlinewidth\":1,\"tickcolor\":\"rgb(36,36,36)\",\"ticks\":\"outside\"}},\"type\":\"scatter3d\"}],\"scattercarpet\":[{\"marker\":{\"colorbar\":{\"outlinewidth\":1,\"tickcolor\":\"rgb(36,36,36)\",\"ticks\":\"outside\"}},\"type\":\"scattercarpet\"}],\"scattergeo\":[{\"marker\":{\"colorbar\":{\"outlinewidth\":1,\"tickcolor\":\"rgb(36,36,36)\",\"ticks\":\"outside\"}},\"type\":\"scattergeo\"}],\"scattergl\":[{\"marker\":{\"colorbar\":{\"outlinewidth\":1,\"tickcolor\":\"rgb(36,36,36)\",\"ticks\":\"outside\"}},\"type\":\"scattergl\"}],\"scattermapbox\":[{\"marker\":{\"colorbar\":{\"outlinewidth\":1,\"tickcolor\":\"rgb(36,36,36)\",\"ticks\":\"outside\"}},\"type\":\"scattermapbox\"}],\"scatterpolargl\":[{\"marker\":{\"colorbar\":{\"outlinewidth\":1,\"tickcolor\":\"rgb(36,36,36)\",\"ticks\":\"outside\"}},\"type\":\"scatterpolargl\"}],\"scatterpolar\":[{\"marker\":{\"colorbar\":{\"outlinewidth\":1,\"tickcolor\":\"rgb(36,36,36)\",\"ticks\":\"outside\"}},\"type\":\"scatterpolar\"}],\"scatter\":[{\"fillpattern\":{\"fillmode\":\"overlay\",\"size\":10,\"solidity\":0.2},\"type\":\"scatter\"}],\"scatterternary\":[{\"marker\":{\"colorbar\":{\"outlinewidth\":1,\"tickcolor\":\"rgb(36,36,36)\",\"ticks\":\"outside\"}},\"type\":\"scatterternary\"}],\"surface\":[{\"colorbar\":{\"outlinewidth\":1,\"tickcolor\":\"rgb(36,36,36)\",\"ticks\":\"outside\"},\"colorscale\":[[0.0,\"#440154\"],[0.1111111111111111,\"#482878\"],[0.2222222222222222,\"#3e4989\"],[0.3333333333333333,\"#31688e\"],[0.4444444444444444,\"#26828e\"],[0.5555555555555556,\"#1f9e89\"],[0.6666666666666666,\"#35b779\"],[0.7777777777777778,\"#6ece58\"],[0.8888888888888888,\"#b5de2b\"],[1.0,\"#fde725\"]],\"type\":\"surface\"}],\"table\":[{\"cells\":{\"fill\":{\"color\":\"rgb(237,237,237)\"},\"line\":{\"color\":\"white\"}},\"header\":{\"fill\":{\"color\":\"rgb(217,217,217)\"},\"line\":{\"color\":\"white\"}},\"type\":\"table\"}]},\"layout\":{\"annotationdefaults\":{\"arrowhead\":0,\"arrowwidth\":1},\"autotypenumbers\":\"strict\",\"coloraxis\":{\"colorbar\":{\"outlinewidth\":1,\"tickcolor\":\"rgb(36,36,36)\",\"ticks\":\"outside\"}},\"colorscale\":{\"diverging\":[[0.0,\"rgb(103,0,31)\"],[0.1,\"rgb(178,24,43)\"],[0.2,\"rgb(214,96,77)\"],[0.3,\"rgb(244,165,130)\"],[0.4,\"rgb(253,219,199)\"],[0.5,\"rgb(247,247,247)\"],[0.6,\"rgb(209,229,240)\"],[0.7,\"rgb(146,197,222)\"],[0.8,\"rgb(67,147,195)\"],[0.9,\"rgb(33,102,172)\"],[1.0,\"rgb(5,48,97)\"]],\"sequential\":[[0.0,\"#440154\"],[0.1111111111111111,\"#482878\"],[0.2222222222222222,\"#3e4989\"],[0.3333333333333333,\"#31688e\"],[0.4444444444444444,\"#26828e\"],[0.5555555555555556,\"#1f9e89\"],[0.6666666666666666,\"#35b779\"],[0.7777777777777778,\"#6ece58\"],[0.8888888888888888,\"#b5de2b\"],[1.0,\"#fde725\"]],\"sequentialminus\":[[0.0,\"#440154\"],[0.1111111111111111,\"#482878\"],[0.2222222222222222,\"#3e4989\"],[0.3333333333333333,\"#31688e\"],[0.4444444444444444,\"#26828e\"],[0.5555555555555556,\"#1f9e89\"],[0.6666666666666666,\"#35b779\"],[0.7777777777777778,\"#6ece58\"],[0.8888888888888888,\"#b5de2b\"],[1.0,\"#fde725\"]]},\"colorway\":[\"#1F77B4\",\"#FF7F0E\",\"#2CA02C\",\"#D62728\",\"#9467BD\",\"#8C564B\",\"#E377C2\",\"#7F7F7F\",\"#BCBD22\",\"#17BECF\"],\"font\":{\"color\":\"rgb(36,36,36)\"},\"geo\":{\"bgcolor\":\"white\",\"lakecolor\":\"white\",\"landcolor\":\"white\",\"showlakes\":true,\"showland\":true,\"subunitcolor\":\"white\"},\"hoverlabel\":{\"align\":\"left\"},\"hovermode\":\"closest\",\"mapbox\":{\"style\":\"light\"},\"paper_bgcolor\":\"white\",\"plot_bgcolor\":\"white\",\"polar\":{\"angularaxis\":{\"gridcolor\":\"rgb(232,232,232)\",\"linecolor\":\"rgb(36,36,36)\",\"showgrid\":false,\"showline\":true,\"ticks\":\"outside\"},\"bgcolor\":\"white\",\"radialaxis\":{\"gridcolor\":\"rgb(232,232,232)\",\"linecolor\":\"rgb(36,36,36)\",\"showgrid\":false,\"showline\":true,\"ticks\":\"outside\"}},\"scene\":{\"xaxis\":{\"backgroundcolor\":\"white\",\"gridcolor\":\"rgb(232,232,232)\",\"gridwidth\":2,\"linecolor\":\"rgb(36,36,36)\",\"showbackground\":true,\"showgrid\":false,\"showline\":true,\"ticks\":\"outside\",\"zeroline\":false,\"zerolinecolor\":\"rgb(36,36,36)\"},\"yaxis\":{\"backgroundcolor\":\"white\",\"gridcolor\":\"rgb(232,232,232)\",\"gridwidth\":2,\"linecolor\":\"rgb(36,36,36)\",\"showbackground\":true,\"showgrid\":false,\"showline\":true,\"ticks\":\"outside\",\"zeroline\":false,\"zerolinecolor\":\"rgb(36,36,36)\"},\"zaxis\":{\"backgroundcolor\":\"white\",\"gridcolor\":\"rgb(232,232,232)\",\"gridwidth\":2,\"linecolor\":\"rgb(36,36,36)\",\"showbackground\":true,\"showgrid\":false,\"showline\":true,\"ticks\":\"outside\",\"zeroline\":false,\"zerolinecolor\":\"rgb(36,36,36)\"}},\"shapedefaults\":{\"fillcolor\":\"black\",\"line\":{\"width\":0},\"opacity\":0.3},\"ternary\":{\"aaxis\":{\"gridcolor\":\"rgb(232,232,232)\",\"linecolor\":\"rgb(36,36,36)\",\"showgrid\":false,\"showline\":true,\"ticks\":\"outside\"},\"baxis\":{\"gridcolor\":\"rgb(232,232,232)\",\"linecolor\":\"rgb(36,36,36)\",\"showgrid\":false,\"showline\":true,\"ticks\":\"outside\"},\"bgcolor\":\"white\",\"caxis\":{\"gridcolor\":\"rgb(232,232,232)\",\"linecolor\":\"rgb(36,36,36)\",\"showgrid\":false,\"showline\":true,\"ticks\":\"outside\"}},\"title\":{\"x\":0.5,\"xanchor\":\"center\"},\"xaxis\":{\"automargin\":true,\"gridcolor\":\"rgb(232,232,232)\",\"linecolor\":\"rgb(36,36,36)\",\"showgrid\":true,\"showline\":true,\"ticks\":\"outside\",\"title\":{\"standoff\":15},\"zeroline\":false,\"zerolinecolor\":\"rgb(36,36,36)\"},\"yaxis\":{\"automargin\":true,\"gridcolor\":\"rgb(232,232,232)\",\"linecolor\":\"rgb(36,36,36)\",\"showgrid\":true,\"showline\":true,\"ticks\":\"outside\",\"title\":{\"standoff\":15},\"zeroline\":false,\"zerolinecolor\":\"rgb(36,36,36)\"},\"autosize\":true,\"height\":400,\"margin\":{\"b\":30,\"l\":30,\"r\":30,\"t\":30},\"width\":600}},\"scene\":{\"xaxis\":{\"title\":{\"text\":\"Ingredients\"}},\"yaxis\":{\"title\":{\"text\":\"Minutes\"}},\"zaxis\":{\"title\":{\"text\":\"Predicted Rating\"}}},\"title\":{\"text\":\"Visualization of Model Performance with Constant Steps\"}},                        {\"responsive\": true}                    ).then(function(){\n",
       "                            \n",
       "var gd = document.getElementById('2f779946-aac1-4bd6-adba-529291830068');\n",
       "var x = new MutationObserver(function (mutations, observer) {{\n",
       "        var display = window.getComputedStyle(gd).display;\n",
       "        if (!display || display === 'none') {{\n",
       "            console.log([gd, 'removed!']);\n",
       "            Plotly.purge(gd);\n",
       "            observer.disconnect();\n",
       "        }}\n",
       "}});\n",
       "\n",
       "// Listen for the removal of the full notebook cells\n",
       "var notebookContainer = gd.closest('#notebook-container');\n",
       "if (notebookContainer) {{\n",
       "    x.observe(notebookContainer, {childList: true});\n",
       "}}\n",
       "\n",
       "// Listen for the clearing of the current output cell\n",
       "var outputEl = gd.closest('.output');\n",
       "if (outputEl) {{\n",
       "    x.observe(outputEl, {childList: true});\n",
       "}}\n",
       "\n",
       "                        })                };                });            </script>        </div>"
      ]
     },
     "metadata": {},
     "output_type": "display_data"
    }
   ],
   "source": [
    "x_grid, y_grid = np.mgrid[\n",
    "    merged_non_zero['n_ingredients'].min():merged_non_zero['n_ingredients'].max():20j,\n",
    "    merged_non_zero['minutes'].min():merged_non_zero['minutes'].max():20j\n",
    "]\n",
    "\n",
    "grid_df = pd.DataFrame({\n",
    "    'n_ingredients': x_grid.ravel(),\n",
    "    'minutes': y_grid.ravel(),\n",
    "    'n_steps': merged_non_zero['n_steps'].median()  # Hold constant\n",
    "})\n",
    "\n",
    "z = model_cross.predict(grid_df).reshape(x_grid.shape)\n",
    "\n",
    "fig = go.Figure(data=[\n",
    "    go.Surface(\n",
    "        x=x_grid,\n",
    "        y=y_grid,\n",
    "        z=z,\n",
    "        colorscale='Rainbow'\n",
    "    )\n",
    "])\n",
    "fig.update_layout(\n",
    "    scene=dict(\n",
    "        xaxis_title='Ingredients',\n",
    "        yaxis_title='Minutes',\n",
    "        zaxis_title='Predicted Rating'\n",
    "    ),\n",
    "    title='Visualization of Model Performance with Constant Steps'\n",
    ")\n",
    "fig.show()\n",
    "fig.write_html('finMConstSTEPS.html', include_plotlyjs='cdn')"
   ]
  },
  {
   "cell_type": "code",
   "execution_count": 35,
   "metadata": {},
   "outputs": [
    {
     "data": {
      "application/vnd.plotly.v1+json": {
       "config": {
        "plotlyServerURL": "https://plot.ly"
       },
       "data": [
        {
         "colorscale": [
          [
           0,
           "rgb(150,0,90)"
          ],
          [
           0.125,
           "rgb(0,0,200)"
          ],
          [
           0.25,
           "rgb(0,25,255)"
          ],
          [
           0.375,
           "rgb(0,152,255)"
          ],
          [
           0.5,
           "rgb(44,255,150)"
          ],
          [
           0.625,
           "rgb(151,255,0)"
          ],
          [
           0.75,
           "rgb(255,234,0)"
          ],
          [
           0.875,
           "rgb(255,111,0)"
          ],
          [
           1,
           "rgb(255,0,0)"
          ]
         ],
         "type": "surface",
         "x": [
          [
           1,
           1,
           1,
           1,
           1,
           1,
           1,
           1,
           1,
           1,
           1,
           1,
           1,
           1,
           1,
           1,
           1,
           1,
           1,
           1
          ],
          [
           6.2105263157894735,
           6.2105263157894735,
           6.2105263157894735,
           6.2105263157894735,
           6.2105263157894735,
           6.2105263157894735,
           6.2105263157894735,
           6.2105263157894735,
           6.2105263157894735,
           6.2105263157894735,
           6.2105263157894735,
           6.2105263157894735,
           6.2105263157894735,
           6.2105263157894735,
           6.2105263157894735,
           6.2105263157894735,
           6.2105263157894735,
           6.2105263157894735,
           6.2105263157894735,
           6.2105263157894735
          ],
          [
           11.421052631578947,
           11.421052631578947,
           11.421052631578947,
           11.421052631578947,
           11.421052631578947,
           11.421052631578947,
           11.421052631578947,
           11.421052631578947,
           11.421052631578947,
           11.421052631578947,
           11.421052631578947,
           11.421052631578947,
           11.421052631578947,
           11.421052631578947,
           11.421052631578947,
           11.421052631578947,
           11.421052631578947,
           11.421052631578947,
           11.421052631578947,
           11.421052631578947
          ],
          [
           16.63157894736842,
           16.63157894736842,
           16.63157894736842,
           16.63157894736842,
           16.63157894736842,
           16.63157894736842,
           16.63157894736842,
           16.63157894736842,
           16.63157894736842,
           16.63157894736842,
           16.63157894736842,
           16.63157894736842,
           16.63157894736842,
           16.63157894736842,
           16.63157894736842,
           16.63157894736842,
           16.63157894736842,
           16.63157894736842,
           16.63157894736842,
           16.63157894736842
          ],
          [
           21.842105263157894,
           21.842105263157894,
           21.842105263157894,
           21.842105263157894,
           21.842105263157894,
           21.842105263157894,
           21.842105263157894,
           21.842105263157894,
           21.842105263157894,
           21.842105263157894,
           21.842105263157894,
           21.842105263157894,
           21.842105263157894,
           21.842105263157894,
           21.842105263157894,
           21.842105263157894,
           21.842105263157894,
           21.842105263157894,
           21.842105263157894,
           21.842105263157894
          ],
          [
           27.052631578947366,
           27.052631578947366,
           27.052631578947366,
           27.052631578947366,
           27.052631578947366,
           27.052631578947366,
           27.052631578947366,
           27.052631578947366,
           27.052631578947366,
           27.052631578947366,
           27.052631578947366,
           27.052631578947366,
           27.052631578947366,
           27.052631578947366,
           27.052631578947366,
           27.052631578947366,
           27.052631578947366,
           27.052631578947366,
           27.052631578947366,
           27.052631578947366
          ],
          [
           32.26315789473684,
           32.26315789473684,
           32.26315789473684,
           32.26315789473684,
           32.26315789473684,
           32.26315789473684,
           32.26315789473684,
           32.26315789473684,
           32.26315789473684,
           32.26315789473684,
           32.26315789473684,
           32.26315789473684,
           32.26315789473684,
           32.26315789473684,
           32.26315789473684,
           32.26315789473684,
           32.26315789473684,
           32.26315789473684,
           32.26315789473684,
           32.26315789473684
          ],
          [
           37.473684210526315,
           37.473684210526315,
           37.473684210526315,
           37.473684210526315,
           37.473684210526315,
           37.473684210526315,
           37.473684210526315,
           37.473684210526315,
           37.473684210526315,
           37.473684210526315,
           37.473684210526315,
           37.473684210526315,
           37.473684210526315,
           37.473684210526315,
           37.473684210526315,
           37.473684210526315,
           37.473684210526315,
           37.473684210526315,
           37.473684210526315,
           37.473684210526315
          ],
          [
           42.68421052631579,
           42.68421052631579,
           42.68421052631579,
           42.68421052631579,
           42.68421052631579,
           42.68421052631579,
           42.68421052631579,
           42.68421052631579,
           42.68421052631579,
           42.68421052631579,
           42.68421052631579,
           42.68421052631579,
           42.68421052631579,
           42.68421052631579,
           42.68421052631579,
           42.68421052631579,
           42.68421052631579,
           42.68421052631579,
           42.68421052631579,
           42.68421052631579
          ],
          [
           47.89473684210526,
           47.89473684210526,
           47.89473684210526,
           47.89473684210526,
           47.89473684210526,
           47.89473684210526,
           47.89473684210526,
           47.89473684210526,
           47.89473684210526,
           47.89473684210526,
           47.89473684210526,
           47.89473684210526,
           47.89473684210526,
           47.89473684210526,
           47.89473684210526,
           47.89473684210526,
           47.89473684210526,
           47.89473684210526,
           47.89473684210526,
           47.89473684210526
          ],
          [
           53.10526315789473,
           53.10526315789473,
           53.10526315789473,
           53.10526315789473,
           53.10526315789473,
           53.10526315789473,
           53.10526315789473,
           53.10526315789473,
           53.10526315789473,
           53.10526315789473,
           53.10526315789473,
           53.10526315789473,
           53.10526315789473,
           53.10526315789473,
           53.10526315789473,
           53.10526315789473,
           53.10526315789473,
           53.10526315789473,
           53.10526315789473,
           53.10526315789473
          ],
          [
           58.315789473684205,
           58.315789473684205,
           58.315789473684205,
           58.315789473684205,
           58.315789473684205,
           58.315789473684205,
           58.315789473684205,
           58.315789473684205,
           58.315789473684205,
           58.315789473684205,
           58.315789473684205,
           58.315789473684205,
           58.315789473684205,
           58.315789473684205,
           58.315789473684205,
           58.315789473684205,
           58.315789473684205,
           58.315789473684205,
           58.315789473684205,
           58.315789473684205
          ],
          [
           63.526315789473685,
           63.526315789473685,
           63.526315789473685,
           63.526315789473685,
           63.526315789473685,
           63.526315789473685,
           63.526315789473685,
           63.526315789473685,
           63.526315789473685,
           63.526315789473685,
           63.526315789473685,
           63.526315789473685,
           63.526315789473685,
           63.526315789473685,
           63.526315789473685,
           63.526315789473685,
           63.526315789473685,
           63.526315789473685,
           63.526315789473685,
           63.526315789473685
          ],
          [
           68.73684210526315,
           68.73684210526315,
           68.73684210526315,
           68.73684210526315,
           68.73684210526315,
           68.73684210526315,
           68.73684210526315,
           68.73684210526315,
           68.73684210526315,
           68.73684210526315,
           68.73684210526315,
           68.73684210526315,
           68.73684210526315,
           68.73684210526315,
           68.73684210526315,
           68.73684210526315,
           68.73684210526315,
           68.73684210526315,
           68.73684210526315,
           68.73684210526315
          ],
          [
           73.94736842105263,
           73.94736842105263,
           73.94736842105263,
           73.94736842105263,
           73.94736842105263,
           73.94736842105263,
           73.94736842105263,
           73.94736842105263,
           73.94736842105263,
           73.94736842105263,
           73.94736842105263,
           73.94736842105263,
           73.94736842105263,
           73.94736842105263,
           73.94736842105263,
           73.94736842105263,
           73.94736842105263,
           73.94736842105263,
           73.94736842105263,
           73.94736842105263
          ],
          [
           79.1578947368421,
           79.1578947368421,
           79.1578947368421,
           79.1578947368421,
           79.1578947368421,
           79.1578947368421,
           79.1578947368421,
           79.1578947368421,
           79.1578947368421,
           79.1578947368421,
           79.1578947368421,
           79.1578947368421,
           79.1578947368421,
           79.1578947368421,
           79.1578947368421,
           79.1578947368421,
           79.1578947368421,
           79.1578947368421,
           79.1578947368421,
           79.1578947368421
          ],
          [
           84.36842105263158,
           84.36842105263158,
           84.36842105263158,
           84.36842105263158,
           84.36842105263158,
           84.36842105263158,
           84.36842105263158,
           84.36842105263158,
           84.36842105263158,
           84.36842105263158,
           84.36842105263158,
           84.36842105263158,
           84.36842105263158,
           84.36842105263158,
           84.36842105263158,
           84.36842105263158,
           84.36842105263158,
           84.36842105263158,
           84.36842105263158,
           84.36842105263158
          ],
          [
           89.57894736842105,
           89.57894736842105,
           89.57894736842105,
           89.57894736842105,
           89.57894736842105,
           89.57894736842105,
           89.57894736842105,
           89.57894736842105,
           89.57894736842105,
           89.57894736842105,
           89.57894736842105,
           89.57894736842105,
           89.57894736842105,
           89.57894736842105,
           89.57894736842105,
           89.57894736842105,
           89.57894736842105,
           89.57894736842105,
           89.57894736842105,
           89.57894736842105
          ],
          [
           94.78947368421052,
           94.78947368421052,
           94.78947368421052,
           94.78947368421052,
           94.78947368421052,
           94.78947368421052,
           94.78947368421052,
           94.78947368421052,
           94.78947368421052,
           94.78947368421052,
           94.78947368421052,
           94.78947368421052,
           94.78947368421052,
           94.78947368421052,
           94.78947368421052,
           94.78947368421052,
           94.78947368421052,
           94.78947368421052,
           94.78947368421052,
           94.78947368421052
          ],
          [
           100,
           100,
           100,
           100,
           100,
           100,
           100,
           100,
           100,
           100,
           100,
           100,
           100,
           100,
           100,
           100,
           100,
           100,
           100,
           100
          ]
         ],
         "y": [
          [
           0,
           55326.31578947369,
           110652.63157894737,
           165978.94736842107,
           221305.26315789475,
           276631.5789473684,
           331957.89473684214,
           387284.2105263158,
           442610.5263157895,
           497936.8421052632,
           553263.1578947369,
           608589.4736842106,
           663915.7894736843,
           719242.105263158,
           774568.4210526316,
           829894.7368421053,
           885221.052631579,
           940547.3684210527,
           995873.6842105264,
           1051200
          ],
          [
           0,
           55326.31578947369,
           110652.63157894737,
           165978.94736842107,
           221305.26315789475,
           276631.5789473684,
           331957.89473684214,
           387284.2105263158,
           442610.5263157895,
           497936.8421052632,
           553263.1578947369,
           608589.4736842106,
           663915.7894736843,
           719242.105263158,
           774568.4210526316,
           829894.7368421053,
           885221.052631579,
           940547.3684210527,
           995873.6842105264,
           1051200
          ],
          [
           0,
           55326.31578947369,
           110652.63157894737,
           165978.94736842107,
           221305.26315789475,
           276631.5789473684,
           331957.89473684214,
           387284.2105263158,
           442610.5263157895,
           497936.8421052632,
           553263.1578947369,
           608589.4736842106,
           663915.7894736843,
           719242.105263158,
           774568.4210526316,
           829894.7368421053,
           885221.052631579,
           940547.3684210527,
           995873.6842105264,
           1051200
          ],
          [
           0,
           55326.31578947369,
           110652.63157894737,
           165978.94736842107,
           221305.26315789475,
           276631.5789473684,
           331957.89473684214,
           387284.2105263158,
           442610.5263157895,
           497936.8421052632,
           553263.1578947369,
           608589.4736842106,
           663915.7894736843,
           719242.105263158,
           774568.4210526316,
           829894.7368421053,
           885221.052631579,
           940547.3684210527,
           995873.6842105264,
           1051200
          ],
          [
           0,
           55326.31578947369,
           110652.63157894737,
           165978.94736842107,
           221305.26315789475,
           276631.5789473684,
           331957.89473684214,
           387284.2105263158,
           442610.5263157895,
           497936.8421052632,
           553263.1578947369,
           608589.4736842106,
           663915.7894736843,
           719242.105263158,
           774568.4210526316,
           829894.7368421053,
           885221.052631579,
           940547.3684210527,
           995873.6842105264,
           1051200
          ],
          [
           0,
           55326.31578947369,
           110652.63157894737,
           165978.94736842107,
           221305.26315789475,
           276631.5789473684,
           331957.89473684214,
           387284.2105263158,
           442610.5263157895,
           497936.8421052632,
           553263.1578947369,
           608589.4736842106,
           663915.7894736843,
           719242.105263158,
           774568.4210526316,
           829894.7368421053,
           885221.052631579,
           940547.3684210527,
           995873.6842105264,
           1051200
          ],
          [
           0,
           55326.31578947369,
           110652.63157894737,
           165978.94736842107,
           221305.26315789475,
           276631.5789473684,
           331957.89473684214,
           387284.2105263158,
           442610.5263157895,
           497936.8421052632,
           553263.1578947369,
           608589.4736842106,
           663915.7894736843,
           719242.105263158,
           774568.4210526316,
           829894.7368421053,
           885221.052631579,
           940547.3684210527,
           995873.6842105264,
           1051200
          ],
          [
           0,
           55326.31578947369,
           110652.63157894737,
           165978.94736842107,
           221305.26315789475,
           276631.5789473684,
           331957.89473684214,
           387284.2105263158,
           442610.5263157895,
           497936.8421052632,
           553263.1578947369,
           608589.4736842106,
           663915.7894736843,
           719242.105263158,
           774568.4210526316,
           829894.7368421053,
           885221.052631579,
           940547.3684210527,
           995873.6842105264,
           1051200
          ],
          [
           0,
           55326.31578947369,
           110652.63157894737,
           165978.94736842107,
           221305.26315789475,
           276631.5789473684,
           331957.89473684214,
           387284.2105263158,
           442610.5263157895,
           497936.8421052632,
           553263.1578947369,
           608589.4736842106,
           663915.7894736843,
           719242.105263158,
           774568.4210526316,
           829894.7368421053,
           885221.052631579,
           940547.3684210527,
           995873.6842105264,
           1051200
          ],
          [
           0,
           55326.31578947369,
           110652.63157894737,
           165978.94736842107,
           221305.26315789475,
           276631.5789473684,
           331957.89473684214,
           387284.2105263158,
           442610.5263157895,
           497936.8421052632,
           553263.1578947369,
           608589.4736842106,
           663915.7894736843,
           719242.105263158,
           774568.4210526316,
           829894.7368421053,
           885221.052631579,
           940547.3684210527,
           995873.6842105264,
           1051200
          ],
          [
           0,
           55326.31578947369,
           110652.63157894737,
           165978.94736842107,
           221305.26315789475,
           276631.5789473684,
           331957.89473684214,
           387284.2105263158,
           442610.5263157895,
           497936.8421052632,
           553263.1578947369,
           608589.4736842106,
           663915.7894736843,
           719242.105263158,
           774568.4210526316,
           829894.7368421053,
           885221.052631579,
           940547.3684210527,
           995873.6842105264,
           1051200
          ],
          [
           0,
           55326.31578947369,
           110652.63157894737,
           165978.94736842107,
           221305.26315789475,
           276631.5789473684,
           331957.89473684214,
           387284.2105263158,
           442610.5263157895,
           497936.8421052632,
           553263.1578947369,
           608589.4736842106,
           663915.7894736843,
           719242.105263158,
           774568.4210526316,
           829894.7368421053,
           885221.052631579,
           940547.3684210527,
           995873.6842105264,
           1051200
          ],
          [
           0,
           55326.31578947369,
           110652.63157894737,
           165978.94736842107,
           221305.26315789475,
           276631.5789473684,
           331957.89473684214,
           387284.2105263158,
           442610.5263157895,
           497936.8421052632,
           553263.1578947369,
           608589.4736842106,
           663915.7894736843,
           719242.105263158,
           774568.4210526316,
           829894.7368421053,
           885221.052631579,
           940547.3684210527,
           995873.6842105264,
           1051200
          ],
          [
           0,
           55326.31578947369,
           110652.63157894737,
           165978.94736842107,
           221305.26315789475,
           276631.5789473684,
           331957.89473684214,
           387284.2105263158,
           442610.5263157895,
           497936.8421052632,
           553263.1578947369,
           608589.4736842106,
           663915.7894736843,
           719242.105263158,
           774568.4210526316,
           829894.7368421053,
           885221.052631579,
           940547.3684210527,
           995873.6842105264,
           1051200
          ],
          [
           0,
           55326.31578947369,
           110652.63157894737,
           165978.94736842107,
           221305.26315789475,
           276631.5789473684,
           331957.89473684214,
           387284.2105263158,
           442610.5263157895,
           497936.8421052632,
           553263.1578947369,
           608589.4736842106,
           663915.7894736843,
           719242.105263158,
           774568.4210526316,
           829894.7368421053,
           885221.052631579,
           940547.3684210527,
           995873.6842105264,
           1051200
          ],
          [
           0,
           55326.31578947369,
           110652.63157894737,
           165978.94736842107,
           221305.26315789475,
           276631.5789473684,
           331957.89473684214,
           387284.2105263158,
           442610.5263157895,
           497936.8421052632,
           553263.1578947369,
           608589.4736842106,
           663915.7894736843,
           719242.105263158,
           774568.4210526316,
           829894.7368421053,
           885221.052631579,
           940547.3684210527,
           995873.6842105264,
           1051200
          ],
          [
           0,
           55326.31578947369,
           110652.63157894737,
           165978.94736842107,
           221305.26315789475,
           276631.5789473684,
           331957.89473684214,
           387284.2105263158,
           442610.5263157895,
           497936.8421052632,
           553263.1578947369,
           608589.4736842106,
           663915.7894736843,
           719242.105263158,
           774568.4210526316,
           829894.7368421053,
           885221.052631579,
           940547.3684210527,
           995873.6842105264,
           1051200
          ],
          [
           0,
           55326.31578947369,
           110652.63157894737,
           165978.94736842107,
           221305.26315789475,
           276631.5789473684,
           331957.89473684214,
           387284.2105263158,
           442610.5263157895,
           497936.8421052632,
           553263.1578947369,
           608589.4736842106,
           663915.7894736843,
           719242.105263158,
           774568.4210526316,
           829894.7368421053,
           885221.052631579,
           940547.3684210527,
           995873.6842105264,
           1051200
          ],
          [
           0,
           55326.31578947369,
           110652.63157894737,
           165978.94736842107,
           221305.26315789475,
           276631.5789473684,
           331957.89473684214,
           387284.2105263158,
           442610.5263157895,
           497936.8421052632,
           553263.1578947369,
           608589.4736842106,
           663915.7894736843,
           719242.105263158,
           774568.4210526316,
           829894.7368421053,
           885221.052631579,
           940547.3684210527,
           995873.6842105264,
           1051200
          ],
          [
           0,
           55326.31578947369,
           110652.63157894737,
           165978.94736842107,
           221305.26315789475,
           276631.5789473684,
           331957.89473684214,
           387284.2105263158,
           442610.5263157895,
           497936.8421052632,
           553263.1578947369,
           608589.4736842106,
           663915.7894736843,
           719242.105263158,
           774568.4210526316,
           829894.7368421053,
           885221.052631579,
           940547.3684210527,
           995873.6842105264,
           1051200
          ]
         ],
         "z": [
          [
           4.762885115343448,
           4.505780504099278,
           4.505780504099278,
           4.505780504099278,
           4.505780504099278,
           4.505780504099278,
           4.505780504099278,
           4.505780504099278,
           4.505780504099278,
           4.505780504099278,
           4.505780504099278,
           4.505780504099278,
           4.505780504099278,
           4.505780504099278,
           4.505780504099278,
           4.505780504099278,
           4.505780504099278,
           4.505780504099278,
           4.505780504099278,
           4.505780504099278
          ],
          [
           4.613324117501159,
           4.52271546151267,
           4.52271546151267,
           4.52271546151267,
           4.52271546151267,
           4.52271546151267,
           4.52271546151267,
           4.52271546151267,
           4.52271546151267,
           4.52271546151267,
           4.52271546151267,
           4.52271546151267,
           4.52271546151267,
           4.52271546151267,
           4.52271546151267,
           4.52271546151267,
           4.52271546151267,
           4.52271546151267,
           4.52271546151267,
           4.52271546151267
          ],
          [
           4.466375970090371,
           4.590805903232803,
           4.590805903232803,
           4.590805903232803,
           4.590805903232803,
           4.590805903232803,
           4.590805903232803,
           4.590805903232803,
           4.590805903232803,
           4.590805903232803,
           4.590805903232803,
           4.590805903232803,
           4.590805903232803,
           4.590805903232803,
           4.590805903232803,
           4.590805903232803,
           4.590805903232803,
           4.590805903232803,
           4.590805903232803,
           4.590805903232803
          ],
          [
           4.445039105153544,
           4.623542754981804,
           4.623542754981804,
           4.623542754981804,
           4.623542754981804,
           4.623542754981804,
           4.623542754981804,
           4.623542754981804,
           4.623542754981804,
           4.623542754981804,
           4.623542754981804,
           4.623542754981804,
           4.623542754981804,
           4.623542754981804,
           4.623542754981804,
           4.623542754981804,
           4.623542754981804,
           4.623542754981804,
           4.623542754981804,
           4.623542754981804
          ],
          [
           4.454129159305403,
           4.63862575285474,
           4.63862575285474,
           4.63862575285474,
           4.63862575285474,
           4.63862575285474,
           4.63862575285474,
           4.63862575285474,
           4.63862575285474,
           4.63862575285474,
           4.63862575285474,
           4.63862575285474,
           4.63862575285474,
           4.63862575285474,
           4.63862575285474,
           4.63862575285474,
           4.63862575285474,
           4.63862575285474,
           4.63862575285474,
           4.63862575285474
          ],
          [
           4.461348410058046,
           4.644971552750063,
           4.644971552750063,
           4.644971552750063,
           4.644971552750063,
           4.644971552750063,
           4.644971552750063,
           4.644971552750063,
           4.644971552750063,
           4.644971552750063,
           4.644971552750063,
           4.644971552750063,
           4.644971552750063,
           4.644971552750063,
           4.644971552750063,
           4.644971552750063,
           4.644971552750063,
           4.644971552750063,
           4.644971552750063,
           4.644971552750063
          ],
          [
           4.4644063679394295,
           4.647273043206042,
           4.647273043206042,
           4.647273043206042,
           4.647273043206042,
           4.647273043206042,
           4.647273043206042,
           4.647273043206042,
           4.647273043206042,
           4.647273043206042,
           4.647273043206042,
           4.64727304320604,
           4.64727304320604,
           4.647273043206041,
           4.647273043206042,
           4.647273043206042,
           4.647273043206042,
           4.647273043206042,
           4.647273043206042,
           4.647273043206042
          ],
          [
           4.465313065436217,
           4.647925306156734,
           4.647925306156734,
           4.647925306156734,
           4.647925306156734,
           4.647925306156734,
           4.647925306156734,
           4.647925306156734,
           4.647925306156734,
           4.647925306156734,
           4.647925306156734,
           4.647925306156734,
           4.647925306156734,
           4.647925306156734,
           4.647925306156734,
           4.647925306156734,
           4.647925306156734,
           4.647925306156734,
           4.647925306156734,
           4.647925306156734
          ],
          [
           4.465735417990332,
           4.648224970102045,
           4.648224970102045,
           4.648224970102045,
           4.648224970102045,
           4.648224970102045,
           4.648224970102045,
           4.648224970102045,
           4.648224970102045,
           4.648224970102045,
           4.648224970102045,
           4.648224970102045,
           4.648224970102045,
           4.648224970102045,
           4.648224970102045,
           4.648224970102045,
           4.648224970102045,
           4.648224970102045,
           4.648224970102045,
           4.648224970102045
          ],
          [
           4.466441604256841,
           4.648720397166839,
           4.648720397166839,
           4.648720397166839,
           4.648720397166839,
           4.648720397166839,
           4.648720397166839,
           4.648720397166839,
           4.648720397166839,
           4.648720397166839,
           4.648720397166839,
           4.648720397166839,
           4.648720397166839,
           4.648720397166839,
           4.648720397166839,
           4.648720397166839,
           4.648720397166839,
           4.648720397166839,
           4.648720397166837,
           4.648720397166837
          ],
          [
           4.466609137768526,
           4.648836931309572,
           4.648836931309572,
           4.648836931309572,
           4.648836931309572,
           4.648836931309572,
           4.648836931309572,
           4.648836931309572,
           4.648836931309572,
           4.648836931309572,
           4.648836931309572,
           4.648836931309572,
           4.648836931309572,
           4.648836931309572,
           4.648836931309572,
           4.648836931309572,
           4.648836931309572,
           4.648836931309572,
           4.648836931309572,
           4.648836931309572
          ],
          [
           4.466655985979889,
           4.648869451275381,
           4.648869451275381,
           4.648869451275381,
           4.648869451275381,
           4.648869451275381,
           4.648869451275381,
           4.648869451275381,
           4.648869451275381,
           4.648869451275381,
           4.648869451275381,
           4.648869451275381,
           4.648869451275381,
           4.648869451275381,
           4.648869451275381,
           4.648869451275381,
           4.648869451275381,
           4.648869451275381,
           4.648869451275381,
           4.648869451275381
          ],
          [
           4.466702889873991,
           4.648901980724997,
           4.648901980724997,
           4.648901980724997,
           4.648901980724997,
           4.648901980724997,
           4.648901980724997,
           4.648901980724997,
           4.648901980724997,
           4.648901980724997,
           4.648901980724997,
           4.648901980724997,
           4.648901980724997,
           4.648901980724997,
           4.648901980724997,
           4.648901980724997,
           4.648901980724997,
           4.648901980724997,
           4.648901980724997,
           4.648901980724997
          ],
          [
           4.4667498494691875,
           4.648934519666334,
           4.648934519666334,
           4.648934519666334,
           4.648934519666334,
           4.648934519666334,
           4.648934519666334,
           4.648934519666335,
           4.648934519666334,
           4.648934519666334,
           4.648934519666334,
           4.648934519666334,
           4.648934519666334,
           4.648934519666334,
           4.648934519666334,
           4.648934519666334,
           4.648934519666334,
           4.648934519666334,
           4.648934519666334,
           4.648934519666334
          ],
          [
           4.466796864783835,
           4.6489670681073125,
           4.6489670681073125,
           4.6489670681073125,
           4.6489670681073125,
           4.6489670681073125,
           4.6489670681073125,
           4.6489670681073125,
           4.6489670681073125,
           4.6489670681073125,
           4.6489670681073125,
           4.6489670681073125,
           4.6489670681073125,
           4.6489670681073125,
           4.6489670681073125,
           4.6489670681073125,
           4.6489670681073125,
           4.6489670681073125,
           4.6489670681073125,
           4.6489670681073125
          ],
          [
           4.4668439358362955,
           4.648999626055859,
           4.648999626055859,
           4.648999626055859,
           4.648999626055859,
           4.648999626055859,
           4.648999626055859,
           4.648999626055859,
           4.648999626055859,
           4.648999626055859,
           4.648999626055859,
           4.648999626055859,
           4.648999626055859,
           4.648999626055859,
           4.648999626055859,
           4.648999626055859,
           4.648999626055859,
           4.648999626055859,
           4.648999626055859,
           4.648999626055859
          ],
          [
           4.466891062644932,
           4.649032193519895,
           4.649032193519895,
           4.649032193519895,
           4.649032193519895,
           4.649032193519895,
           4.649032193519895,
           4.649032193519895,
           4.649032193519895,
           4.649032193519895,
           4.649032193519895,
           4.649032193519895,
           4.6490321935198935,
           4.6490321935198935,
           4.649032193519895,
           4.649032193519895,
           4.649032193519895,
           4.649032193519895,
           4.649032193519895,
           4.649032193519895
          ],
          [
           4.466914885260138,
           4.649048645353056,
           4.649048645353056,
           4.649048645353056,
           4.649048645353056,
           4.649048645353056,
           4.649048645353056,
           4.649048645353056,
           4.649048645353056,
           4.649048645353056,
           4.649048645353056,
           4.649048645353056,
           4.649048645353056,
           4.649048645353056,
           4.649048645353056,
           4.649048645353056,
           4.649048645353056,
           4.649048645353056,
           4.649048645353056,
           4.649048645353056
          ],
          [
           4.466914885260138,
           4.649048645353056,
           4.649048645353056,
           4.649048645353056,
           4.649048645353056,
           4.649048645353056,
           4.649048645353056,
           4.649048645353056,
           4.649048645353056,
           4.649048645353056,
           4.649048645353056,
           4.649048645353056,
           4.649048645353056,
           4.649048645353056,
           4.649048645353056,
           4.649048645353056,
           4.649048645353056,
           4.649048645353056,
           4.649048645353056,
           4.649048645353056
          ],
          [
           4.466914885260138,
           4.649048645353056,
           4.649048645353056,
           4.649048645353056,
           4.649048645353056,
           4.649048645353056,
           4.649048645353056,
           4.649048645353056,
           4.649048645353056,
           4.649048645353056,
           4.649048645353056,
           4.649048645353056,
           4.649048645353056,
           4.649048645353056,
           4.649048645353056,
           4.649048645353056,
           4.649048645353056,
           4.649048645353056,
           4.649048645353057,
           4.649048645353057
          ]
         ]
        }
       ],
       "layout": {
        "autosize": true,
        "scene": {
         "aspectmode": "auto",
         "aspectratio": {
          "x": 1,
          "y": 1,
          "z": 1
         },
         "camera": {
          "center": {
           "x": 0,
           "y": 0,
           "z": 0
          },
          "eye": {
           "x": 0.00015379813743499678,
           "y": -0.007603581750219408,
           "z": 0.006493218824331426
          },
          "projection": {
           "type": "perspective"
          },
          "up": {
           "x": 0,
           "y": 0,
           "z": 1
          }
         },
         "xaxis": {
          "title": {
           "text": "Steps"
          },
          "type": "linear"
         },
         "yaxis": {
          "title": {
           "text": "Minutes"
          },
          "type": "linear"
         },
         "zaxis": {
          "title": {
           "text": "Predicted Rating"
          },
          "type": "linear"
         }
        },
        "template": {
         "data": {
          "bar": [
           {
            "error_x": {
             "color": "rgb(36,36,36)"
            },
            "error_y": {
             "color": "rgb(36,36,36)"
            },
            "marker": {
             "line": {
              "color": "white",
              "width": 0.5
             },
             "pattern": {
              "fillmode": "overlay",
              "size": 10,
              "solidity": 0.2
             }
            },
            "type": "bar"
           }
          ],
          "barpolar": [
           {
            "marker": {
             "line": {
              "color": "white",
              "width": 0.5
             },
             "pattern": {
              "fillmode": "overlay",
              "size": 10,
              "solidity": 0.2
             }
            },
            "type": "barpolar"
           }
          ],
          "carpet": [
           {
            "aaxis": {
             "endlinecolor": "rgb(36,36,36)",
             "gridcolor": "white",
             "linecolor": "white",
             "minorgridcolor": "white",
             "startlinecolor": "rgb(36,36,36)"
            },
            "baxis": {
             "endlinecolor": "rgb(36,36,36)",
             "gridcolor": "white",
             "linecolor": "white",
             "minorgridcolor": "white",
             "startlinecolor": "rgb(36,36,36)"
            },
            "type": "carpet"
           }
          ],
          "choropleth": [
           {
            "colorbar": {
             "outlinewidth": 1,
             "tickcolor": "rgb(36,36,36)",
             "ticks": "outside"
            },
            "type": "choropleth"
           }
          ],
          "contour": [
           {
            "colorbar": {
             "outlinewidth": 1,
             "tickcolor": "rgb(36,36,36)",
             "ticks": "outside"
            },
            "colorscale": [
             [
              0,
              "#440154"
             ],
             [
              0.1111111111111111,
              "#482878"
             ],
             [
              0.2222222222222222,
              "#3e4989"
             ],
             [
              0.3333333333333333,
              "#31688e"
             ],
             [
              0.4444444444444444,
              "#26828e"
             ],
             [
              0.5555555555555556,
              "#1f9e89"
             ],
             [
              0.6666666666666666,
              "#35b779"
             ],
             [
              0.7777777777777778,
              "#6ece58"
             ],
             [
              0.8888888888888888,
              "#b5de2b"
             ],
             [
              1,
              "#fde725"
             ]
            ],
            "type": "contour"
           }
          ],
          "contourcarpet": [
           {
            "colorbar": {
             "outlinewidth": 1,
             "tickcolor": "rgb(36,36,36)",
             "ticks": "outside"
            },
            "type": "contourcarpet"
           }
          ],
          "heatmap": [
           {
            "colorbar": {
             "outlinewidth": 1,
             "tickcolor": "rgb(36,36,36)",
             "ticks": "outside"
            },
            "colorscale": [
             [
              0,
              "#440154"
             ],
             [
              0.1111111111111111,
              "#482878"
             ],
             [
              0.2222222222222222,
              "#3e4989"
             ],
             [
              0.3333333333333333,
              "#31688e"
             ],
             [
              0.4444444444444444,
              "#26828e"
             ],
             [
              0.5555555555555556,
              "#1f9e89"
             ],
             [
              0.6666666666666666,
              "#35b779"
             ],
             [
              0.7777777777777778,
              "#6ece58"
             ],
             [
              0.8888888888888888,
              "#b5de2b"
             ],
             [
              1,
              "#fde725"
             ]
            ],
            "type": "heatmap"
           }
          ],
          "heatmapgl": [
           {
            "colorbar": {
             "outlinewidth": 1,
             "tickcolor": "rgb(36,36,36)",
             "ticks": "outside"
            },
            "colorscale": [
             [
              0,
              "#440154"
             ],
             [
              0.1111111111111111,
              "#482878"
             ],
             [
              0.2222222222222222,
              "#3e4989"
             ],
             [
              0.3333333333333333,
              "#31688e"
             ],
             [
              0.4444444444444444,
              "#26828e"
             ],
             [
              0.5555555555555556,
              "#1f9e89"
             ],
             [
              0.6666666666666666,
              "#35b779"
             ],
             [
              0.7777777777777778,
              "#6ece58"
             ],
             [
              0.8888888888888888,
              "#b5de2b"
             ],
             [
              1,
              "#fde725"
             ]
            ],
            "type": "heatmapgl"
           }
          ],
          "histogram": [
           {
            "marker": {
             "line": {
              "color": "white",
              "width": 0.6
             }
            },
            "type": "histogram"
           }
          ],
          "histogram2d": [
           {
            "colorbar": {
             "outlinewidth": 1,
             "tickcolor": "rgb(36,36,36)",
             "ticks": "outside"
            },
            "colorscale": [
             [
              0,
              "#440154"
             ],
             [
              0.1111111111111111,
              "#482878"
             ],
             [
              0.2222222222222222,
              "#3e4989"
             ],
             [
              0.3333333333333333,
              "#31688e"
             ],
             [
              0.4444444444444444,
              "#26828e"
             ],
             [
              0.5555555555555556,
              "#1f9e89"
             ],
             [
              0.6666666666666666,
              "#35b779"
             ],
             [
              0.7777777777777778,
              "#6ece58"
             ],
             [
              0.8888888888888888,
              "#b5de2b"
             ],
             [
              1,
              "#fde725"
             ]
            ],
            "type": "histogram2d"
           }
          ],
          "histogram2dcontour": [
           {
            "colorbar": {
             "outlinewidth": 1,
             "tickcolor": "rgb(36,36,36)",
             "ticks": "outside"
            },
            "colorscale": [
             [
              0,
              "#440154"
             ],
             [
              0.1111111111111111,
              "#482878"
             ],
             [
              0.2222222222222222,
              "#3e4989"
             ],
             [
              0.3333333333333333,
              "#31688e"
             ],
             [
              0.4444444444444444,
              "#26828e"
             ],
             [
              0.5555555555555556,
              "#1f9e89"
             ],
             [
              0.6666666666666666,
              "#35b779"
             ],
             [
              0.7777777777777778,
              "#6ece58"
             ],
             [
              0.8888888888888888,
              "#b5de2b"
             ],
             [
              1,
              "#fde725"
             ]
            ],
            "type": "histogram2dcontour"
           }
          ],
          "mesh3d": [
           {
            "colorbar": {
             "outlinewidth": 1,
             "tickcolor": "rgb(36,36,36)",
             "ticks": "outside"
            },
            "type": "mesh3d"
           }
          ],
          "parcoords": [
           {
            "line": {
             "colorbar": {
              "outlinewidth": 1,
              "tickcolor": "rgb(36,36,36)",
              "ticks": "outside"
             }
            },
            "type": "parcoords"
           }
          ],
          "pie": [
           {
            "automargin": true,
            "type": "pie"
           }
          ],
          "scatter": [
           {
            "fillpattern": {
             "fillmode": "overlay",
             "size": 10,
             "solidity": 0.2
            },
            "type": "scatter"
           }
          ],
          "scatter3d": [
           {
            "line": {
             "colorbar": {
              "outlinewidth": 1,
              "tickcolor": "rgb(36,36,36)",
              "ticks": "outside"
             }
            },
            "marker": {
             "colorbar": {
              "outlinewidth": 1,
              "tickcolor": "rgb(36,36,36)",
              "ticks": "outside"
             }
            },
            "type": "scatter3d"
           }
          ],
          "scattercarpet": [
           {
            "marker": {
             "colorbar": {
              "outlinewidth": 1,
              "tickcolor": "rgb(36,36,36)",
              "ticks": "outside"
             }
            },
            "type": "scattercarpet"
           }
          ],
          "scattergeo": [
           {
            "marker": {
             "colorbar": {
              "outlinewidth": 1,
              "tickcolor": "rgb(36,36,36)",
              "ticks": "outside"
             }
            },
            "type": "scattergeo"
           }
          ],
          "scattergl": [
           {
            "marker": {
             "colorbar": {
              "outlinewidth": 1,
              "tickcolor": "rgb(36,36,36)",
              "ticks": "outside"
             }
            },
            "type": "scattergl"
           }
          ],
          "scattermapbox": [
           {
            "marker": {
             "colorbar": {
              "outlinewidth": 1,
              "tickcolor": "rgb(36,36,36)",
              "ticks": "outside"
             }
            },
            "type": "scattermapbox"
           }
          ],
          "scatterpolar": [
           {
            "marker": {
             "colorbar": {
              "outlinewidth": 1,
              "tickcolor": "rgb(36,36,36)",
              "ticks": "outside"
             }
            },
            "type": "scatterpolar"
           }
          ],
          "scatterpolargl": [
           {
            "marker": {
             "colorbar": {
              "outlinewidth": 1,
              "tickcolor": "rgb(36,36,36)",
              "ticks": "outside"
             }
            },
            "type": "scatterpolargl"
           }
          ],
          "scatterternary": [
           {
            "marker": {
             "colorbar": {
              "outlinewidth": 1,
              "tickcolor": "rgb(36,36,36)",
              "ticks": "outside"
             }
            },
            "type": "scatterternary"
           }
          ],
          "surface": [
           {
            "colorbar": {
             "outlinewidth": 1,
             "tickcolor": "rgb(36,36,36)",
             "ticks": "outside"
            },
            "colorscale": [
             [
              0,
              "#440154"
             ],
             [
              0.1111111111111111,
              "#482878"
             ],
             [
              0.2222222222222222,
              "#3e4989"
             ],
             [
              0.3333333333333333,
              "#31688e"
             ],
             [
              0.4444444444444444,
              "#26828e"
             ],
             [
              0.5555555555555556,
              "#1f9e89"
             ],
             [
              0.6666666666666666,
              "#35b779"
             ],
             [
              0.7777777777777778,
              "#6ece58"
             ],
             [
              0.8888888888888888,
              "#b5de2b"
             ],
             [
              1,
              "#fde725"
             ]
            ],
            "type": "surface"
           }
          ],
          "table": [
           {
            "cells": {
             "fill": {
              "color": "rgb(237,237,237)"
             },
             "line": {
              "color": "white"
             }
            },
            "header": {
             "fill": {
              "color": "rgb(217,217,217)"
             },
             "line": {
              "color": "white"
             }
            },
            "type": "table"
           }
          ]
         },
         "layout": {
          "annotationdefaults": {
           "arrowhead": 0,
           "arrowwidth": 1
          },
          "autosize": true,
          "autotypenumbers": "strict",
          "coloraxis": {
           "colorbar": {
            "outlinewidth": 1,
            "tickcolor": "rgb(36,36,36)",
            "ticks": "outside"
           }
          },
          "colorscale": {
           "diverging": [
            [
             0,
             "rgb(103,0,31)"
            ],
            [
             0.1,
             "rgb(178,24,43)"
            ],
            [
             0.2,
             "rgb(214,96,77)"
            ],
            [
             0.3,
             "rgb(244,165,130)"
            ],
            [
             0.4,
             "rgb(253,219,199)"
            ],
            [
             0.5,
             "rgb(247,247,247)"
            ],
            [
             0.6,
             "rgb(209,229,240)"
            ],
            [
             0.7,
             "rgb(146,197,222)"
            ],
            [
             0.8,
             "rgb(67,147,195)"
            ],
            [
             0.9,
             "rgb(33,102,172)"
            ],
            [
             1,
             "rgb(5,48,97)"
            ]
           ],
           "sequential": [
            [
             0,
             "#440154"
            ],
            [
             0.1111111111111111,
             "#482878"
            ],
            [
             0.2222222222222222,
             "#3e4989"
            ],
            [
             0.3333333333333333,
             "#31688e"
            ],
            [
             0.4444444444444444,
             "#26828e"
            ],
            [
             0.5555555555555556,
             "#1f9e89"
            ],
            [
             0.6666666666666666,
             "#35b779"
            ],
            [
             0.7777777777777778,
             "#6ece58"
            ],
            [
             0.8888888888888888,
             "#b5de2b"
            ],
            [
             1,
             "#fde725"
            ]
           ],
           "sequentialminus": [
            [
             0,
             "#440154"
            ],
            [
             0.1111111111111111,
             "#482878"
            ],
            [
             0.2222222222222222,
             "#3e4989"
            ],
            [
             0.3333333333333333,
             "#31688e"
            ],
            [
             0.4444444444444444,
             "#26828e"
            ],
            [
             0.5555555555555556,
             "#1f9e89"
            ],
            [
             0.6666666666666666,
             "#35b779"
            ],
            [
             0.7777777777777778,
             "#6ece58"
            ],
            [
             0.8888888888888888,
             "#b5de2b"
            ],
            [
             1,
             "#fde725"
            ]
           ]
          },
          "colorway": [
           "#1F77B4",
           "#FF7F0E",
           "#2CA02C",
           "#D62728",
           "#9467BD",
           "#8C564B",
           "#E377C2",
           "#7F7F7F",
           "#BCBD22",
           "#17BECF"
          ],
          "font": {
           "color": "rgb(36,36,36)"
          },
          "geo": {
           "bgcolor": "white",
           "lakecolor": "white",
           "landcolor": "white",
           "showlakes": true,
           "showland": true,
           "subunitcolor": "white"
          },
          "height": 400,
          "hoverlabel": {
           "align": "left"
          },
          "hovermode": "closest",
          "mapbox": {
           "style": "light"
          },
          "margin": {
           "b": 30,
           "l": 30,
           "r": 30,
           "t": 30
          },
          "paper_bgcolor": "white",
          "plot_bgcolor": "white",
          "polar": {
           "angularaxis": {
            "gridcolor": "rgb(232,232,232)",
            "linecolor": "rgb(36,36,36)",
            "showgrid": false,
            "showline": true,
            "ticks": "outside"
           },
           "bgcolor": "white",
           "radialaxis": {
            "gridcolor": "rgb(232,232,232)",
            "linecolor": "rgb(36,36,36)",
            "showgrid": false,
            "showline": true,
            "ticks": "outside"
           }
          },
          "scene": {
           "xaxis": {
            "backgroundcolor": "white",
            "gridcolor": "rgb(232,232,232)",
            "gridwidth": 2,
            "linecolor": "rgb(36,36,36)",
            "showbackground": true,
            "showgrid": false,
            "showline": true,
            "ticks": "outside",
            "zeroline": false,
            "zerolinecolor": "rgb(36,36,36)"
           },
           "yaxis": {
            "backgroundcolor": "white",
            "gridcolor": "rgb(232,232,232)",
            "gridwidth": 2,
            "linecolor": "rgb(36,36,36)",
            "showbackground": true,
            "showgrid": false,
            "showline": true,
            "ticks": "outside",
            "zeroline": false,
            "zerolinecolor": "rgb(36,36,36)"
           },
           "zaxis": {
            "backgroundcolor": "white",
            "gridcolor": "rgb(232,232,232)",
            "gridwidth": 2,
            "linecolor": "rgb(36,36,36)",
            "showbackground": true,
            "showgrid": false,
            "showline": true,
            "ticks": "outside",
            "zeroline": false,
            "zerolinecolor": "rgb(36,36,36)"
           }
          },
          "shapedefaults": {
           "fillcolor": "black",
           "line": {
            "width": 0
           },
           "opacity": 0.3
          },
          "ternary": {
           "aaxis": {
            "gridcolor": "rgb(232,232,232)",
            "linecolor": "rgb(36,36,36)",
            "showgrid": false,
            "showline": true,
            "ticks": "outside"
           },
           "baxis": {
            "gridcolor": "rgb(232,232,232)",
            "linecolor": "rgb(36,36,36)",
            "showgrid": false,
            "showline": true,
            "ticks": "outside"
           },
           "bgcolor": "white",
           "caxis": {
            "gridcolor": "rgb(232,232,232)",
            "linecolor": "rgb(36,36,36)",
            "showgrid": false,
            "showline": true,
            "ticks": "outside"
           }
          },
          "title": {
           "x": 0.5,
           "xanchor": "center"
          },
          "width": 600,
          "xaxis": {
           "automargin": true,
           "gridcolor": "rgb(232,232,232)",
           "linecolor": "rgb(36,36,36)",
           "showgrid": true,
           "showline": true,
           "ticks": "outside",
           "title": {
            "standoff": 15
           },
           "zeroline": false,
           "zerolinecolor": "rgb(36,36,36)"
          },
          "yaxis": {
           "automargin": true,
           "gridcolor": "rgb(232,232,232)",
           "linecolor": "rgb(36,36,36)",
           "showgrid": true,
           "showline": true,
           "ticks": "outside",
           "title": {
            "standoff": 15
           },
           "zeroline": false,
           "zerolinecolor": "rgb(36,36,36)"
          }
         }
        },
        "title": {
         "text": "Visualization of Model Performance with Constant Ingredients"
        }
       }
      },
      "image/png": "[encoded data removed]",
      "text/html": [
       "<div>                            <div id=\"88f959d1-d6e0-40c5-9977-b3c4ce86c2b2\" class=\"plotly-graph-div\" style=\"height:400px; width:600px;\"></div>            <script type=\"text/javascript\">                require([\"plotly\"], function(Plotly) {                    window.PLOTLYENV=window.PLOTLYENV || {};                                    if (document.getElementById(\"88f959d1-d6e0-40c5-9977-b3c4ce86c2b2\")) {                    Plotly.newPlot(                        \"88f959d1-d6e0-40c5-9977-b3c4ce86c2b2\",                        [{\"colorscale\":[[0.0,\"rgb(150,0,90)\"],[0.125,\"rgb(0,0,200)\"],[0.25,\"rgb(0,25,255)\"],[0.375,\"rgb(0,152,255)\"],[0.5,\"rgb(44,255,150)\"],[0.625,\"rgb(151,255,0)\"],[0.75,\"rgb(255,234,0)\"],[0.875,\"rgb(255,111,0)\"],[1.0,\"rgb(255,0,0)\"]],\"x\":[[1.0,1.0,1.0,1.0,1.0,1.0,1.0,1.0,1.0,1.0,1.0,1.0,1.0,1.0,1.0,1.0,1.0,1.0,1.0,1.0],[6.2105263157894735,6.2105263157894735,6.2105263157894735,6.2105263157894735,6.2105263157894735,6.2105263157894735,6.2105263157894735,6.2105263157894735,6.2105263157894735,6.2105263157894735,6.2105263157894735,6.2105263157894735,6.2105263157894735,6.2105263157894735,6.2105263157894735,6.2105263157894735,6.2105263157894735,6.2105263157894735,6.2105263157894735,6.2105263157894735],[11.421052631578947,11.421052631578947,11.421052631578947,11.421052631578947,11.421052631578947,11.421052631578947,11.421052631578947,11.421052631578947,11.421052631578947,11.421052631578947,11.421052631578947,11.421052631578947,11.421052631578947,11.421052631578947,11.421052631578947,11.421052631578947,11.421052631578947,11.421052631578947,11.421052631578947,11.421052631578947],[16.63157894736842,16.63157894736842,16.63157894736842,16.63157894736842,16.63157894736842,16.63157894736842,16.63157894736842,16.63157894736842,16.63157894736842,16.63157894736842,16.63157894736842,16.63157894736842,16.63157894736842,16.63157894736842,16.63157894736842,16.63157894736842,16.63157894736842,16.63157894736842,16.63157894736842,16.63157894736842],[21.842105263157894,21.842105263157894,21.842105263157894,21.842105263157894,21.842105263157894,21.842105263157894,21.842105263157894,21.842105263157894,21.842105263157894,21.842105263157894,21.842105263157894,21.842105263157894,21.842105263157894,21.842105263157894,21.842105263157894,21.842105263157894,21.842105263157894,21.842105263157894,21.842105263157894,21.842105263157894],[27.052631578947366,27.052631578947366,27.052631578947366,27.052631578947366,27.052631578947366,27.052631578947366,27.052631578947366,27.052631578947366,27.052631578947366,27.052631578947366,27.052631578947366,27.052631578947366,27.052631578947366,27.052631578947366,27.052631578947366,27.052631578947366,27.052631578947366,27.052631578947366,27.052631578947366,27.052631578947366],[32.26315789473684,32.26315789473684,32.26315789473684,32.26315789473684,32.26315789473684,32.26315789473684,32.26315789473684,32.26315789473684,32.26315789473684,32.26315789473684,32.26315789473684,32.26315789473684,32.26315789473684,32.26315789473684,32.26315789473684,32.26315789473684,32.26315789473684,32.26315789473684,32.26315789473684,32.26315789473684],[37.473684210526315,37.473684210526315,37.473684210526315,37.473684210526315,37.473684210526315,37.473684210526315,37.473684210526315,37.473684210526315,37.473684210526315,37.473684210526315,37.473684210526315,37.473684210526315,37.473684210526315,37.473684210526315,37.473684210526315,37.473684210526315,37.473684210526315,37.473684210526315,37.473684210526315,37.473684210526315],[42.68421052631579,42.68421052631579,42.68421052631579,42.68421052631579,42.68421052631579,42.68421052631579,42.68421052631579,42.68421052631579,42.68421052631579,42.68421052631579,42.68421052631579,42.68421052631579,42.68421052631579,42.68421052631579,42.68421052631579,42.68421052631579,42.68421052631579,42.68421052631579,42.68421052631579,42.68421052631579],[47.89473684210526,47.89473684210526,47.89473684210526,47.89473684210526,47.89473684210526,47.89473684210526,47.89473684210526,47.89473684210526,47.89473684210526,47.89473684210526,47.89473684210526,47.89473684210526,47.89473684210526,47.89473684210526,47.89473684210526,47.89473684210526,47.89473684210526,47.89473684210526,47.89473684210526,47.89473684210526],[53.10526315789473,53.10526315789473,53.10526315789473,53.10526315789473,53.10526315789473,53.10526315789473,53.10526315789473,53.10526315789473,53.10526315789473,53.10526315789473,53.10526315789473,53.10526315789473,53.10526315789473,53.10526315789473,53.10526315789473,53.10526315789473,53.10526315789473,53.10526315789473,53.10526315789473,53.10526315789473],[58.315789473684205,58.315789473684205,58.315789473684205,58.315789473684205,58.315789473684205,58.315789473684205,58.315789473684205,58.315789473684205,58.315789473684205,58.315789473684205,58.315789473684205,58.315789473684205,58.315789473684205,58.315789473684205,58.315789473684205,58.315789473684205,58.315789473684205,58.315789473684205,58.315789473684205,58.315789473684205],[63.526315789473685,63.526315789473685,63.526315789473685,63.526315789473685,63.526315789473685,63.526315789473685,63.526315789473685,63.526315789473685,63.526315789473685,63.526315789473685,63.526315789473685,63.526315789473685,63.526315789473685,63.526315789473685,63.526315789473685,63.526315789473685,63.526315789473685,63.526315789473685,63.526315789473685,63.526315789473685],[68.73684210526315,68.73684210526315,68.73684210526315,68.73684210526315,68.73684210526315,68.73684210526315,68.73684210526315,68.73684210526315,68.73684210526315,68.73684210526315,68.73684210526315,68.73684210526315,68.73684210526315,68.73684210526315,68.73684210526315,68.73684210526315,68.73684210526315,68.73684210526315,68.73684210526315,68.73684210526315],[73.94736842105263,73.94736842105263,73.94736842105263,73.94736842105263,73.94736842105263,73.94736842105263,73.94736842105263,73.94736842105263,73.94736842105263,73.94736842105263,73.94736842105263,73.94736842105263,73.94736842105263,73.94736842105263,73.94736842105263,73.94736842105263,73.94736842105263,73.94736842105263,73.94736842105263,73.94736842105263],[79.1578947368421,79.1578947368421,79.1578947368421,79.1578947368421,79.1578947368421,79.1578947368421,79.1578947368421,79.1578947368421,79.1578947368421,79.1578947368421,79.1578947368421,79.1578947368421,79.1578947368421,79.1578947368421,79.1578947368421,79.1578947368421,79.1578947368421,79.1578947368421,79.1578947368421,79.1578947368421],[84.36842105263158,84.36842105263158,84.36842105263158,84.36842105263158,84.36842105263158,84.36842105263158,84.36842105263158,84.36842105263158,84.36842105263158,84.36842105263158,84.36842105263158,84.36842105263158,84.36842105263158,84.36842105263158,84.36842105263158,84.36842105263158,84.36842105263158,84.36842105263158,84.36842105263158,84.36842105263158],[89.57894736842105,89.57894736842105,89.57894736842105,89.57894736842105,89.57894736842105,89.57894736842105,89.57894736842105,89.57894736842105,89.57894736842105,89.57894736842105,89.57894736842105,89.57894736842105,89.57894736842105,89.57894736842105,89.57894736842105,89.57894736842105,89.57894736842105,89.57894736842105,89.57894736842105,89.57894736842105],[94.78947368421052,94.78947368421052,94.78947368421052,94.78947368421052,94.78947368421052,94.78947368421052,94.78947368421052,94.78947368421052,94.78947368421052,94.78947368421052,94.78947368421052,94.78947368421052,94.78947368421052,94.78947368421052,94.78947368421052,94.78947368421052,94.78947368421052,94.78947368421052,94.78947368421052,94.78947368421052],[100.0,100.0,100.0,100.0,100.0,100.0,100.0,100.0,100.0,100.0,100.0,100.0,100.0,100.0,100.0,100.0,100.0,100.0,100.0,100.0]],\"y\":[[0.0,55326.31578947369,110652.63157894737,165978.94736842107,221305.26315789475,276631.5789473684,331957.89473684214,387284.2105263158,442610.5263157895,497936.8421052632,553263.1578947369,608589.4736842106,663915.7894736843,719242.105263158,774568.4210526316,829894.7368421053,885221.052631579,940547.3684210527,995873.6842105264,1051200.0],[0.0,55326.31578947369,110652.63157894737,165978.94736842107,221305.26315789475,276631.5789473684,331957.89473684214,387284.2105263158,442610.5263157895,497936.8421052632,553263.1578947369,608589.4736842106,663915.7894736843,719242.105263158,774568.4210526316,829894.7368421053,885221.052631579,940547.3684210527,995873.6842105264,1051200.0],[0.0,55326.31578947369,110652.63157894737,165978.94736842107,221305.26315789475,276631.5789473684,331957.89473684214,387284.2105263158,442610.5263157895,497936.8421052632,553263.1578947369,608589.4736842106,663915.7894736843,719242.105263158,774568.4210526316,829894.7368421053,885221.052631579,940547.3684210527,995873.6842105264,1051200.0],[0.0,55326.31578947369,110652.63157894737,165978.94736842107,221305.26315789475,276631.5789473684,331957.89473684214,387284.2105263158,442610.5263157895,497936.8421052632,553263.1578947369,608589.4736842106,663915.7894736843,719242.105263158,774568.4210526316,829894.7368421053,885221.052631579,940547.3684210527,995873.6842105264,1051200.0],[0.0,55326.31578947369,110652.63157894737,165978.94736842107,221305.26315789475,276631.5789473684,331957.89473684214,387284.2105263158,442610.5263157895,497936.8421052632,553263.1578947369,608589.4736842106,663915.7894736843,719242.105263158,774568.4210526316,829894.7368421053,885221.052631579,940547.3684210527,995873.6842105264,1051200.0],[0.0,55326.31578947369,110652.63157894737,165978.94736842107,221305.26315789475,276631.5789473684,331957.89473684214,387284.2105263158,442610.5263157895,497936.8421052632,553263.1578947369,608589.4736842106,663915.7894736843,719242.105263158,774568.4210526316,829894.7368421053,885221.052631579,940547.3684210527,995873.6842105264,1051200.0],[0.0,55326.31578947369,110652.63157894737,165978.94736842107,221305.26315789475,276631.5789473684,331957.89473684214,387284.2105263158,442610.5263157895,497936.8421052632,553263.1578947369,608589.4736842106,663915.7894736843,719242.105263158,774568.4210526316,829894.7368421053,885221.052631579,940547.3684210527,995873.6842105264,1051200.0],[0.0,55326.31578947369,110652.63157894737,165978.94736842107,221305.26315789475,276631.5789473684,331957.89473684214,387284.2105263158,442610.5263157895,497936.8421052632,553263.1578947369,608589.4736842106,663915.7894736843,719242.105263158,774568.4210526316,829894.7368421053,885221.052631579,940547.3684210527,995873.6842105264,1051200.0],[0.0,55326.31578947369,110652.63157894737,165978.94736842107,221305.26315789475,276631.5789473684,331957.89473684214,387284.2105263158,442610.5263157895,497936.8421052632,553263.1578947369,608589.4736842106,663915.7894736843,719242.105263158,774568.4210526316,829894.7368421053,885221.052631579,940547.3684210527,995873.6842105264,1051200.0],[0.0,55326.31578947369,110652.63157894737,165978.94736842107,221305.26315789475,276631.5789473684,331957.89473684214,387284.2105263158,442610.5263157895,497936.8421052632,553263.1578947369,608589.4736842106,663915.7894736843,719242.105263158,774568.4210526316,829894.7368421053,885221.052631579,940547.3684210527,995873.6842105264,1051200.0],[0.0,55326.31578947369,110652.63157894737,165978.94736842107,221305.26315789475,276631.5789473684,331957.89473684214,387284.2105263158,442610.5263157895,497936.8421052632,553263.1578947369,608589.4736842106,663915.7894736843,719242.105263158,774568.4210526316,829894.7368421053,885221.052631579,940547.3684210527,995873.6842105264,1051200.0],[0.0,55326.31578947369,110652.63157894737,165978.94736842107,221305.26315789475,276631.5789473684,331957.89473684214,387284.2105263158,442610.5263157895,497936.8421052632,553263.1578947369,608589.4736842106,663915.7894736843,719242.105263158,774568.4210526316,829894.7368421053,885221.052631579,940547.3684210527,995873.6842105264,1051200.0],[0.0,55326.31578947369,110652.63157894737,165978.94736842107,221305.26315789475,276631.5789473684,331957.89473684214,387284.2105263158,442610.5263157895,497936.8421052632,553263.1578947369,608589.4736842106,663915.7894736843,719242.105263158,774568.4210526316,829894.7368421053,885221.052631579,940547.3684210527,995873.6842105264,1051200.0],[0.0,55326.31578947369,110652.63157894737,165978.94736842107,221305.26315789475,276631.5789473684,331957.89473684214,387284.2105263158,442610.5263157895,497936.8421052632,553263.1578947369,608589.4736842106,663915.7894736843,719242.105263158,774568.4210526316,829894.7368421053,885221.052631579,940547.3684210527,995873.6842105264,1051200.0],[0.0,55326.31578947369,110652.63157894737,165978.94736842107,221305.26315789475,276631.5789473684,331957.89473684214,387284.2105263158,442610.5263157895,497936.8421052632,553263.1578947369,608589.4736842106,663915.7894736843,719242.105263158,774568.4210526316,829894.7368421053,885221.052631579,940547.3684210527,995873.6842105264,1051200.0],[0.0,55326.31578947369,110652.63157894737,165978.94736842107,221305.26315789475,276631.5789473684,331957.89473684214,387284.2105263158,442610.5263157895,497936.8421052632,553263.1578947369,608589.4736842106,663915.7894736843,719242.105263158,774568.4210526316,829894.7368421053,885221.052631579,940547.3684210527,995873.6842105264,1051200.0],[0.0,55326.31578947369,110652.63157894737,165978.94736842107,221305.26315789475,276631.5789473684,331957.89473684214,387284.2105263158,442610.5263157895,497936.8421052632,553263.1578947369,608589.4736842106,663915.7894736843,719242.105263158,774568.4210526316,829894.7368421053,885221.052631579,940547.3684210527,995873.6842105264,1051200.0],[0.0,55326.31578947369,110652.63157894737,165978.94736842107,221305.26315789475,276631.5789473684,331957.89473684214,387284.2105263158,442610.5263157895,497936.8421052632,553263.1578947369,608589.4736842106,663915.7894736843,719242.105263158,774568.4210526316,829894.7368421053,885221.052631579,940547.3684210527,995873.6842105264,1051200.0],[0.0,55326.31578947369,110652.63157894737,165978.94736842107,221305.26315789475,276631.5789473684,331957.89473684214,387284.2105263158,442610.5263157895,497936.8421052632,553263.1578947369,608589.4736842106,663915.7894736843,719242.105263158,774568.4210526316,829894.7368421053,885221.052631579,940547.3684210527,995873.6842105264,1051200.0],[0.0,55326.31578947369,110652.63157894737,165978.94736842107,221305.26315789475,276631.5789473684,331957.89473684214,387284.2105263158,442610.5263157895,497936.8421052632,553263.1578947369,608589.4736842106,663915.7894736843,719242.105263158,774568.4210526316,829894.7368421053,885221.052631579,940547.3684210527,995873.6842105264,1051200.0]],\"z\":[[4.762885115343448,4.505780504099278,4.505780504099278,4.505780504099278,4.505780504099278,4.505780504099278,4.505780504099278,4.505780504099278,4.505780504099278,4.505780504099278,4.505780504099278,4.505780504099278,4.505780504099278,4.505780504099278,4.505780504099278,4.505780504099278,4.505780504099278,4.505780504099278,4.505780504099278,4.505780504099278],[4.613324117501159,4.52271546151267,4.52271546151267,4.52271546151267,4.52271546151267,4.52271546151267,4.52271546151267,4.52271546151267,4.52271546151267,4.52271546151267,4.52271546151267,4.52271546151267,4.52271546151267,4.52271546151267,4.52271546151267,4.52271546151267,4.52271546151267,4.52271546151267,4.52271546151267,4.52271546151267],[4.466375970090371,4.590805903232803,4.590805903232803,4.590805903232803,4.590805903232803,4.590805903232803,4.590805903232803,4.590805903232803,4.590805903232803,4.590805903232803,4.590805903232803,4.590805903232803,4.590805903232803,4.590805903232803,4.590805903232803,4.590805903232803,4.590805903232803,4.590805903232803,4.590805903232803,4.590805903232803],[4.445039105153544,4.623542754981804,4.623542754981804,4.623542754981804,4.623542754981804,4.623542754981804,4.623542754981804,4.623542754981804,4.623542754981804,4.623542754981804,4.623542754981804,4.623542754981804,4.623542754981804,4.623542754981804,4.623542754981804,4.623542754981804,4.623542754981804,4.623542754981804,4.623542754981804,4.623542754981804],[4.454129159305403,4.63862575285474,4.63862575285474,4.63862575285474,4.63862575285474,4.63862575285474,4.63862575285474,4.63862575285474,4.63862575285474,4.63862575285474,4.63862575285474,4.63862575285474,4.63862575285474,4.63862575285474,4.63862575285474,4.63862575285474,4.63862575285474,4.63862575285474,4.63862575285474,4.63862575285474],[4.461348410058046,4.644971552750063,4.644971552750063,4.644971552750063,4.644971552750063,4.644971552750063,4.644971552750063,4.644971552750063,4.644971552750063,4.644971552750063,4.644971552750063,4.644971552750063,4.644971552750063,4.644971552750063,4.644971552750063,4.644971552750063,4.644971552750063,4.644971552750063,4.644971552750063,4.644971552750063],[4.4644063679394295,4.647273043206042,4.647273043206042,4.647273043206042,4.647273043206042,4.647273043206042,4.647273043206042,4.647273043206042,4.647273043206042,4.647273043206042,4.647273043206042,4.64727304320604,4.64727304320604,4.647273043206041,4.647273043206042,4.647273043206042,4.647273043206042,4.647273043206042,4.647273043206042,4.647273043206042],[4.465313065436217,4.647925306156734,4.647925306156734,4.647925306156734,4.647925306156734,4.647925306156734,4.647925306156734,4.647925306156734,4.647925306156734,4.647925306156734,4.647925306156734,4.647925306156734,4.647925306156734,4.647925306156734,4.647925306156734,4.647925306156734,4.647925306156734,4.647925306156734,4.647925306156734,4.647925306156734],[4.465735417990332,4.648224970102045,4.648224970102045,4.648224970102045,4.648224970102045,4.648224970102045,4.648224970102045,4.648224970102045,4.648224970102045,4.648224970102045,4.648224970102045,4.648224970102045,4.648224970102045,4.648224970102045,4.648224970102045,4.648224970102045,4.648224970102045,4.648224970102045,4.648224970102045,4.648224970102045],[4.466441604256841,4.648720397166839,4.648720397166839,4.648720397166839,4.648720397166839,4.648720397166839,4.648720397166839,4.648720397166839,4.648720397166839,4.648720397166839,4.648720397166839,4.648720397166839,4.648720397166839,4.648720397166839,4.648720397166839,4.648720397166839,4.648720397166839,4.648720397166839,4.648720397166837,4.648720397166837],[4.466609137768526,4.648836931309572,4.648836931309572,4.648836931309572,4.648836931309572,4.648836931309572,4.648836931309572,4.648836931309572,4.648836931309572,4.648836931309572,4.648836931309572,4.648836931309572,4.648836931309572,4.648836931309572,4.648836931309572,4.648836931309572,4.648836931309572,4.648836931309572,4.648836931309572,4.648836931309572],[4.466655985979889,4.648869451275381,4.648869451275381,4.648869451275381,4.648869451275381,4.648869451275381,4.648869451275381,4.648869451275381,4.648869451275381,4.648869451275381,4.648869451275381,4.648869451275381,4.648869451275381,4.648869451275381,4.648869451275381,4.648869451275381,4.648869451275381,4.648869451275381,4.648869451275381,4.648869451275381],[4.466702889873991,4.648901980724997,4.648901980724997,4.648901980724997,4.648901980724997,4.648901980724997,4.648901980724997,4.648901980724997,4.648901980724997,4.648901980724997,4.648901980724997,4.648901980724997,4.648901980724997,4.648901980724997,4.648901980724997,4.648901980724997,4.648901980724997,4.648901980724997,4.648901980724997,4.648901980724997],[4.4667498494691875,4.648934519666334,4.648934519666334,4.648934519666334,4.648934519666334,4.648934519666334,4.648934519666334,4.648934519666335,4.648934519666334,4.648934519666334,4.648934519666334,4.648934519666334,4.648934519666334,4.648934519666334,4.648934519666334,4.648934519666334,4.648934519666334,4.648934519666334,4.648934519666334,4.648934519666334],[4.466796864783835,4.6489670681073125,4.6489670681073125,4.6489670681073125,4.6489670681073125,4.6489670681073125,4.6489670681073125,4.6489670681073125,4.6489670681073125,4.6489670681073125,4.6489670681073125,4.6489670681073125,4.6489670681073125,4.6489670681073125,4.6489670681073125,4.6489670681073125,4.6489670681073125,4.6489670681073125,4.6489670681073125,4.6489670681073125],[4.4668439358362955,4.648999626055859,4.648999626055859,4.648999626055859,4.648999626055859,4.648999626055859,4.648999626055859,4.648999626055859,4.648999626055859,4.648999626055859,4.648999626055859,4.648999626055859,4.648999626055859,4.648999626055859,4.648999626055859,4.648999626055859,4.648999626055859,4.648999626055859,4.648999626055859,4.648999626055859],[4.466891062644932,4.649032193519895,4.649032193519895,4.649032193519895,4.649032193519895,4.649032193519895,4.649032193519895,4.649032193519895,4.649032193519895,4.649032193519895,4.649032193519895,4.649032193519895,4.6490321935198935,4.6490321935198935,4.649032193519895,4.649032193519895,4.649032193519895,4.649032193519895,4.649032193519895,4.649032193519895],[4.466914885260138,4.649048645353056,4.649048645353056,4.649048645353056,4.649048645353056,4.649048645353056,4.649048645353056,4.649048645353056,4.649048645353056,4.649048645353056,4.649048645353056,4.649048645353056,4.649048645353056,4.649048645353056,4.649048645353056,4.649048645353056,4.649048645353056,4.649048645353056,4.649048645353056,4.649048645353056],[4.466914885260138,4.649048645353056,4.649048645353056,4.649048645353056,4.649048645353056,4.649048645353056,4.649048645353056,4.649048645353056,4.649048645353056,4.649048645353056,4.649048645353056,4.649048645353056,4.649048645353056,4.649048645353056,4.649048645353056,4.649048645353056,4.649048645353056,4.649048645353056,4.649048645353056,4.649048645353056],[4.466914885260138,4.649048645353056,4.649048645353056,4.649048645353056,4.649048645353056,4.649048645353056,4.649048645353056,4.649048645353056,4.649048645353056,4.649048645353056,4.649048645353056,4.649048645353056,4.649048645353056,4.649048645353056,4.649048645353056,4.649048645353056,4.649048645353056,4.649048645353056,4.649048645353057,4.649048645353057]],\"type\":\"surface\"}],                        {\"template\":{\"data\":{\"barpolar\":[{\"marker\":{\"line\":{\"color\":\"white\",\"width\":0.5},\"pattern\":{\"fillmode\":\"overlay\",\"size\":10,\"solidity\":0.2}},\"type\":\"barpolar\"}],\"bar\":[{\"error_x\":{\"color\":\"rgb(36,36,36)\"},\"error_y\":{\"color\":\"rgb(36,36,36)\"},\"marker\":{\"line\":{\"color\":\"white\",\"width\":0.5},\"pattern\":{\"fillmode\":\"overlay\",\"size\":10,\"solidity\":0.2}},\"type\":\"bar\"}],\"carpet\":[{\"aaxis\":{\"endlinecolor\":\"rgb(36,36,36)\",\"gridcolor\":\"white\",\"linecolor\":\"white\",\"minorgridcolor\":\"white\",\"startlinecolor\":\"rgb(36,36,36)\"},\"baxis\":{\"endlinecolor\":\"rgb(36,36,36)\",\"gridcolor\":\"white\",\"linecolor\":\"white\",\"minorgridcolor\":\"white\",\"startlinecolor\":\"rgb(36,36,36)\"},\"type\":\"carpet\"}],\"choropleth\":[{\"colorbar\":{\"outlinewidth\":1,\"tickcolor\":\"rgb(36,36,36)\",\"ticks\":\"outside\"},\"type\":\"choropleth\"}],\"contourcarpet\":[{\"colorbar\":{\"outlinewidth\":1,\"tickcolor\":\"rgb(36,36,36)\",\"ticks\":\"outside\"},\"type\":\"contourcarpet\"}],\"contour\":[{\"colorbar\":{\"outlinewidth\":1,\"tickcolor\":\"rgb(36,36,36)\",\"ticks\":\"outside\"},\"colorscale\":[[0.0,\"#440154\"],[0.1111111111111111,\"#482878\"],[0.2222222222222222,\"#3e4989\"],[0.3333333333333333,\"#31688e\"],[0.4444444444444444,\"#26828e\"],[0.5555555555555556,\"#1f9e89\"],[0.6666666666666666,\"#35b779\"],[0.7777777777777778,\"#6ece58\"],[0.8888888888888888,\"#b5de2b\"],[1.0,\"#fde725\"]],\"type\":\"contour\"}],\"heatmapgl\":[{\"colorbar\":{\"outlinewidth\":1,\"tickcolor\":\"rgb(36,36,36)\",\"ticks\":\"outside\"},\"colorscale\":[[0.0,\"#440154\"],[0.1111111111111111,\"#482878\"],[0.2222222222222222,\"#3e4989\"],[0.3333333333333333,\"#31688e\"],[0.4444444444444444,\"#26828e\"],[0.5555555555555556,\"#1f9e89\"],[0.6666666666666666,\"#35b779\"],[0.7777777777777778,\"#6ece58\"],[0.8888888888888888,\"#b5de2b\"],[1.0,\"#fde725\"]],\"type\":\"heatmapgl\"}],\"heatmap\":[{\"colorbar\":{\"outlinewidth\":1,\"tickcolor\":\"rgb(36,36,36)\",\"ticks\":\"outside\"},\"colorscale\":[[0.0,\"#440154\"],[0.1111111111111111,\"#482878\"],[0.2222222222222222,\"#3e4989\"],[0.3333333333333333,\"#31688e\"],[0.4444444444444444,\"#26828e\"],[0.5555555555555556,\"#1f9e89\"],[0.6666666666666666,\"#35b779\"],[0.7777777777777778,\"#6ece58\"],[0.8888888888888888,\"#b5de2b\"],[1.0,\"#fde725\"]],\"type\":\"heatmap\"}],\"histogram2dcontour\":[{\"colorbar\":{\"outlinewidth\":1,\"tickcolor\":\"rgb(36,36,36)\",\"ticks\":\"outside\"},\"colorscale\":[[0.0,\"#440154\"],[0.1111111111111111,\"#482878\"],[0.2222222222222222,\"#3e4989\"],[0.3333333333333333,\"#31688e\"],[0.4444444444444444,\"#26828e\"],[0.5555555555555556,\"#1f9e89\"],[0.6666666666666666,\"#35b779\"],[0.7777777777777778,\"#6ece58\"],[0.8888888888888888,\"#b5de2b\"],[1.0,\"#fde725\"]],\"type\":\"histogram2dcontour\"}],\"histogram2d\":[{\"colorbar\":{\"outlinewidth\":1,\"tickcolor\":\"rgb(36,36,36)\",\"ticks\":\"outside\"},\"colorscale\":[[0.0,\"#440154\"],[0.1111111111111111,\"#482878\"],[0.2222222222222222,\"#3e4989\"],[0.3333333333333333,\"#31688e\"],[0.4444444444444444,\"#26828e\"],[0.5555555555555556,\"#1f9e89\"],[0.6666666666666666,\"#35b779\"],[0.7777777777777778,\"#6ece58\"],[0.8888888888888888,\"#b5de2b\"],[1.0,\"#fde725\"]],\"type\":\"histogram2d\"}],\"histogram\":[{\"marker\":{\"line\":{\"color\":\"white\",\"width\":0.6}},\"type\":\"histogram\"}],\"mesh3d\":[{\"colorbar\":{\"outlinewidth\":1,\"tickcolor\":\"rgb(36,36,36)\",\"ticks\":\"outside\"},\"type\":\"mesh3d\"}],\"parcoords\":[{\"line\":{\"colorbar\":{\"outlinewidth\":1,\"tickcolor\":\"rgb(36,36,36)\",\"ticks\":\"outside\"}},\"type\":\"parcoords\"}],\"pie\":[{\"automargin\":true,\"type\":\"pie\"}],\"scatter3d\":[{\"line\":{\"colorbar\":{\"outlinewidth\":1,\"tickcolor\":\"rgb(36,36,36)\",\"ticks\":\"outside\"}},\"marker\":{\"colorbar\":{\"outlinewidth\":1,\"tickcolor\":\"rgb(36,36,36)\",\"ticks\":\"outside\"}},\"type\":\"scatter3d\"}],\"scattercarpet\":[{\"marker\":{\"colorbar\":{\"outlinewidth\":1,\"tickcolor\":\"rgb(36,36,36)\",\"ticks\":\"outside\"}},\"type\":\"scattercarpet\"}],\"scattergeo\":[{\"marker\":{\"colorbar\":{\"outlinewidth\":1,\"tickcolor\":\"rgb(36,36,36)\",\"ticks\":\"outside\"}},\"type\":\"scattergeo\"}],\"scattergl\":[{\"marker\":{\"colorbar\":{\"outlinewidth\":1,\"tickcolor\":\"rgb(36,36,36)\",\"ticks\":\"outside\"}},\"type\":\"scattergl\"}],\"scattermapbox\":[{\"marker\":{\"colorbar\":{\"outlinewidth\":1,\"tickcolor\":\"rgb(36,36,36)\",\"ticks\":\"outside\"}},\"type\":\"scattermapbox\"}],\"scatterpolargl\":[{\"marker\":{\"colorbar\":{\"outlinewidth\":1,\"tickcolor\":\"rgb(36,36,36)\",\"ticks\":\"outside\"}},\"type\":\"scatterpolargl\"}],\"scatterpolar\":[{\"marker\":{\"colorbar\":{\"outlinewidth\":1,\"tickcolor\":\"rgb(36,36,36)\",\"ticks\":\"outside\"}},\"type\":\"scatterpolar\"}],\"scatter\":[{\"fillpattern\":{\"fillmode\":\"overlay\",\"size\":10,\"solidity\":0.2},\"type\":\"scatter\"}],\"scatterternary\":[{\"marker\":{\"colorbar\":{\"outlinewidth\":1,\"tickcolor\":\"rgb(36,36,36)\",\"ticks\":\"outside\"}},\"type\":\"scatterternary\"}],\"surface\":[{\"colorbar\":{\"outlinewidth\":1,\"tickcolor\":\"rgb(36,36,36)\",\"ticks\":\"outside\"},\"colorscale\":[[0.0,\"#440154\"],[0.1111111111111111,\"#482878\"],[0.2222222222222222,\"#3e4989\"],[0.3333333333333333,\"#31688e\"],[0.4444444444444444,\"#26828e\"],[0.5555555555555556,\"#1f9e89\"],[0.6666666666666666,\"#35b779\"],[0.7777777777777778,\"#6ece58\"],[0.8888888888888888,\"#b5de2b\"],[1.0,\"#fde725\"]],\"type\":\"surface\"}],\"table\":[{\"cells\":{\"fill\":{\"color\":\"rgb(237,237,237)\"},\"line\":{\"color\":\"white\"}},\"header\":{\"fill\":{\"color\":\"rgb(217,217,217)\"},\"line\":{\"color\":\"white\"}},\"type\":\"table\"}]},\"layout\":{\"annotationdefaults\":{\"arrowhead\":0,\"arrowwidth\":1},\"autotypenumbers\":\"strict\",\"coloraxis\":{\"colorbar\":{\"outlinewidth\":1,\"tickcolor\":\"rgb(36,36,36)\",\"ticks\":\"outside\"}},\"colorscale\":{\"diverging\":[[0.0,\"rgb(103,0,31)\"],[0.1,\"rgb(178,24,43)\"],[0.2,\"rgb(214,96,77)\"],[0.3,\"rgb(244,165,130)\"],[0.4,\"rgb(253,219,199)\"],[0.5,\"rgb(247,247,247)\"],[0.6,\"rgb(209,229,240)\"],[0.7,\"rgb(146,197,222)\"],[0.8,\"rgb(67,147,195)\"],[0.9,\"rgb(33,102,172)\"],[1.0,\"rgb(5,48,97)\"]],\"sequential\":[[0.0,\"#440154\"],[0.1111111111111111,\"#482878\"],[0.2222222222222222,\"#3e4989\"],[0.3333333333333333,\"#31688e\"],[0.4444444444444444,\"#26828e\"],[0.5555555555555556,\"#1f9e89\"],[0.6666666666666666,\"#35b779\"],[0.7777777777777778,\"#6ece58\"],[0.8888888888888888,\"#b5de2b\"],[1.0,\"#fde725\"]],\"sequentialminus\":[[0.0,\"#440154\"],[0.1111111111111111,\"#482878\"],[0.2222222222222222,\"#3e4989\"],[0.3333333333333333,\"#31688e\"],[0.4444444444444444,\"#26828e\"],[0.5555555555555556,\"#1f9e89\"],[0.6666666666666666,\"#35b779\"],[0.7777777777777778,\"#6ece58\"],[0.8888888888888888,\"#b5de2b\"],[1.0,\"#fde725\"]]},\"colorway\":[\"#1F77B4\",\"#FF7F0E\",\"#2CA02C\",\"#D62728\",\"#9467BD\",\"#8C564B\",\"#E377C2\",\"#7F7F7F\",\"#BCBD22\",\"#17BECF\"],\"font\":{\"color\":\"rgb(36,36,36)\"},\"geo\":{\"bgcolor\":\"white\",\"lakecolor\":\"white\",\"landcolor\":\"white\",\"showlakes\":true,\"showland\":true,\"subunitcolor\":\"white\"},\"hoverlabel\":{\"align\":\"left\"},\"hovermode\":\"closest\",\"mapbox\":{\"style\":\"light\"},\"paper_bgcolor\":\"white\",\"plot_bgcolor\":\"white\",\"polar\":{\"angularaxis\":{\"gridcolor\":\"rgb(232,232,232)\",\"linecolor\":\"rgb(36,36,36)\",\"showgrid\":false,\"showline\":true,\"ticks\":\"outside\"},\"bgcolor\":\"white\",\"radialaxis\":{\"gridcolor\":\"rgb(232,232,232)\",\"linecolor\":\"rgb(36,36,36)\",\"showgrid\":false,\"showline\":true,\"ticks\":\"outside\"}},\"scene\":{\"xaxis\":{\"backgroundcolor\":\"white\",\"gridcolor\":\"rgb(232,232,232)\",\"gridwidth\":2,\"linecolor\":\"rgb(36,36,36)\",\"showbackground\":true,\"showgrid\":false,\"showline\":true,\"ticks\":\"outside\",\"zeroline\":false,\"zerolinecolor\":\"rgb(36,36,36)\"},\"yaxis\":{\"backgroundcolor\":\"white\",\"gridcolor\":\"rgb(232,232,232)\",\"gridwidth\":2,\"linecolor\":\"rgb(36,36,36)\",\"showbackground\":true,\"showgrid\":false,\"showline\":true,\"ticks\":\"outside\",\"zeroline\":false,\"zerolinecolor\":\"rgb(36,36,36)\"},\"zaxis\":{\"backgroundcolor\":\"white\",\"gridcolor\":\"rgb(232,232,232)\",\"gridwidth\":2,\"linecolor\":\"rgb(36,36,36)\",\"showbackground\":true,\"showgrid\":false,\"showline\":true,\"ticks\":\"outside\",\"zeroline\":false,\"zerolinecolor\":\"rgb(36,36,36)\"}},\"shapedefaults\":{\"fillcolor\":\"black\",\"line\":{\"width\":0},\"opacity\":0.3},\"ternary\":{\"aaxis\":{\"gridcolor\":\"rgb(232,232,232)\",\"linecolor\":\"rgb(36,36,36)\",\"showgrid\":false,\"showline\":true,\"ticks\":\"outside\"},\"baxis\":{\"gridcolor\":\"rgb(232,232,232)\",\"linecolor\":\"rgb(36,36,36)\",\"showgrid\":false,\"showline\":true,\"ticks\":\"outside\"},\"bgcolor\":\"white\",\"caxis\":{\"gridcolor\":\"rgb(232,232,232)\",\"linecolor\":\"rgb(36,36,36)\",\"showgrid\":false,\"showline\":true,\"ticks\":\"outside\"}},\"title\":{\"x\":0.5,\"xanchor\":\"center\"},\"xaxis\":{\"automargin\":true,\"gridcolor\":\"rgb(232,232,232)\",\"linecolor\":\"rgb(36,36,36)\",\"showgrid\":true,\"showline\":true,\"ticks\":\"outside\",\"title\":{\"standoff\":15},\"zeroline\":false,\"zerolinecolor\":\"rgb(36,36,36)\"},\"yaxis\":{\"automargin\":true,\"gridcolor\":\"rgb(232,232,232)\",\"linecolor\":\"rgb(36,36,36)\",\"showgrid\":true,\"showline\":true,\"ticks\":\"outside\",\"title\":{\"standoff\":15},\"zeroline\":false,\"zerolinecolor\":\"rgb(36,36,36)\"},\"autosize\":true,\"height\":400,\"margin\":{\"b\":30,\"l\":30,\"r\":30,\"t\":30},\"width\":600}},\"scene\":{\"xaxis\":{\"title\":{\"text\":\"Steps\"}},\"yaxis\":{\"title\":{\"text\":\"Minutes\"}},\"zaxis\":{\"title\":{\"text\":\"Predicted Rating\"}}},\"title\":{\"text\":\"Visualization of Model Performance with Constant Ingredients\"}},                        {\"responsive\": true}                    ).then(function(){\n",
       "                            \n",
       "var gd = document.getElementById('88f959d1-d6e0-40c5-9977-b3c4ce86c2b2');\n",
       "var x = new MutationObserver(function (mutations, observer) {{\n",
       "        var display = window.getComputedStyle(gd).display;\n",
       "        if (!display || display === 'none') {{\n",
       "            console.log([gd, 'removed!']);\n",
       "            Plotly.purge(gd);\n",
       "            observer.disconnect();\n",
       "        }}\n",
       "}});\n",
       "\n",
       "// Listen for the removal of the full notebook cells\n",
       "var notebookContainer = gd.closest('#notebook-container');\n",
       "if (notebookContainer) {{\n",
       "    x.observe(notebookContainer, {childList: true});\n",
       "}}\n",
       "\n",
       "// Listen for the clearing of the current output cell\n",
       "var outputEl = gd.closest('.output');\n",
       "if (outputEl) {{\n",
       "    x.observe(outputEl, {childList: true});\n",
       "}}\n",
       "\n",
       "                        })                };                });            </script>        </div>"
      ]
     },
     "metadata": {},
     "output_type": "display_data"
    }
   ],
   "source": [
    "x_grid, y_grid = np.mgrid[\n",
    "    merged_non_zero['n_steps'].min():merged_non_zero['n_steps'].max():20j,\n",
    "    merged_non_zero['minutes'].min():merged_non_zero['minutes'].max():20j\n",
    "]\n",
    "\n",
    "grid_df = pd.DataFrame({\n",
    "    'n_ingredients': merged_non_zero['n_ingredients'].median(),  # Hold constant\n",
    "    'minutes': y_grid.ravel(),\n",
    "    'n_steps': x_grid.ravel()\n",
    "})\n",
    "\n",
    "z = model_cross.predict(grid_df).reshape(x_grid.shape)\n",
    "\n",
    "fig = go.Figure(data=[\n",
    "    go.Surface(\n",
    "        x=x_grid,\n",
    "        y=y_grid,\n",
    "        z=z,\n",
    "        colorscale='Rainbow'\n",
    "    )\n",
    "])\n",
    "fig.update_layout(\n",
    "    scene=dict(\n",
    "        xaxis_title='Steps',\n",
    "        yaxis_title='Minutes',\n",
    "        zaxis_title='Predicted Rating'\n",
    "    ),\n",
    "    title='Visualization of Model Performance with Constant Ingredients'\n",
    ")\n",
    "fig.show()\n",
    "fig.write_html('finMConstING.html', include_plotlyjs='cdn')"
   ]
  },
  {
   "cell_type": "code",
   "execution_count": 36,
   "metadata": {},
   "outputs": [
    {
     "data": {
      "application/vnd.plotly.v1+json": {
       "config": {
        "plotlyServerURL": "https://plot.ly"
       },
       "data": [
        {
         "colorscale": [
          [
           0,
           "rgb(150,0,90)"
          ],
          [
           0.125,
           "rgb(0,0,200)"
          ],
          [
           0.25,
           "rgb(0,25,255)"
          ],
          [
           0.375,
           "rgb(0,152,255)"
          ],
          [
           0.5,
           "rgb(44,255,150)"
          ],
          [
           0.625,
           "rgb(151,255,0)"
          ],
          [
           0.75,
           "rgb(255,234,0)"
          ],
          [
           0.875,
           "rgb(255,111,0)"
          ],
          [
           1,
           "rgb(255,0,0)"
          ]
         ],
         "type": "surface",
         "x": [
          [
           1,
           1,
           1,
           1,
           1,
           1,
           1,
           1,
           1,
           1,
           1,
           1,
           1,
           1,
           1,
           1,
           1,
           1,
           1,
           1
          ],
          [
           2.894736842105263,
           2.894736842105263,
           2.894736842105263,
           2.894736842105263,
           2.894736842105263,
           2.894736842105263,
           2.894736842105263,
           2.894736842105263,
           2.894736842105263,
           2.894736842105263,
           2.894736842105263,
           2.894736842105263,
           2.894736842105263,
           2.894736842105263,
           2.894736842105263,
           2.894736842105263,
           2.894736842105263,
           2.894736842105263,
           2.894736842105263,
           2.894736842105263
          ],
          [
           4.789473684210526,
           4.789473684210526,
           4.789473684210526,
           4.789473684210526,
           4.789473684210526,
           4.789473684210526,
           4.789473684210526,
           4.789473684210526,
           4.789473684210526,
           4.789473684210526,
           4.789473684210526,
           4.789473684210526,
           4.789473684210526,
           4.789473684210526,
           4.789473684210526,
           4.789473684210526,
           4.789473684210526,
           4.789473684210526,
           4.789473684210526,
           4.789473684210526
          ],
          [
           6.684210526315789,
           6.684210526315789,
           6.684210526315789,
           6.684210526315789,
           6.684210526315789,
           6.684210526315789,
           6.684210526315789,
           6.684210526315789,
           6.684210526315789,
           6.684210526315789,
           6.684210526315789,
           6.684210526315789,
           6.684210526315789,
           6.684210526315789,
           6.684210526315789,
           6.684210526315789,
           6.684210526315789,
           6.684210526315789,
           6.684210526315789,
           6.684210526315789
          ],
          [
           8.578947368421051,
           8.578947368421051,
           8.578947368421051,
           8.578947368421051,
           8.578947368421051,
           8.578947368421051,
           8.578947368421051,
           8.578947368421051,
           8.578947368421051,
           8.578947368421051,
           8.578947368421051,
           8.578947368421051,
           8.578947368421051,
           8.578947368421051,
           8.578947368421051,
           8.578947368421051,
           8.578947368421051,
           8.578947368421051,
           8.578947368421051,
           8.578947368421051
          ],
          [
           10.473684210526315,
           10.473684210526315,
           10.473684210526315,
           10.473684210526315,
           10.473684210526315,
           10.473684210526315,
           10.473684210526315,
           10.473684210526315,
           10.473684210526315,
           10.473684210526315,
           10.473684210526315,
           10.473684210526315,
           10.473684210526315,
           10.473684210526315,
           10.473684210526315,
           10.473684210526315,
           10.473684210526315,
           10.473684210526315,
           10.473684210526315,
           10.473684210526315
          ],
          [
           12.368421052631579,
           12.368421052631579,
           12.368421052631579,
           12.368421052631579,
           12.368421052631579,
           12.368421052631579,
           12.368421052631579,
           12.368421052631579,
           12.368421052631579,
           12.368421052631579,
           12.368421052631579,
           12.368421052631579,
           12.368421052631579,
           12.368421052631579,
           12.368421052631579,
           12.368421052631579,
           12.368421052631579,
           12.368421052631579,
           12.368421052631579,
           12.368421052631579
          ],
          [
           14.26315789473684,
           14.26315789473684,
           14.26315789473684,
           14.26315789473684,
           14.26315789473684,
           14.26315789473684,
           14.26315789473684,
           14.26315789473684,
           14.26315789473684,
           14.26315789473684,
           14.26315789473684,
           14.26315789473684,
           14.26315789473684,
           14.26315789473684,
           14.26315789473684,
           14.26315789473684,
           14.26315789473684,
           14.26315789473684,
           14.26315789473684,
           14.26315789473684
          ],
          [
           16.157894736842103,
           16.157894736842103,
           16.157894736842103,
           16.157894736842103,
           16.157894736842103,
           16.157894736842103,
           16.157894736842103,
           16.157894736842103,
           16.157894736842103,
           16.157894736842103,
           16.157894736842103,
           16.157894736842103,
           16.157894736842103,
           16.157894736842103,
           16.157894736842103,
           16.157894736842103,
           16.157894736842103,
           16.157894736842103,
           16.157894736842103,
           16.157894736842103
          ],
          [
           18.052631578947366,
           18.052631578947366,
           18.052631578947366,
           18.052631578947366,
           18.052631578947366,
           18.052631578947366,
           18.052631578947366,
           18.052631578947366,
           18.052631578947366,
           18.052631578947366,
           18.052631578947366,
           18.052631578947366,
           18.052631578947366,
           18.052631578947366,
           18.052631578947366,
           18.052631578947366,
           18.052631578947366,
           18.052631578947366,
           18.052631578947366,
           18.052631578947366
          ],
          [
           19.94736842105263,
           19.94736842105263,
           19.94736842105263,
           19.94736842105263,
           19.94736842105263,
           19.94736842105263,
           19.94736842105263,
           19.94736842105263,
           19.94736842105263,
           19.94736842105263,
           19.94736842105263,
           19.94736842105263,
           19.94736842105263,
           19.94736842105263,
           19.94736842105263,
           19.94736842105263,
           19.94736842105263,
           19.94736842105263,
           19.94736842105263,
           19.94736842105263
          ],
          [
           21.842105263157894,
           21.842105263157894,
           21.842105263157894,
           21.842105263157894,
           21.842105263157894,
           21.842105263157894,
           21.842105263157894,
           21.842105263157894,
           21.842105263157894,
           21.842105263157894,
           21.842105263157894,
           21.842105263157894,
           21.842105263157894,
           21.842105263157894,
           21.842105263157894,
           21.842105263157894,
           21.842105263157894,
           21.842105263157894,
           21.842105263157894,
           21.842105263157894
          ],
          [
           23.736842105263158,
           23.736842105263158,
           23.736842105263158,
           23.736842105263158,
           23.736842105263158,
           23.736842105263158,
           23.736842105263158,
           23.736842105263158,
           23.736842105263158,
           23.736842105263158,
           23.736842105263158,
           23.736842105263158,
           23.736842105263158,
           23.736842105263158,
           23.736842105263158,
           23.736842105263158,
           23.736842105263158,
           23.736842105263158,
           23.736842105263158,
           23.736842105263158
          ],
          [
           25.63157894736842,
           25.63157894736842,
           25.63157894736842,
           25.63157894736842,
           25.63157894736842,
           25.63157894736842,
           25.63157894736842,
           25.63157894736842,
           25.63157894736842,
           25.63157894736842,
           25.63157894736842,
           25.63157894736842,
           25.63157894736842,
           25.63157894736842,
           25.63157894736842,
           25.63157894736842,
           25.63157894736842,
           25.63157894736842,
           25.63157894736842,
           25.63157894736842
          ],
          [
           27.52631578947368,
           27.52631578947368,
           27.52631578947368,
           27.52631578947368,
           27.52631578947368,
           27.52631578947368,
           27.52631578947368,
           27.52631578947368,
           27.52631578947368,
           27.52631578947368,
           27.52631578947368,
           27.52631578947368,
           27.52631578947368,
           27.52631578947368,
           27.52631578947368,
           27.52631578947368,
           27.52631578947368,
           27.52631578947368,
           27.52631578947368,
           27.52631578947368
          ],
          [
           29.421052631578945,
           29.421052631578945,
           29.421052631578945,
           29.421052631578945,
           29.421052631578945,
           29.421052631578945,
           29.421052631578945,
           29.421052631578945,
           29.421052631578945,
           29.421052631578945,
           29.421052631578945,
           29.421052631578945,
           29.421052631578945,
           29.421052631578945,
           29.421052631578945,
           29.421052631578945,
           29.421052631578945,
           29.421052631578945,
           29.421052631578945,
           29.421052631578945
          ],
          [
           31.31578947368421,
           31.31578947368421,
           31.31578947368421,
           31.31578947368421,
           31.31578947368421,
           31.31578947368421,
           31.31578947368421,
           31.31578947368421,
           31.31578947368421,
           31.31578947368421,
           31.31578947368421,
           31.31578947368421,
           31.31578947368421,
           31.31578947368421,
           31.31578947368421,
           31.31578947368421,
           31.31578947368421,
           31.31578947368421,
           31.31578947368421,
           31.31578947368421
          ],
          [
           33.21052631578947,
           33.21052631578947,
           33.21052631578947,
           33.21052631578947,
           33.21052631578947,
           33.21052631578947,
           33.21052631578947,
           33.21052631578947,
           33.21052631578947,
           33.21052631578947,
           33.21052631578947,
           33.21052631578947,
           33.21052631578947,
           33.21052631578947,
           33.21052631578947,
           33.21052631578947,
           33.21052631578947,
           33.21052631578947,
           33.21052631578947,
           33.21052631578947
          ],
          [
           35.10526315789473,
           35.10526315789473,
           35.10526315789473,
           35.10526315789473,
           35.10526315789473,
           35.10526315789473,
           35.10526315789473,
           35.10526315789473,
           35.10526315789473,
           35.10526315789473,
           35.10526315789473,
           35.10526315789473,
           35.10526315789473,
           35.10526315789473,
           35.10526315789473,
           35.10526315789473,
           35.10526315789473,
           35.10526315789473,
           35.10526315789473,
           35.10526315789473
          ],
          [
           37,
           37,
           37,
           37,
           37,
           37,
           37,
           37,
           37,
           37,
           37,
           37,
           37,
           37,
           37,
           37,
           37,
           37,
           37,
           37
          ]
         ],
         "y": [
          [
           1,
           6.2105263157894735,
           11.421052631578947,
           16.63157894736842,
           21.842105263157894,
           27.052631578947366,
           32.26315789473684,
           37.473684210526315,
           42.68421052631579,
           47.89473684210526,
           53.10526315789473,
           58.315789473684205,
           63.526315789473685,
           68.73684210526315,
           73.94736842105263,
           79.1578947368421,
           84.36842105263158,
           89.57894736842105,
           94.78947368421052,
           100
          ],
          [
           1,
           6.2105263157894735,
           11.421052631578947,
           16.63157894736842,
           21.842105263157894,
           27.052631578947366,
           32.26315789473684,
           37.473684210526315,
           42.68421052631579,
           47.89473684210526,
           53.10526315789473,
           58.315789473684205,
           63.526315789473685,
           68.73684210526315,
           73.94736842105263,
           79.1578947368421,
           84.36842105263158,
           89.57894736842105,
           94.78947368421052,
           100
          ],
          [
           1,
           6.2105263157894735,
           11.421052631578947,
           16.63157894736842,
           21.842105263157894,
           27.052631578947366,
           32.26315789473684,
           37.473684210526315,
           42.68421052631579,
           47.89473684210526,
           53.10526315789473,
           58.315789473684205,
           63.526315789473685,
           68.73684210526315,
           73.94736842105263,
           79.1578947368421,
           84.36842105263158,
           89.57894736842105,
           94.78947368421052,
           100
          ],
          [
           1,
           6.2105263157894735,
           11.421052631578947,
           16.63157894736842,
           21.842105263157894,
           27.052631578947366,
           32.26315789473684,
           37.473684210526315,
           42.68421052631579,
           47.89473684210526,
           53.10526315789473,
           58.315789473684205,
           63.526315789473685,
           68.73684210526315,
           73.94736842105263,
           79.1578947368421,
           84.36842105263158,
           89.57894736842105,
           94.78947368421052,
           100
          ],
          [
           1,
           6.2105263157894735,
           11.421052631578947,
           16.63157894736842,
           21.842105263157894,
           27.052631578947366,
           32.26315789473684,
           37.473684210526315,
           42.68421052631579,
           47.89473684210526,
           53.10526315789473,
           58.315789473684205,
           63.526315789473685,
           68.73684210526315,
           73.94736842105263,
           79.1578947368421,
           84.36842105263158,
           89.57894736842105,
           94.78947368421052,
           100
          ],
          [
           1,
           6.2105263157894735,
           11.421052631578947,
           16.63157894736842,
           21.842105263157894,
           27.052631578947366,
           32.26315789473684,
           37.473684210526315,
           42.68421052631579,
           47.89473684210526,
           53.10526315789473,
           58.315789473684205,
           63.526315789473685,
           68.73684210526315,
           73.94736842105263,
           79.1578947368421,
           84.36842105263158,
           89.57894736842105,
           94.78947368421052,
           100
          ],
          [
           1,
           6.2105263157894735,
           11.421052631578947,
           16.63157894736842,
           21.842105263157894,
           27.052631578947366,
           32.26315789473684,
           37.473684210526315,
           42.68421052631579,
           47.89473684210526,
           53.10526315789473,
           58.315789473684205,
           63.526315789473685,
           68.73684210526315,
           73.94736842105263,
           79.1578947368421,
           84.36842105263158,
           89.57894736842105,
           94.78947368421052,
           100
          ],
          [
           1,
           6.2105263157894735,
           11.421052631578947,
           16.63157894736842,
           21.842105263157894,
           27.052631578947366,
           32.26315789473684,
           37.473684210526315,
           42.68421052631579,
           47.89473684210526,
           53.10526315789473,
           58.315789473684205,
           63.526315789473685,
           68.73684210526315,
           73.94736842105263,
           79.1578947368421,
           84.36842105263158,
           89.57894736842105,
           94.78947368421052,
           100
          ],
          [
           1,
           6.2105263157894735,
           11.421052631578947,
           16.63157894736842,
           21.842105263157894,
           27.052631578947366,
           32.26315789473684,
           37.473684210526315,
           42.68421052631579,
           47.89473684210526,
           53.10526315789473,
           58.315789473684205,
           63.526315789473685,
           68.73684210526315,
           73.94736842105263,
           79.1578947368421,
           84.36842105263158,
           89.57894736842105,
           94.78947368421052,
           100
          ],
          [
           1,
           6.2105263157894735,
           11.421052631578947,
           16.63157894736842,
           21.842105263157894,
           27.052631578947366,
           32.26315789473684,
           37.473684210526315,
           42.68421052631579,
           47.89473684210526,
           53.10526315789473,
           58.315789473684205,
           63.526315789473685,
           68.73684210526315,
           73.94736842105263,
           79.1578947368421,
           84.36842105263158,
           89.57894736842105,
           94.78947368421052,
           100
          ],
          [
           1,
           6.2105263157894735,
           11.421052631578947,
           16.63157894736842,
           21.842105263157894,
           27.052631578947366,
           32.26315789473684,
           37.473684210526315,
           42.68421052631579,
           47.89473684210526,
           53.10526315789473,
           58.315789473684205,
           63.526315789473685,
           68.73684210526315,
           73.94736842105263,
           79.1578947368421,
           84.36842105263158,
           89.57894736842105,
           94.78947368421052,
           100
          ],
          [
           1,
           6.2105263157894735,
           11.421052631578947,
           16.63157894736842,
           21.842105263157894,
           27.052631578947366,
           32.26315789473684,
           37.473684210526315,
           42.68421052631579,
           47.89473684210526,
           53.10526315789473,
           58.315789473684205,
           63.526315789473685,
           68.73684210526315,
           73.94736842105263,
           79.1578947368421,
           84.36842105263158,
           89.57894736842105,
           94.78947368421052,
           100
          ],
          [
           1,
           6.2105263157894735,
           11.421052631578947,
           16.63157894736842,
           21.842105263157894,
           27.052631578947366,
           32.26315789473684,
           37.473684210526315,
           42.68421052631579,
           47.89473684210526,
           53.10526315789473,
           58.315789473684205,
           63.526315789473685,
           68.73684210526315,
           73.94736842105263,
           79.1578947368421,
           84.36842105263158,
           89.57894736842105,
           94.78947368421052,
           100
          ],
          [
           1,
           6.2105263157894735,
           11.421052631578947,
           16.63157894736842,
           21.842105263157894,
           27.052631578947366,
           32.26315789473684,
           37.473684210526315,
           42.68421052631579,
           47.89473684210526,
           53.10526315789473,
           58.315789473684205,
           63.526315789473685,
           68.73684210526315,
           73.94736842105263,
           79.1578947368421,
           84.36842105263158,
           89.57894736842105,
           94.78947368421052,
           100
          ],
          [
           1,
           6.2105263157894735,
           11.421052631578947,
           16.63157894736842,
           21.842105263157894,
           27.052631578947366,
           32.26315789473684,
           37.473684210526315,
           42.68421052631579,
           47.89473684210526,
           53.10526315789473,
           58.315789473684205,
           63.526315789473685,
           68.73684210526315,
           73.94736842105263,
           79.1578947368421,
           84.36842105263158,
           89.57894736842105,
           94.78947368421052,
           100
          ],
          [
           1,
           6.2105263157894735,
           11.421052631578947,
           16.63157894736842,
           21.842105263157894,
           27.052631578947366,
           32.26315789473684,
           37.473684210526315,
           42.68421052631579,
           47.89473684210526,
           53.10526315789473,
           58.315789473684205,
           63.526315789473685,
           68.73684210526315,
           73.94736842105263,
           79.1578947368421,
           84.36842105263158,
           89.57894736842105,
           94.78947368421052,
           100
          ],
          [
           1,
           6.2105263157894735,
           11.421052631578947,
           16.63157894736842,
           21.842105263157894,
           27.052631578947366,
           32.26315789473684,
           37.473684210526315,
           42.68421052631579,
           47.89473684210526,
           53.10526315789473,
           58.315789473684205,
           63.526315789473685,
           68.73684210526315,
           73.94736842105263,
           79.1578947368421,
           84.36842105263158,
           89.57894736842105,
           94.78947368421052,
           100
          ],
          [
           1,
           6.2105263157894735,
           11.421052631578947,
           16.63157894736842,
           21.842105263157894,
           27.052631578947366,
           32.26315789473684,
           37.473684210526315,
           42.68421052631579,
           47.89473684210526,
           53.10526315789473,
           58.315789473684205,
           63.526315789473685,
           68.73684210526315,
           73.94736842105263,
           79.1578947368421,
           84.36842105263158,
           89.57894736842105,
           94.78947368421052,
           100
          ],
          [
           1,
           6.2105263157894735,
           11.421052631578947,
           16.63157894736842,
           21.842105263157894,
           27.052631578947366,
           32.26315789473684,
           37.473684210526315,
           42.68421052631579,
           47.89473684210526,
           53.10526315789473,
           58.315789473684205,
           63.526315789473685,
           68.73684210526315,
           73.94736842105263,
           79.1578947368421,
           84.36842105263158,
           89.57894736842105,
           94.78947368421052,
           100
          ],
          [
           1,
           6.2105263157894735,
           11.421052631578947,
           16.63157894736842,
           21.842105263157894,
           27.052631578947366,
           32.26315789473684,
           37.473684210526315,
           42.68421052631579,
           47.89473684210526,
           53.10526315789473,
           58.315789473684205,
           63.526315789473685,
           68.73684210526315,
           73.94736842105263,
           79.1578947368421,
           84.36842105263158,
           89.57894736842105,
           94.78947368421052,
           100
          ]
         ],
         "z": [
          [
           4.605180903579528,
           4.618605598493366,
           4.666866141804306,
           4.707257898893656,
           4.718167261586972,
           4.72002508681442,
           4.720301806532717,
           4.720301806532717,
           4.720301806532717,
           4.720301806532717,
           4.720301806532717,
           4.720301806532717,
           4.720301806532717,
           4.720301806532717,
           4.720301806532717,
           4.720301806532717,
           4.720301806532717,
           4.720301806532717,
           4.720301806532717,
           4.720301806532717
          ],
          [
           4.6209091663549735,
           4.6239437336912985,
           4.662734087112687,
           4.701516453534356,
           4.712239004619592,
           4.7140694441527415,
           4.7143421791387174,
           4.7143421791387174,
           4.7143421791387174,
           4.7143421791387174,
           4.7143421791387174,
           4.7143421791387174,
           4.7143421791387174,
           4.7143421791387174,
           4.7143421791387174,
           4.7143421791387174,
           4.7143421791387174,
           4.7143421791387174,
           4.7143421791387174,
           4.7143421791387174
          ],
          [
           4.655598104455739,
           4.637215250620554,
           4.65750050509944,
           4.693250658265708,
           4.703606544289287,
           4.705382420453135,
           4.705647195481039,
           4.705647195481039,
           4.705647195481039,
           4.705647195481039,
           4.705647195481039,
           4.705647195481039,
           4.705647195481039,
           4.705647195481039,
           4.705647195481039,
           4.705647195481039,
           4.705647195481039,
           4.705647195481039,
           4.705647195481039,
           4.705647195481039
          ],
          [
           4.690262766877665,
           4.652289564410033,
           4.657663726751249,
           4.6907494319870695,
           4.70068168288997,
           4.702390399086162,
           4.70264527619163,
           4.70264527619163,
           4.70264527619163,
           4.70264527619163,
           4.70264527619163,
           4.70264527619163,
           4.70264527619163,
           4.70264527619163,
           4.70264527619163,
           4.70264527619163,
           4.70264527619163,
           4.70264527619163,
           4.70264527619163,
           4.70264527619163
          ],
          [
           4.706274506238213,
           4.660361144433787,
           4.66134001229865,
           4.69211460341099,
           4.701442259810006,
           4.703048951108724,
           4.7032886548162764,
           4.7032886548162764,
           4.7032886548162764,
           4.7032886548162764,
           4.7032886548162764,
           4.7032886548162764,
           4.7032886548162764,
           4.7032886548162764,
           4.7032886548162764,
           4.7032886548162764,
           4.7032886548162764,
           4.7032886548162764,
           4.7032886548162764,
           4.7032886548162764
          ],
          [
           4.708007933039852,
           4.663405265948289,
           4.6659645318486715,
           4.693594313493958,
           4.702008368637803,
           4.703460363979751,
           4.7036770537819494,
           4.7036770537819494,
           4.7036770537819494,
           4.7036770537819494,
           4.7036770537819494,
           4.7036770537819494,
           4.7036770537819494,
           4.7036770537819494,
           4.7036770537819494,
           4.7036770537819494,
           4.7036770537819494,
           4.7036770537819494,
           4.7036770537819494,
           4.7036770537819494
          ],
          [
           4.706873436671243,
           4.666726066284243,
           4.671552957937414,
           4.695497385872532,
           4.702901280786986,
           4.704183704853336,
           4.70437520103648,
           4.70437520103648,
           4.70437520103648,
           4.70437520103648,
           4.70437520103648,
           4.70437520103648,
           4.70437520103648,
           4.70437520103648,
           4.70437520103648,
           4.70437520103648,
           4.70437520103648,
           4.70437520103648,
           4.70437520103648,
           4.70437520103648
          ],
          [
           4.707413372354504,
           4.672213453841401,
           4.67859205256556,
           4.6985450895617955,
           4.704911454506012,
           4.706020898208415,
           4.70618672057316,
           4.70618672057316,
           4.70618672057316,
           4.70618672057316,
           4.70618672057316,
           4.70618672057316,
           4.70618672057316,
           4.70618672057316,
           4.70618672057316,
           4.70618672057316,
           4.70618672057316,
           4.70618672057316,
           4.70618672057316,
           4.70618672057316
          ],
          [
           4.709514374624189,
           4.6780390884096175,
           4.685053360939811,
           4.701796106611933,
           4.707356454314072,
           4.708332112522884,
           4.708478091607159,
           4.708478091607159,
           4.708478091607159,
           4.708478091607159,
           4.708478091607159,
           4.708478091607159,
           4.708478091607159,
           4.708478091607159,
           4.708478091607159,
           4.708478091607159,
           4.708478091607159,
           4.708478091607159,
           4.708478091607159,
           4.708478091607159
          ],
          [
           4.712359314452788,
           4.6838183767485875,
           4.691020864143979,
           4.7050605162785955,
           4.709956653940351,
           4.7108223702693,
           4.710952049384672,
           4.710952049384672,
           4.710952049384672,
           4.710952049384672,
           4.710952049384672,
           4.710952049384672,
           4.710952049384672,
           4.710952049384672,
           4.710952049384672,
           4.710952049384672,
           4.710952049384672,
           4.710952049384672,
           4.710952049384672,
           4.710952049384672
          ],
          [
           4.7139564677173444,
           4.686691712596223,
           4.693888669606591,
           4.706698107042478,
           4.711295572843508,
           4.712111929483842,
           4.712234292254926,
           4.712234292254926,
           4.712234292254926,
           4.712234292254926,
           4.712234292254926,
           4.712234292254926,
           4.712234292254926,
           4.712234292254926,
           4.712234292254926,
           4.712234292254926,
           4.712234292254926,
           4.712234292254926,
           4.712234292254926,
           4.712234292254926
          ],
          [
           4.716601553326081,
           4.691132735782076,
           4.6982298363503965,
           4.709247039079434,
           4.713412924750505,
           4.714158032706626,
           4.714269836322562,
           4.714269836322562,
           4.714269836322562,
           4.714269836322562,
           4.714269836322562,
           4.714269836322562,
           4.714269836322562,
           4.714269836322562,
           4.714269836322562,
           4.714269836322562,
           4.714269836322562,
           4.714269836322562,
           4.714269836322562,
           4.714269836322562
          ],
          [
           4.718873720279605,
           4.694733242571889,
           4.701685489329818,
           4.711328491513308,
           4.715166047136677,
           4.715857007422856,
           4.7159607875153196,
           4.7159607875153196,
           4.7159607875153196,
           4.7159607875153196,
           4.7159607875153196,
           4.7159607875153196,
           4.7159607875153196,
           4.7159607875153196,
           4.7159607875153196,
           4.7159607875153196,
           4.7159607875153196,
           4.7159607875153196,
           4.7159607875153196,
           4.7159607875153196
          ],
          [
           4.720283844075842,
           4.696894753312547,
           4.703737652020508,
           4.712584099495318,
           4.716232285661138,
           4.716892035909723,
           4.716991191799164,
           4.716991191799164,
           4.716991191799163,
           4.716991191799163,
           4.716991191799163,
           4.716991191799163,
           4.716991191799163,
           4.716991191799163,
           4.716991191799163,
           4.716991191799163,
           4.716991191799163,
           4.716991191799163,
           4.716991191799163,
           4.716991191799163
          ],
          [
           4.721104126795412,
           4.698130794700178,
           4.704904525022672,
           4.7133040604491185,
           4.7168462887738345,
           4.717488582345523,
           4.717585151923838,
           4.717585151923838,
           4.717585151923838,
           4.717585151923838,
           4.717585151923838,
           4.717585151923838,
           4.717585151923838,
           4.717585151923838,
           4.717585151923838,
           4.717585151923838,
           4.717585151923838,
           4.717585151923838,
           4.717585151923838,
           4.717585151923838
          ],
          [
           4.722134916181769,
           4.699664306992233,
           4.706346052498477,
           4.714199208050916,
           4.7176121687385635,
           4.718233171241099,
           4.718326586551911,
           4.718326586551911,
           4.718326586551911,
           4.718326586551911,
           4.718326586551911,
           4.718326586551911,
           4.718326586551911,
           4.718326586551911,
           4.718326586551911,
           4.718326586551911,
           4.718326586551911,
           4.718326586551911,
           4.718326586551911,
           4.718326586551911
          ],
          [
           4.722476379496391,
           4.700167811907742,
           4.706817944050191,
           4.714493570242844,
           4.717864592616488,
           4.718478689029197,
           4.718571081234801,
           4.718571081234801,
           4.718571081234801,
           4.718571081234801,
           4.718571081234801,
           4.718571081234801,
           4.718571081234801,
           4.718571081234801,
           4.718571081234801,
           4.718571081234801,
           4.718571081234801,
           4.718571081234801,
           4.718571081234801,
           4.718571081234801
          ],
          [
           4.723007724577087,
           4.700947131264714,
           4.707547017673315,
           4.7149496165853115,
           4.71825620030548,
           4.718859686732141,
           4.718950507146228,
           4.718950507146228,
           4.718950507146228,
           4.718950507146228,
           4.718950507146228,
           4.718950507146228,
           4.718950507146228,
           4.718950507146228,
           4.718950507146228,
           4.718950507146228,
           4.718950507146228,
           4.718950507146228,
           4.718950507146228,
           4.718950507146228
          ],
          [
           4.723223560605318,
           4.701262293384396,
           4.707841417658453,
           4.7151341938659606,
           4.718414877840667,
           4.719014100246724,
           4.719104288987209,
           4.719104288987209,
           4.719104288987209,
           4.719104288987209,
           4.719104288987209,
           4.719104288987209,
           4.719104288987209,
           4.719104288987209,
           4.719104288987209,
           4.719104288987209,
           4.719104288987209,
           4.719104288987209,
           4.719104288987209,
           4.719104288987209
          ],
          [
           4.723342088757878,
           4.701435031753142,
           4.708002670453773,
           4.715235395651887,
           4.718501922496365,
           4.719098814239885,
           4.719188657717495,
           4.719188657717495,
           4.719188657717495,
           4.719188657717495,
           4.719188657717495,
           4.719188657717495,
           4.719188657717495,
           4.719188657717495,
           4.719188657717495,
           4.719188657717495,
           4.719188657717495,
           4.719188657717495,
           4.719188657717496,
           4.719188657717496
          ]
         ]
        }
       ],
       "layout": {
        "autosize": true,
        "scene": {
         "aspectmode": "auto",
         "aspectratio": {
          "x": 1,
          "y": 1,
          "z": 1
         },
         "camera": {
          "center": {
           "x": 0,
           "y": 0,
           "z": 0
          },
          "eye": {
           "x": 0.006439564085354213,
           "y": 0.004467600958089012,
           "z": 0.0062106808056684405
          },
          "projection": {
           "type": "perspective"
          },
          "up": {
           "x": 0,
           "y": 0,
           "z": 1
          }
         },
         "xaxis": {
          "title": {
           "text": "Steps"
          },
          "type": "linear"
         },
         "yaxis": {
          "title": {
           "text": "Ingredients"
          },
          "type": "linear"
         },
         "zaxis": {
          "title": {
           "text": "Predicted Rating"
          },
          "type": "linear"
         }
        },
        "template": {
         "data": {
          "bar": [
           {
            "error_x": {
             "color": "rgb(36,36,36)"
            },
            "error_y": {
             "color": "rgb(36,36,36)"
            },
            "marker": {
             "line": {
              "color": "white",
              "width": 0.5
             },
             "pattern": {
              "fillmode": "overlay",
              "size": 10,
              "solidity": 0.2
             }
            },
            "type": "bar"
           }
          ],
          "barpolar": [
           {
            "marker": {
             "line": {
              "color": "white",
              "width": 0.5
             },
             "pattern": {
              "fillmode": "overlay",
              "size": 10,
              "solidity": 0.2
             }
            },
            "type": "barpolar"
           }
          ],
          "carpet": [
           {
            "aaxis": {
             "endlinecolor": "rgb(36,36,36)",
             "gridcolor": "white",
             "linecolor": "white",
             "minorgridcolor": "white",
             "startlinecolor": "rgb(36,36,36)"
            },
            "baxis": {
             "endlinecolor": "rgb(36,36,36)",
             "gridcolor": "white",
             "linecolor": "white",
             "minorgridcolor": "white",
             "startlinecolor": "rgb(36,36,36)"
            },
            "type": "carpet"
           }
          ],
          "choropleth": [
           {
            "colorbar": {
             "outlinewidth": 1,
             "tickcolor": "rgb(36,36,36)",
             "ticks": "outside"
            },
            "type": "choropleth"
           }
          ],
          "contour": [
           {
            "colorbar": {
             "outlinewidth": 1,
             "tickcolor": "rgb(36,36,36)",
             "ticks": "outside"
            },
            "colorscale": [
             [
              0,
              "#440154"
             ],
             [
              0.1111111111111111,
              "#482878"
             ],
             [
              0.2222222222222222,
              "#3e4989"
             ],
             [
              0.3333333333333333,
              "#31688e"
             ],
             [
              0.4444444444444444,
              "#26828e"
             ],
             [
              0.5555555555555556,
              "#1f9e89"
             ],
             [
              0.6666666666666666,
              "#35b779"
             ],
             [
              0.7777777777777778,
              "#6ece58"
             ],
             [
              0.8888888888888888,
              "#b5de2b"
             ],
             [
              1,
              "#fde725"
             ]
            ],
            "type": "contour"
           }
          ],
          "contourcarpet": [
           {
            "colorbar": {
             "outlinewidth": 1,
             "tickcolor": "rgb(36,36,36)",
             "ticks": "outside"
            },
            "type": "contourcarpet"
           }
          ],
          "heatmap": [
           {
            "colorbar": {
             "outlinewidth": 1,
             "tickcolor": "rgb(36,36,36)",
             "ticks": "outside"
            },
            "colorscale": [
             [
              0,
              "#440154"
             ],
             [
              0.1111111111111111,
              "#482878"
             ],
             [
              0.2222222222222222,
              "#3e4989"
             ],
             [
              0.3333333333333333,
              "#31688e"
             ],
             [
              0.4444444444444444,
              "#26828e"
             ],
             [
              0.5555555555555556,
              "#1f9e89"
             ],
             [
              0.6666666666666666,
              "#35b779"
             ],
             [
              0.7777777777777778,
              "#6ece58"
             ],
             [
              0.8888888888888888,
              "#b5de2b"
             ],
             [
              1,
              "#fde725"
             ]
            ],
            "type": "heatmap"
           }
          ],
          "heatmapgl": [
           {
            "colorbar": {
             "outlinewidth": 1,
             "tickcolor": "rgb(36,36,36)",
             "ticks": "outside"
            },
            "colorscale": [
             [
              0,
              "#440154"
             ],
             [
              0.1111111111111111,
              "#482878"
             ],
             [
              0.2222222222222222,
              "#3e4989"
             ],
             [
              0.3333333333333333,
              "#31688e"
             ],
             [
              0.4444444444444444,
              "#26828e"
             ],
             [
              0.5555555555555556,
              "#1f9e89"
             ],
             [
              0.6666666666666666,
              "#35b779"
             ],
             [
              0.7777777777777778,
              "#6ece58"
             ],
             [
              0.8888888888888888,
              "#b5de2b"
             ],
             [
              1,
              "#fde725"
             ]
            ],
            "type": "heatmapgl"
           }
          ],
          "histogram": [
           {
            "marker": {
             "line": {
              "color": "white",
              "width": 0.6
             }
            },
            "type": "histogram"
           }
          ],
          "histogram2d": [
           {
            "colorbar": {
             "outlinewidth": 1,
             "tickcolor": "rgb(36,36,36)",
             "ticks": "outside"
            },
            "colorscale": [
             [
              0,
              "#440154"
             ],
             [
              0.1111111111111111,
              "#482878"
             ],
             [
              0.2222222222222222,
              "#3e4989"
             ],
             [
              0.3333333333333333,
              "#31688e"
             ],
             [
              0.4444444444444444,
              "#26828e"
             ],
             [
              0.5555555555555556,
              "#1f9e89"
             ],
             [
              0.6666666666666666,
              "#35b779"
             ],
             [
              0.7777777777777778,
              "#6ece58"
             ],
             [
              0.8888888888888888,
              "#b5de2b"
             ],
             [
              1,
              "#fde725"
             ]
            ],
            "type": "histogram2d"
           }
          ],
          "histogram2dcontour": [
           {
            "colorbar": {
             "outlinewidth": 1,
             "tickcolor": "rgb(36,36,36)",
             "ticks": "outside"
            },
            "colorscale": [
             [
              0,
              "#440154"
             ],
             [
              0.1111111111111111,
              "#482878"
             ],
             [
              0.2222222222222222,
              "#3e4989"
             ],
             [
              0.3333333333333333,
              "#31688e"
             ],
             [
              0.4444444444444444,
              "#26828e"
             ],
             [
              0.5555555555555556,
              "#1f9e89"
             ],
             [
              0.6666666666666666,
              "#35b779"
             ],
             [
              0.7777777777777778,
              "#6ece58"
             ],
             [
              0.8888888888888888,
              "#b5de2b"
             ],
             [
              1,
              "#fde725"
             ]
            ],
            "type": "histogram2dcontour"
           }
          ],
          "mesh3d": [
           {
            "colorbar": {
             "outlinewidth": 1,
             "tickcolor": "rgb(36,36,36)",
             "ticks": "outside"
            },
            "type": "mesh3d"
           }
          ],
          "parcoords": [
           {
            "line": {
             "colorbar": {
              "outlinewidth": 1,
              "tickcolor": "rgb(36,36,36)",
              "ticks": "outside"
             }
            },
            "type": "parcoords"
           }
          ],
          "pie": [
           {
            "automargin": true,
            "type": "pie"
           }
          ],
          "scatter": [
           {
            "fillpattern": {
             "fillmode": "overlay",
             "size": 10,
             "solidity": 0.2
            },
            "type": "scatter"
           }
          ],
          "scatter3d": [
           {
            "line": {
             "colorbar": {
              "outlinewidth": 1,
              "tickcolor": "rgb(36,36,36)",
              "ticks": "outside"
             }
            },
            "marker": {
             "colorbar": {
              "outlinewidth": 1,
              "tickcolor": "rgb(36,36,36)",
              "ticks": "outside"
             }
            },
            "type": "scatter3d"
           }
          ],
          "scattercarpet": [
           {
            "marker": {
             "colorbar": {
              "outlinewidth": 1,
              "tickcolor": "rgb(36,36,36)",
              "ticks": "outside"
             }
            },
            "type": "scattercarpet"
           }
          ],
          "scattergeo": [
           {
            "marker": {
             "colorbar": {
              "outlinewidth": 1,
              "tickcolor": "rgb(36,36,36)",
              "ticks": "outside"
             }
            },
            "type": "scattergeo"
           }
          ],
          "scattergl": [
           {
            "marker": {
             "colorbar": {
              "outlinewidth": 1,
              "tickcolor": "rgb(36,36,36)",
              "ticks": "outside"
             }
            },
            "type": "scattergl"
           }
          ],
          "scattermapbox": [
           {
            "marker": {
             "colorbar": {
              "outlinewidth": 1,
              "tickcolor": "rgb(36,36,36)",
              "ticks": "outside"
             }
            },
            "type": "scattermapbox"
           }
          ],
          "scatterpolar": [
           {
            "marker": {
             "colorbar": {
              "outlinewidth": 1,
              "tickcolor": "rgb(36,36,36)",
              "ticks": "outside"
             }
            },
            "type": "scatterpolar"
           }
          ],
          "scatterpolargl": [
           {
            "marker": {
             "colorbar": {
              "outlinewidth": 1,
              "tickcolor": "rgb(36,36,36)",
              "ticks": "outside"
             }
            },
            "type": "scatterpolargl"
           }
          ],
          "scatterternary": [
           {
            "marker": {
             "colorbar": {
              "outlinewidth": 1,
              "tickcolor": "rgb(36,36,36)",
              "ticks": "outside"
             }
            },
            "type": "scatterternary"
           }
          ],
          "surface": [
           {
            "colorbar": {
             "outlinewidth": 1,
             "tickcolor": "rgb(36,36,36)",
             "ticks": "outside"
            },
            "colorscale": [
             [
              0,
              "#440154"
             ],
             [
              0.1111111111111111,
              "#482878"
             ],
             [
              0.2222222222222222,
              "#3e4989"
             ],
             [
              0.3333333333333333,
              "#31688e"
             ],
             [
              0.4444444444444444,
              "#26828e"
             ],
             [
              0.5555555555555556,
              "#1f9e89"
             ],
             [
              0.6666666666666666,
              "#35b779"
             ],
             [
              0.7777777777777778,
              "#6ece58"
             ],
             [
              0.8888888888888888,
              "#b5de2b"
             ],
             [
              1,
              "#fde725"
             ]
            ],
            "type": "surface"
           }
          ],
          "table": [
           {
            "cells": {
             "fill": {
              "color": "rgb(237,237,237)"
             },
             "line": {
              "color": "white"
             }
            },
            "header": {
             "fill": {
              "color": "rgb(217,217,217)"
             },
             "line": {
              "color": "white"
             }
            },
            "type": "table"
           }
          ]
         },
         "layout": {
          "annotationdefaults": {
           "arrowhead": 0,
           "arrowwidth": 1
          },
          "autosize": true,
          "autotypenumbers": "strict",
          "coloraxis": {
           "colorbar": {
            "outlinewidth": 1,
            "tickcolor": "rgb(36,36,36)",
            "ticks": "outside"
           }
          },
          "colorscale": {
           "diverging": [
            [
             0,
             "rgb(103,0,31)"
            ],
            [
             0.1,
             "rgb(178,24,43)"
            ],
            [
             0.2,
             "rgb(214,96,77)"
            ],
            [
             0.3,
             "rgb(244,165,130)"
            ],
            [
             0.4,
             "rgb(253,219,199)"
            ],
            [
             0.5,
             "rgb(247,247,247)"
            ],
            [
             0.6,
             "rgb(209,229,240)"
            ],
            [
             0.7,
             "rgb(146,197,222)"
            ],
            [
             0.8,
             "rgb(67,147,195)"
            ],
            [
             0.9,
             "rgb(33,102,172)"
            ],
            [
             1,
             "rgb(5,48,97)"
            ]
           ],
           "sequential": [
            [
             0,
             "#440154"
            ],
            [
             0.1111111111111111,
             "#482878"
            ],
            [
             0.2222222222222222,
             "#3e4989"
            ],
            [
             0.3333333333333333,
             "#31688e"
            ],
            [
             0.4444444444444444,
             "#26828e"
            ],
            [
             0.5555555555555556,
             "#1f9e89"
            ],
            [
             0.6666666666666666,
             "#35b779"
            ],
            [
             0.7777777777777778,
             "#6ece58"
            ],
            [
             0.8888888888888888,
             "#b5de2b"
            ],
            [
             1,
             "#fde725"
            ]
           ],
           "sequentialminus": [
            [
             0,
             "#440154"
            ],
            [
             0.1111111111111111,
             "#482878"
            ],
            [
             0.2222222222222222,
             "#3e4989"
            ],
            [
             0.3333333333333333,
             "#31688e"
            ],
            [
             0.4444444444444444,
             "#26828e"
            ],
            [
             0.5555555555555556,
             "#1f9e89"
            ],
            [
             0.6666666666666666,
             "#35b779"
            ],
            [
             0.7777777777777778,
             "#6ece58"
            ],
            [
             0.8888888888888888,
             "#b5de2b"
            ],
            [
             1,
             "#fde725"
            ]
           ]
          },
          "colorway": [
           "#1F77B4",
           "#FF7F0E",
           "#2CA02C",
           "#D62728",
           "#9467BD",
           "#8C564B",
           "#E377C2",
           "#7F7F7F",
           "#BCBD22",
           "#17BECF"
          ],
          "font": {
           "color": "rgb(36,36,36)"
          },
          "geo": {
           "bgcolor": "white",
           "lakecolor": "white",
           "landcolor": "white",
           "showlakes": true,
           "showland": true,
           "subunitcolor": "white"
          },
          "height": 400,
          "hoverlabel": {
           "align": "left"
          },
          "hovermode": "closest",
          "mapbox": {
           "style": "light"
          },
          "margin": {
           "b": 30,
           "l": 30,
           "r": 30,
           "t": 30
          },
          "paper_bgcolor": "white",
          "plot_bgcolor": "white",
          "polar": {
           "angularaxis": {
            "gridcolor": "rgb(232,232,232)",
            "linecolor": "rgb(36,36,36)",
            "showgrid": false,
            "showline": true,
            "ticks": "outside"
           },
           "bgcolor": "white",
           "radialaxis": {
            "gridcolor": "rgb(232,232,232)",
            "linecolor": "rgb(36,36,36)",
            "showgrid": false,
            "showline": true,
            "ticks": "outside"
           }
          },
          "scene": {
           "xaxis": {
            "backgroundcolor": "white",
            "gridcolor": "rgb(232,232,232)",
            "gridwidth": 2,
            "linecolor": "rgb(36,36,36)",
            "showbackground": true,
            "showgrid": false,
            "showline": true,
            "ticks": "outside",
            "zeroline": false,
            "zerolinecolor": "rgb(36,36,36)"
           },
           "yaxis": {
            "backgroundcolor": "white",
            "gridcolor": "rgb(232,232,232)",
            "gridwidth": 2,
            "linecolor": "rgb(36,36,36)",
            "showbackground": true,
            "showgrid": false,
            "showline": true,
            "ticks": "outside",
            "zeroline": false,
            "zerolinecolor": "rgb(36,36,36)"
           },
           "zaxis": {
            "backgroundcolor": "white",
            "gridcolor": "rgb(232,232,232)",
            "gridwidth": 2,
            "linecolor": "rgb(36,36,36)",
            "showbackground": true,
            "showgrid": false,
            "showline": true,
            "ticks": "outside",
            "zeroline": false,
            "zerolinecolor": "rgb(36,36,36)"
           }
          },
          "shapedefaults": {
           "fillcolor": "black",
           "line": {
            "width": 0
           },
           "opacity": 0.3
          },
          "ternary": {
           "aaxis": {
            "gridcolor": "rgb(232,232,232)",
            "linecolor": "rgb(36,36,36)",
            "showgrid": false,
            "showline": true,
            "ticks": "outside"
           },
           "baxis": {
            "gridcolor": "rgb(232,232,232)",
            "linecolor": "rgb(36,36,36)",
            "showgrid": false,
            "showline": true,
            "ticks": "outside"
           },
           "bgcolor": "white",
           "caxis": {
            "gridcolor": "rgb(232,232,232)",
            "linecolor": "rgb(36,36,36)",
            "showgrid": false,
            "showline": true,
            "ticks": "outside"
           }
          },
          "title": {
           "x": 0.5,
           "xanchor": "center"
          },
          "width": 600,
          "xaxis": {
           "automargin": true,
           "gridcolor": "rgb(232,232,232)",
           "linecolor": "rgb(36,36,36)",
           "showgrid": true,
           "showline": true,
           "ticks": "outside",
           "title": {
            "standoff": 15
           },
           "zeroline": false,
           "zerolinecolor": "rgb(36,36,36)"
          },
          "yaxis": {
           "automargin": true,
           "gridcolor": "rgb(232,232,232)",
           "linecolor": "rgb(36,36,36)",
           "showgrid": true,
           "showline": true,
           "ticks": "outside",
           "title": {
            "standoff": 15
           },
           "zeroline": false,
           "zerolinecolor": "rgb(36,36,36)"
          }
         }
        },
        "title": {
         "text": "Visualization of Model Performance with Constant Minutes"
        }
       }
      },
      "image/png": "[encoded data removed]",
      "text/html": [
       "<div>                            <div id=\"c968a81d-b91e-4624-9766-24b5bcfed658\" class=\"plotly-graph-div\" style=\"height:400px; width:600px;\"></div>            <script type=\"text/javascript\">                require([\"plotly\"], function(Plotly) {                    window.PLOTLYENV=window.PLOTLYENV || {};                                    if (document.getElementById(\"c968a81d-b91e-4624-9766-24b5bcfed658\")) {                    Plotly.newPlot(                        \"c968a81d-b91e-4624-9766-24b5bcfed658\",                        [{\"colorscale\":[[0.0,\"rgb(150,0,90)\"],[0.125,\"rgb(0,0,200)\"],[0.25,\"rgb(0,25,255)\"],[0.375,\"rgb(0,152,255)\"],[0.5,\"rgb(44,255,150)\"],[0.625,\"rgb(151,255,0)\"],[0.75,\"rgb(255,234,0)\"],[0.875,\"rgb(255,111,0)\"],[1.0,\"rgb(255,0,0)\"]],\"x\":[[1.0,1.0,1.0,1.0,1.0,1.0,1.0,1.0,1.0,1.0,1.0,1.0,1.0,1.0,1.0,1.0,1.0,1.0,1.0,1.0],[2.894736842105263,2.894736842105263,2.894736842105263,2.894736842105263,2.894736842105263,2.894736842105263,2.894736842105263,2.894736842105263,2.894736842105263,2.894736842105263,2.894736842105263,2.894736842105263,2.894736842105263,2.894736842105263,2.894736842105263,2.894736842105263,2.894736842105263,2.894736842105263,2.894736842105263,2.894736842105263],[4.789473684210526,4.789473684210526,4.789473684210526,4.789473684210526,4.789473684210526,4.789473684210526,4.789473684210526,4.789473684210526,4.789473684210526,4.789473684210526,4.789473684210526,4.789473684210526,4.789473684210526,4.789473684210526,4.789473684210526,4.789473684210526,4.789473684210526,4.789473684210526,4.789473684210526,4.789473684210526],[6.684210526315789,6.684210526315789,6.684210526315789,6.684210526315789,6.684210526315789,6.684210526315789,6.684210526315789,6.684210526315789,6.684210526315789,6.684210526315789,6.684210526315789,6.684210526315789,6.684210526315789,6.684210526315789,6.684210526315789,6.684210526315789,6.684210526315789,6.684210526315789,6.684210526315789,6.684210526315789],[8.578947368421051,8.578947368421051,8.578947368421051,8.578947368421051,8.578947368421051,8.578947368421051,8.578947368421051,8.578947368421051,8.578947368421051,8.578947368421051,8.578947368421051,8.578947368421051,8.578947368421051,8.578947368421051,8.578947368421051,8.578947368421051,8.578947368421051,8.578947368421051,8.578947368421051,8.578947368421051],[10.473684210526315,10.473684210526315,10.473684210526315,10.473684210526315,10.473684210526315,10.473684210526315,10.473684210526315,10.473684210526315,10.473684210526315,10.473684210526315,10.473684210526315,10.473684210526315,10.473684210526315,10.473684210526315,10.473684210526315,10.473684210526315,10.473684210526315,10.473684210526315,10.473684210526315,10.473684210526315],[12.368421052631579,12.368421052631579,12.368421052631579,12.368421052631579,12.368421052631579,12.368421052631579,12.368421052631579,12.368421052631579,12.368421052631579,12.368421052631579,12.368421052631579,12.368421052631579,12.368421052631579,12.368421052631579,12.368421052631579,12.368421052631579,12.368421052631579,12.368421052631579,12.368421052631579,12.368421052631579],[14.26315789473684,14.26315789473684,14.26315789473684,14.26315789473684,14.26315789473684,14.26315789473684,14.26315789473684,14.26315789473684,14.26315789473684,14.26315789473684,14.26315789473684,14.26315789473684,14.26315789473684,14.26315789473684,14.26315789473684,14.26315789473684,14.26315789473684,14.26315789473684,14.26315789473684,14.26315789473684],[16.157894736842103,16.157894736842103,16.157894736842103,16.157894736842103,16.157894736842103,16.157894736842103,16.157894736842103,16.157894736842103,16.157894736842103,16.157894736842103,16.157894736842103,16.157894736842103,16.157894736842103,16.157894736842103,16.157894736842103,16.157894736842103,16.157894736842103,16.157894736842103,16.157894736842103,16.157894736842103],[18.052631578947366,18.052631578947366,18.052631578947366,18.052631578947366,18.052631578947366,18.052631578947366,18.052631578947366,18.052631578947366,18.052631578947366,18.052631578947366,18.052631578947366,18.052631578947366,18.052631578947366,18.052631578947366,18.052631578947366,18.052631578947366,18.052631578947366,18.052631578947366,18.052631578947366,18.052631578947366],[19.94736842105263,19.94736842105263,19.94736842105263,19.94736842105263,19.94736842105263,19.94736842105263,19.94736842105263,19.94736842105263,19.94736842105263,19.94736842105263,19.94736842105263,19.94736842105263,19.94736842105263,19.94736842105263,19.94736842105263,19.94736842105263,19.94736842105263,19.94736842105263,19.94736842105263,19.94736842105263],[21.842105263157894,21.842105263157894,21.842105263157894,21.842105263157894,21.842105263157894,21.842105263157894,21.842105263157894,21.842105263157894,21.842105263157894,21.842105263157894,21.842105263157894,21.842105263157894,21.842105263157894,21.842105263157894,21.842105263157894,21.842105263157894,21.842105263157894,21.842105263157894,21.842105263157894,21.842105263157894],[23.736842105263158,23.736842105263158,23.736842105263158,23.736842105263158,23.736842105263158,23.736842105263158,23.736842105263158,23.736842105263158,23.736842105263158,23.736842105263158,23.736842105263158,23.736842105263158,23.736842105263158,23.736842105263158,23.736842105263158,23.736842105263158,23.736842105263158,23.736842105263158,23.736842105263158,23.736842105263158],[25.63157894736842,25.63157894736842,25.63157894736842,25.63157894736842,25.63157894736842,25.63157894736842,25.63157894736842,25.63157894736842,25.63157894736842,25.63157894736842,25.63157894736842,25.63157894736842,25.63157894736842,25.63157894736842,25.63157894736842,25.63157894736842,25.63157894736842,25.63157894736842,25.63157894736842,25.63157894736842],[27.52631578947368,27.52631578947368,27.52631578947368,27.52631578947368,27.52631578947368,27.52631578947368,27.52631578947368,27.52631578947368,27.52631578947368,27.52631578947368,27.52631578947368,27.52631578947368,27.52631578947368,27.52631578947368,27.52631578947368,27.52631578947368,27.52631578947368,27.52631578947368,27.52631578947368,27.52631578947368],[29.421052631578945,29.421052631578945,29.421052631578945,29.421052631578945,29.421052631578945,29.421052631578945,29.421052631578945,29.421052631578945,29.421052631578945,29.421052631578945,29.421052631578945,29.421052631578945,29.421052631578945,29.421052631578945,29.421052631578945,29.421052631578945,29.421052631578945,29.421052631578945,29.421052631578945,29.421052631578945],[31.31578947368421,31.31578947368421,31.31578947368421,31.31578947368421,31.31578947368421,31.31578947368421,31.31578947368421,31.31578947368421,31.31578947368421,31.31578947368421,31.31578947368421,31.31578947368421,31.31578947368421,31.31578947368421,31.31578947368421,31.31578947368421,31.31578947368421,31.31578947368421,31.31578947368421,31.31578947368421],[33.21052631578947,33.21052631578947,33.21052631578947,33.21052631578947,33.21052631578947,33.21052631578947,33.21052631578947,33.21052631578947,33.21052631578947,33.21052631578947,33.21052631578947,33.21052631578947,33.21052631578947,33.21052631578947,33.21052631578947,33.21052631578947,33.21052631578947,33.21052631578947,33.21052631578947,33.21052631578947],[35.10526315789473,35.10526315789473,35.10526315789473,35.10526315789473,35.10526315789473,35.10526315789473,35.10526315789473,35.10526315789473,35.10526315789473,35.10526315789473,35.10526315789473,35.10526315789473,35.10526315789473,35.10526315789473,35.10526315789473,35.10526315789473,35.10526315789473,35.10526315789473,35.10526315789473,35.10526315789473],[37.0,37.0,37.0,37.0,37.0,37.0,37.0,37.0,37.0,37.0,37.0,37.0,37.0,37.0,37.0,37.0,37.0,37.0,37.0,37.0]],\"y\":[[1.0,6.2105263157894735,11.421052631578947,16.63157894736842,21.842105263157894,27.052631578947366,32.26315789473684,37.473684210526315,42.68421052631579,47.89473684210526,53.10526315789473,58.315789473684205,63.526315789473685,68.73684210526315,73.94736842105263,79.1578947368421,84.36842105263158,89.57894736842105,94.78947368421052,100.0],[1.0,6.2105263157894735,11.421052631578947,16.63157894736842,21.842105263157894,27.052631578947366,32.26315789473684,37.473684210526315,42.68421052631579,47.89473684210526,53.10526315789473,58.315789473684205,63.526315789473685,68.73684210526315,73.94736842105263,79.1578947368421,84.36842105263158,89.57894736842105,94.78947368421052,100.0],[1.0,6.2105263157894735,11.421052631578947,16.63157894736842,21.842105263157894,27.052631578947366,32.26315789473684,37.473684210526315,42.68421052631579,47.89473684210526,53.10526315789473,58.315789473684205,63.526315789473685,68.73684210526315,73.94736842105263,79.1578947368421,84.36842105263158,89.57894736842105,94.78947368421052,100.0],[1.0,6.2105263157894735,11.421052631578947,16.63157894736842,21.842105263157894,27.052631578947366,32.26315789473684,37.473684210526315,42.68421052631579,47.89473684210526,53.10526315789473,58.315789473684205,63.526315789473685,68.73684210526315,73.94736842105263,79.1578947368421,84.36842105263158,89.57894736842105,94.78947368421052,100.0],[1.0,6.2105263157894735,11.421052631578947,16.63157894736842,21.842105263157894,27.052631578947366,32.26315789473684,37.473684210526315,42.68421052631579,47.89473684210526,53.10526315789473,58.315789473684205,63.526315789473685,68.73684210526315,73.94736842105263,79.1578947368421,84.36842105263158,89.57894736842105,94.78947368421052,100.0],[1.0,6.2105263157894735,11.421052631578947,16.63157894736842,21.842105263157894,27.052631578947366,32.26315789473684,37.473684210526315,42.68421052631579,47.89473684210526,53.10526315789473,58.315789473684205,63.526315789473685,68.73684210526315,73.94736842105263,79.1578947368421,84.36842105263158,89.57894736842105,94.78947368421052,100.0],[1.0,6.2105263157894735,11.421052631578947,16.63157894736842,21.842105263157894,27.052631578947366,32.26315789473684,37.473684210526315,42.68421052631579,47.89473684210526,53.10526315789473,58.315789473684205,63.526315789473685,68.73684210526315,73.94736842105263,79.1578947368421,84.36842105263158,89.57894736842105,94.78947368421052,100.0],[1.0,6.2105263157894735,11.421052631578947,16.63157894736842,21.842105263157894,27.052631578947366,32.26315789473684,37.473684210526315,42.68421052631579,47.89473684210526,53.10526315789473,58.315789473684205,63.526315789473685,68.73684210526315,73.94736842105263,79.1578947368421,84.36842105263158,89.57894736842105,94.78947368421052,100.0],[1.0,6.2105263157894735,11.421052631578947,16.63157894736842,21.842105263157894,27.052631578947366,32.26315789473684,37.473684210526315,42.68421052631579,47.89473684210526,53.10526315789473,58.315789473684205,63.526315789473685,68.73684210526315,73.94736842105263,79.1578947368421,84.36842105263158,89.57894736842105,94.78947368421052,100.0],[1.0,6.2105263157894735,11.421052631578947,16.63157894736842,21.842105263157894,27.052631578947366,32.26315789473684,37.473684210526315,42.68421052631579,47.89473684210526,53.10526315789473,58.315789473684205,63.526315789473685,68.73684210526315,73.94736842105263,79.1578947368421,84.36842105263158,89.57894736842105,94.78947368421052,100.0],[1.0,6.2105263157894735,11.421052631578947,16.63157894736842,21.842105263157894,27.052631578947366,32.26315789473684,37.473684210526315,42.68421052631579,47.89473684210526,53.10526315789473,58.315789473684205,63.526315789473685,68.73684210526315,73.94736842105263,79.1578947368421,84.36842105263158,89.57894736842105,94.78947368421052,100.0],[1.0,6.2105263157894735,11.421052631578947,16.63157894736842,21.842105263157894,27.052631578947366,32.26315789473684,37.473684210526315,42.68421052631579,47.89473684210526,53.10526315789473,58.315789473684205,63.526315789473685,68.73684210526315,73.94736842105263,79.1578947368421,84.36842105263158,89.57894736842105,94.78947368421052,100.0],[1.0,6.2105263157894735,11.421052631578947,16.63157894736842,21.842105263157894,27.052631578947366,32.26315789473684,37.473684210526315,42.68421052631579,47.89473684210526,53.10526315789473,58.315789473684205,63.526315789473685,68.73684210526315,73.94736842105263,79.1578947368421,84.36842105263158,89.57894736842105,94.78947368421052,100.0],[1.0,6.2105263157894735,11.421052631578947,16.63157894736842,21.842105263157894,27.052631578947366,32.26315789473684,37.473684210526315,42.68421052631579,47.89473684210526,53.10526315789473,58.315789473684205,63.526315789473685,68.73684210526315,73.94736842105263,79.1578947368421,84.36842105263158,89.57894736842105,94.78947368421052,100.0],[1.0,6.2105263157894735,11.421052631578947,16.63157894736842,21.842105263157894,27.052631578947366,32.26315789473684,37.473684210526315,42.68421052631579,47.89473684210526,53.10526315789473,58.315789473684205,63.526315789473685,68.73684210526315,73.94736842105263,79.1578947368421,84.36842105263158,89.57894736842105,94.78947368421052,100.0],[1.0,6.2105263157894735,11.421052631578947,16.63157894736842,21.842105263157894,27.052631578947366,32.26315789473684,37.473684210526315,42.68421052631579,47.89473684210526,53.10526315789473,58.315789473684205,63.526315789473685,68.73684210526315,73.94736842105263,79.1578947368421,84.36842105263158,89.57894736842105,94.78947368421052,100.0],[1.0,6.2105263157894735,11.421052631578947,16.63157894736842,21.842105263157894,27.052631578947366,32.26315789473684,37.473684210526315,42.68421052631579,47.89473684210526,53.10526315789473,58.315789473684205,63.526315789473685,68.73684210526315,73.94736842105263,79.1578947368421,84.36842105263158,89.57894736842105,94.78947368421052,100.0],[1.0,6.2105263157894735,11.421052631578947,16.63157894736842,21.842105263157894,27.052631578947366,32.26315789473684,37.473684210526315,42.68421052631579,47.89473684210526,53.10526315789473,58.315789473684205,63.526315789473685,68.73684210526315,73.94736842105263,79.1578947368421,84.36842105263158,89.57894736842105,94.78947368421052,100.0],[1.0,6.2105263157894735,11.421052631578947,16.63157894736842,21.842105263157894,27.052631578947366,32.26315789473684,37.473684210526315,42.68421052631579,47.89473684210526,53.10526315789473,58.315789473684205,63.526315789473685,68.73684210526315,73.94736842105263,79.1578947368421,84.36842105263158,89.57894736842105,94.78947368421052,100.0],[1.0,6.2105263157894735,11.421052631578947,16.63157894736842,21.842105263157894,27.052631578947366,32.26315789473684,37.473684210526315,42.68421052631579,47.89473684210526,53.10526315789473,58.315789473684205,63.526315789473685,68.73684210526315,73.94736842105263,79.1578947368421,84.36842105263158,89.57894736842105,94.78947368421052,100.0]],\"z\":[[4.605180903579528,4.618605598493366,4.666866141804306,4.707257898893656,4.718167261586972,4.72002508681442,4.720301806532717,4.720301806532717,4.720301806532717,4.720301806532717,4.720301806532717,4.720301806532717,4.720301806532717,4.720301806532717,4.720301806532717,4.720301806532717,4.720301806532717,4.720301806532717,4.720301806532717,4.720301806532717],[4.6209091663549735,4.6239437336912985,4.662734087112687,4.701516453534356,4.712239004619592,4.7140694441527415,4.7143421791387174,4.7143421791387174,4.7143421791387174,4.7143421791387174,4.7143421791387174,4.7143421791387174,4.7143421791387174,4.7143421791387174,4.7143421791387174,4.7143421791387174,4.7143421791387174,4.7143421791387174,4.7143421791387174,4.7143421791387174],[4.655598104455739,4.637215250620554,4.65750050509944,4.693250658265708,4.703606544289287,4.705382420453135,4.705647195481039,4.705647195481039,4.705647195481039,4.705647195481039,4.705647195481039,4.705647195481039,4.705647195481039,4.705647195481039,4.705647195481039,4.705647195481039,4.705647195481039,4.705647195481039,4.705647195481039,4.705647195481039],[4.690262766877665,4.652289564410033,4.657663726751249,4.6907494319870695,4.70068168288997,4.702390399086162,4.70264527619163,4.70264527619163,4.70264527619163,4.70264527619163,4.70264527619163,4.70264527619163,4.70264527619163,4.70264527619163,4.70264527619163,4.70264527619163,4.70264527619163,4.70264527619163,4.70264527619163,4.70264527619163],[4.706274506238213,4.660361144433787,4.66134001229865,4.69211460341099,4.701442259810006,4.703048951108724,4.7032886548162764,4.7032886548162764,4.7032886548162764,4.7032886548162764,4.7032886548162764,4.7032886548162764,4.7032886548162764,4.7032886548162764,4.7032886548162764,4.7032886548162764,4.7032886548162764,4.7032886548162764,4.7032886548162764,4.7032886548162764],[4.708007933039852,4.663405265948289,4.6659645318486715,4.693594313493958,4.702008368637803,4.703460363979751,4.7036770537819494,4.7036770537819494,4.7036770537819494,4.7036770537819494,4.7036770537819494,4.7036770537819494,4.7036770537819494,4.7036770537819494,4.7036770537819494,4.7036770537819494,4.7036770537819494,4.7036770537819494,4.7036770537819494,4.7036770537819494],[4.706873436671243,4.666726066284243,4.671552957937414,4.695497385872532,4.702901280786986,4.704183704853336,4.70437520103648,4.70437520103648,4.70437520103648,4.70437520103648,4.70437520103648,4.70437520103648,4.70437520103648,4.70437520103648,4.70437520103648,4.70437520103648,4.70437520103648,4.70437520103648,4.70437520103648,4.70437520103648],[4.707413372354504,4.672213453841401,4.67859205256556,4.6985450895617955,4.704911454506012,4.706020898208415,4.70618672057316,4.70618672057316,4.70618672057316,4.70618672057316,4.70618672057316,4.70618672057316,4.70618672057316,4.70618672057316,4.70618672057316,4.70618672057316,4.70618672057316,4.70618672057316,4.70618672057316,4.70618672057316],[4.709514374624189,4.6780390884096175,4.685053360939811,4.701796106611933,4.707356454314072,4.708332112522884,4.708478091607159,4.708478091607159,4.708478091607159,4.708478091607159,4.708478091607159,4.708478091607159,4.708478091607159,4.708478091607159,4.708478091607159,4.708478091607159,4.708478091607159,4.708478091607159,4.708478091607159,4.708478091607159],[4.712359314452788,4.6838183767485875,4.691020864143979,4.7050605162785955,4.709956653940351,4.7108223702693,4.710952049384672,4.710952049384672,4.710952049384672,4.710952049384672,4.710952049384672,4.710952049384672,4.710952049384672,4.710952049384672,4.710952049384672,4.710952049384672,4.710952049384672,4.710952049384672,4.710952049384672,4.710952049384672],[4.7139564677173444,4.686691712596223,4.693888669606591,4.706698107042478,4.711295572843508,4.712111929483842,4.712234292254926,4.712234292254926,4.712234292254926,4.712234292254926,4.712234292254926,4.712234292254926,4.712234292254926,4.712234292254926,4.712234292254926,4.712234292254926,4.712234292254926,4.712234292254926,4.712234292254926,4.712234292254926],[4.716601553326081,4.691132735782076,4.6982298363503965,4.709247039079434,4.713412924750505,4.714158032706626,4.714269836322562,4.714269836322562,4.714269836322562,4.714269836322562,4.714269836322562,4.714269836322562,4.714269836322562,4.714269836322562,4.714269836322562,4.714269836322562,4.714269836322562,4.714269836322562,4.714269836322562,4.714269836322562],[4.718873720279605,4.694733242571889,4.701685489329818,4.711328491513308,4.715166047136677,4.715857007422856,4.7159607875153196,4.7159607875153196,4.7159607875153196,4.7159607875153196,4.7159607875153196,4.7159607875153196,4.7159607875153196,4.7159607875153196,4.7159607875153196,4.7159607875153196,4.7159607875153196,4.7159607875153196,4.7159607875153196,4.7159607875153196],[4.720283844075842,4.696894753312547,4.703737652020508,4.712584099495318,4.716232285661138,4.716892035909723,4.716991191799164,4.716991191799164,4.716991191799163,4.716991191799163,4.716991191799163,4.716991191799163,4.716991191799163,4.716991191799163,4.716991191799163,4.716991191799163,4.716991191799163,4.716991191799163,4.716991191799163,4.716991191799163],[4.721104126795412,4.698130794700178,4.704904525022672,4.7133040604491185,4.7168462887738345,4.717488582345523,4.717585151923838,4.717585151923838,4.717585151923838,4.717585151923838,4.717585151923838,4.717585151923838,4.717585151923838,4.717585151923838,4.717585151923838,4.717585151923838,4.717585151923838,4.717585151923838,4.717585151923838,4.717585151923838],[4.722134916181769,4.699664306992233,4.706346052498477,4.714199208050916,4.7176121687385635,4.718233171241099,4.718326586551911,4.718326586551911,4.718326586551911,4.718326586551911,4.718326586551911,4.718326586551911,4.718326586551911,4.718326586551911,4.718326586551911,4.718326586551911,4.718326586551911,4.718326586551911,4.718326586551911,4.718326586551911],[4.722476379496391,4.700167811907742,4.706817944050191,4.714493570242844,4.717864592616488,4.718478689029197,4.718571081234801,4.718571081234801,4.718571081234801,4.718571081234801,4.718571081234801,4.718571081234801,4.718571081234801,4.718571081234801,4.718571081234801,4.718571081234801,4.718571081234801,4.718571081234801,4.718571081234801,4.718571081234801],[4.723007724577087,4.700947131264714,4.707547017673315,4.7149496165853115,4.71825620030548,4.718859686732141,4.718950507146228,4.718950507146228,4.718950507146228,4.718950507146228,4.718950507146228,4.718950507146228,4.718950507146228,4.718950507146228,4.718950507146228,4.718950507146228,4.718950507146228,4.718950507146228,4.718950507146228,4.718950507146228],[4.723223560605318,4.701262293384396,4.707841417658453,4.7151341938659606,4.718414877840667,4.719014100246724,4.719104288987209,4.719104288987209,4.719104288987209,4.719104288987209,4.719104288987209,4.719104288987209,4.719104288987209,4.719104288987209,4.719104288987209,4.719104288987209,4.719104288987209,4.719104288987209,4.719104288987209,4.719104288987209],[4.723342088757878,4.701435031753142,4.708002670453773,4.715235395651887,4.718501922496365,4.719098814239885,4.719188657717495,4.719188657717495,4.719188657717495,4.719188657717495,4.719188657717495,4.719188657717495,4.719188657717495,4.719188657717495,4.719188657717495,4.719188657717495,4.719188657717495,4.719188657717495,4.719188657717496,4.719188657717496]],\"type\":\"surface\"}],                        {\"template\":{\"data\":{\"barpolar\":[{\"marker\":{\"line\":{\"color\":\"white\",\"width\":0.5},\"pattern\":{\"fillmode\":\"overlay\",\"size\":10,\"solidity\":0.2}},\"type\":\"barpolar\"}],\"bar\":[{\"error_x\":{\"color\":\"rgb(36,36,36)\"},\"error_y\":{\"color\":\"rgb(36,36,36)\"},\"marker\":{\"line\":{\"color\":\"white\",\"width\":0.5},\"pattern\":{\"fillmode\":\"overlay\",\"size\":10,\"solidity\":0.2}},\"type\":\"bar\"}],\"carpet\":[{\"aaxis\":{\"endlinecolor\":\"rgb(36,36,36)\",\"gridcolor\":\"white\",\"linecolor\":\"white\",\"minorgridcolor\":\"white\",\"startlinecolor\":\"rgb(36,36,36)\"},\"baxis\":{\"endlinecolor\":\"rgb(36,36,36)\",\"gridcolor\":\"white\",\"linecolor\":\"white\",\"minorgridcolor\":\"white\",\"startlinecolor\":\"rgb(36,36,36)\"},\"type\":\"carpet\"}],\"choropleth\":[{\"colorbar\":{\"outlinewidth\":1,\"tickcolor\":\"rgb(36,36,36)\",\"ticks\":\"outside\"},\"type\":\"choropleth\"}],\"contourcarpet\":[{\"colorbar\":{\"outlinewidth\":1,\"tickcolor\":\"rgb(36,36,36)\",\"ticks\":\"outside\"},\"type\":\"contourcarpet\"}],\"contour\":[{\"colorbar\":{\"outlinewidth\":1,\"tickcolor\":\"rgb(36,36,36)\",\"ticks\":\"outside\"},\"colorscale\":[[0.0,\"#440154\"],[0.1111111111111111,\"#482878\"],[0.2222222222222222,\"#3e4989\"],[0.3333333333333333,\"#31688e\"],[0.4444444444444444,\"#26828e\"],[0.5555555555555556,\"#1f9e89\"],[0.6666666666666666,\"#35b779\"],[0.7777777777777778,\"#6ece58\"],[0.8888888888888888,\"#b5de2b\"],[1.0,\"#fde725\"]],\"type\":\"contour\"}],\"heatmapgl\":[{\"colorbar\":{\"outlinewidth\":1,\"tickcolor\":\"rgb(36,36,36)\",\"ticks\":\"outside\"},\"colorscale\":[[0.0,\"#440154\"],[0.1111111111111111,\"#482878\"],[0.2222222222222222,\"#3e4989\"],[0.3333333333333333,\"#31688e\"],[0.4444444444444444,\"#26828e\"],[0.5555555555555556,\"#1f9e89\"],[0.6666666666666666,\"#35b779\"],[0.7777777777777778,\"#6ece58\"],[0.8888888888888888,\"#b5de2b\"],[1.0,\"#fde725\"]],\"type\":\"heatmapgl\"}],\"heatmap\":[{\"colorbar\":{\"outlinewidth\":1,\"tickcolor\":\"rgb(36,36,36)\",\"ticks\":\"outside\"},\"colorscale\":[[0.0,\"#440154\"],[0.1111111111111111,\"#482878\"],[0.2222222222222222,\"#3e4989\"],[0.3333333333333333,\"#31688e\"],[0.4444444444444444,\"#26828e\"],[0.5555555555555556,\"#1f9e89\"],[0.6666666666666666,\"#35b779\"],[0.7777777777777778,\"#6ece58\"],[0.8888888888888888,\"#b5de2b\"],[1.0,\"#fde725\"]],\"type\":\"heatmap\"}],\"histogram2dcontour\":[{\"colorbar\":{\"outlinewidth\":1,\"tickcolor\":\"rgb(36,36,36)\",\"ticks\":\"outside\"},\"colorscale\":[[0.0,\"#440154\"],[0.1111111111111111,\"#482878\"],[0.2222222222222222,\"#3e4989\"],[0.3333333333333333,\"#31688e\"],[0.4444444444444444,\"#26828e\"],[0.5555555555555556,\"#1f9e89\"],[0.6666666666666666,\"#35b779\"],[0.7777777777777778,\"#6ece58\"],[0.8888888888888888,\"#b5de2b\"],[1.0,\"#fde725\"]],\"type\":\"histogram2dcontour\"}],\"histogram2d\":[{\"colorbar\":{\"outlinewidth\":1,\"tickcolor\":\"rgb(36,36,36)\",\"ticks\":\"outside\"},\"colorscale\":[[0.0,\"#440154\"],[0.1111111111111111,\"#482878\"],[0.2222222222222222,\"#3e4989\"],[0.3333333333333333,\"#31688e\"],[0.4444444444444444,\"#26828e\"],[0.5555555555555556,\"#1f9e89\"],[0.6666666666666666,\"#35b779\"],[0.7777777777777778,\"#6ece58\"],[0.8888888888888888,\"#b5de2b\"],[1.0,\"#fde725\"]],\"type\":\"histogram2d\"}],\"histogram\":[{\"marker\":{\"line\":{\"color\":\"white\",\"width\":0.6}},\"type\":\"histogram\"}],\"mesh3d\":[{\"colorbar\":{\"outlinewidth\":1,\"tickcolor\":\"rgb(36,36,36)\",\"ticks\":\"outside\"},\"type\":\"mesh3d\"}],\"parcoords\":[{\"line\":{\"colorbar\":{\"outlinewidth\":1,\"tickcolor\":\"rgb(36,36,36)\",\"ticks\":\"outside\"}},\"type\":\"parcoords\"}],\"pie\":[{\"automargin\":true,\"type\":\"pie\"}],\"scatter3d\":[{\"line\":{\"colorbar\":{\"outlinewidth\":1,\"tickcolor\":\"rgb(36,36,36)\",\"ticks\":\"outside\"}},\"marker\":{\"colorbar\":{\"outlinewidth\":1,\"tickcolor\":\"rgb(36,36,36)\",\"ticks\":\"outside\"}},\"type\":\"scatter3d\"}],\"scattercarpet\":[{\"marker\":{\"colorbar\":{\"outlinewidth\":1,\"tickcolor\":\"rgb(36,36,36)\",\"ticks\":\"outside\"}},\"type\":\"scattercarpet\"}],\"scattergeo\":[{\"marker\":{\"colorbar\":{\"outlinewidth\":1,\"tickcolor\":\"rgb(36,36,36)\",\"ticks\":\"outside\"}},\"type\":\"scattergeo\"}],\"scattergl\":[{\"marker\":{\"colorbar\":{\"outlinewidth\":1,\"tickcolor\":\"rgb(36,36,36)\",\"ticks\":\"outside\"}},\"type\":\"scattergl\"}],\"scattermapbox\":[{\"marker\":{\"colorbar\":{\"outlinewidth\":1,\"tickcolor\":\"rgb(36,36,36)\",\"ticks\":\"outside\"}},\"type\":\"scattermapbox\"}],\"scatterpolargl\":[{\"marker\":{\"colorbar\":{\"outlinewidth\":1,\"tickcolor\":\"rgb(36,36,36)\",\"ticks\":\"outside\"}},\"type\":\"scatterpolargl\"}],\"scatterpolar\":[{\"marker\":{\"colorbar\":{\"outlinewidth\":1,\"tickcolor\":\"rgb(36,36,36)\",\"ticks\":\"outside\"}},\"type\":\"scatterpolar\"}],\"scatter\":[{\"fillpattern\":{\"fillmode\":\"overlay\",\"size\":10,\"solidity\":0.2},\"type\":\"scatter\"}],\"scatterternary\":[{\"marker\":{\"colorbar\":{\"outlinewidth\":1,\"tickcolor\":\"rgb(36,36,36)\",\"ticks\":\"outside\"}},\"type\":\"scatterternary\"}],\"surface\":[{\"colorbar\":{\"outlinewidth\":1,\"tickcolor\":\"rgb(36,36,36)\",\"ticks\":\"outside\"},\"colorscale\":[[0.0,\"#440154\"],[0.1111111111111111,\"#482878\"],[0.2222222222222222,\"#3e4989\"],[0.3333333333333333,\"#31688e\"],[0.4444444444444444,\"#26828e\"],[0.5555555555555556,\"#1f9e89\"],[0.6666666666666666,\"#35b779\"],[0.7777777777777778,\"#6ece58\"],[0.8888888888888888,\"#b5de2b\"],[1.0,\"#fde725\"]],\"type\":\"surface\"}],\"table\":[{\"cells\":{\"fill\":{\"color\":\"rgb(237,237,237)\"},\"line\":{\"color\":\"white\"}},\"header\":{\"fill\":{\"color\":\"rgb(217,217,217)\"},\"line\":{\"color\":\"white\"}},\"type\":\"table\"}]},\"layout\":{\"annotationdefaults\":{\"arrowhead\":0,\"arrowwidth\":1},\"autotypenumbers\":\"strict\",\"coloraxis\":{\"colorbar\":{\"outlinewidth\":1,\"tickcolor\":\"rgb(36,36,36)\",\"ticks\":\"outside\"}},\"colorscale\":{\"diverging\":[[0.0,\"rgb(103,0,31)\"],[0.1,\"rgb(178,24,43)\"],[0.2,\"rgb(214,96,77)\"],[0.3,\"rgb(244,165,130)\"],[0.4,\"rgb(253,219,199)\"],[0.5,\"rgb(247,247,247)\"],[0.6,\"rgb(209,229,240)\"],[0.7,\"rgb(146,197,222)\"],[0.8,\"rgb(67,147,195)\"],[0.9,\"rgb(33,102,172)\"],[1.0,\"rgb(5,48,97)\"]],\"sequential\":[[0.0,\"#440154\"],[0.1111111111111111,\"#482878\"],[0.2222222222222222,\"#3e4989\"],[0.3333333333333333,\"#31688e\"],[0.4444444444444444,\"#26828e\"],[0.5555555555555556,\"#1f9e89\"],[0.6666666666666666,\"#35b779\"],[0.7777777777777778,\"#6ece58\"],[0.8888888888888888,\"#b5de2b\"],[1.0,\"#fde725\"]],\"sequentialminus\":[[0.0,\"#440154\"],[0.1111111111111111,\"#482878\"],[0.2222222222222222,\"#3e4989\"],[0.3333333333333333,\"#31688e\"],[0.4444444444444444,\"#26828e\"],[0.5555555555555556,\"#1f9e89\"],[0.6666666666666666,\"#35b779\"],[0.7777777777777778,\"#6ece58\"],[0.8888888888888888,\"#b5de2b\"],[1.0,\"#fde725\"]]},\"colorway\":[\"#1F77B4\",\"#FF7F0E\",\"#2CA02C\",\"#D62728\",\"#9467BD\",\"#8C564B\",\"#E377C2\",\"#7F7F7F\",\"#BCBD22\",\"#17BECF\"],\"font\":{\"color\":\"rgb(36,36,36)\"},\"geo\":{\"bgcolor\":\"white\",\"lakecolor\":\"white\",\"landcolor\":\"white\",\"showlakes\":true,\"showland\":true,\"subunitcolor\":\"white\"},\"hoverlabel\":{\"align\":\"left\"},\"hovermode\":\"closest\",\"mapbox\":{\"style\":\"light\"},\"paper_bgcolor\":\"white\",\"plot_bgcolor\":\"white\",\"polar\":{\"angularaxis\":{\"gridcolor\":\"rgb(232,232,232)\",\"linecolor\":\"rgb(36,36,36)\",\"showgrid\":false,\"showline\":true,\"ticks\":\"outside\"},\"bgcolor\":\"white\",\"radialaxis\":{\"gridcolor\":\"rgb(232,232,232)\",\"linecolor\":\"rgb(36,36,36)\",\"showgrid\":false,\"showline\":true,\"ticks\":\"outside\"}},\"scene\":{\"xaxis\":{\"backgroundcolor\":\"white\",\"gridcolor\":\"rgb(232,232,232)\",\"gridwidth\":2,\"linecolor\":\"rgb(36,36,36)\",\"showbackground\":true,\"showgrid\":false,\"showline\":true,\"ticks\":\"outside\",\"zeroline\":false,\"zerolinecolor\":\"rgb(36,36,36)\"},\"yaxis\":{\"backgroundcolor\":\"white\",\"gridcolor\":\"rgb(232,232,232)\",\"gridwidth\":2,\"linecolor\":\"rgb(36,36,36)\",\"showbackground\":true,\"showgrid\":false,\"showline\":true,\"ticks\":\"outside\",\"zeroline\":false,\"zerolinecolor\":\"rgb(36,36,36)\"},\"zaxis\":{\"backgroundcolor\":\"white\",\"gridcolor\":\"rgb(232,232,232)\",\"gridwidth\":2,\"linecolor\":\"rgb(36,36,36)\",\"showbackground\":true,\"showgrid\":false,\"showline\":true,\"ticks\":\"outside\",\"zeroline\":false,\"zerolinecolor\":\"rgb(36,36,36)\"}},\"shapedefaults\":{\"fillcolor\":\"black\",\"line\":{\"width\":0},\"opacity\":0.3},\"ternary\":{\"aaxis\":{\"gridcolor\":\"rgb(232,232,232)\",\"linecolor\":\"rgb(36,36,36)\",\"showgrid\":false,\"showline\":true,\"ticks\":\"outside\"},\"baxis\":{\"gridcolor\":\"rgb(232,232,232)\",\"linecolor\":\"rgb(36,36,36)\",\"showgrid\":false,\"showline\":true,\"ticks\":\"outside\"},\"bgcolor\":\"white\",\"caxis\":{\"gridcolor\":\"rgb(232,232,232)\",\"linecolor\":\"rgb(36,36,36)\",\"showgrid\":false,\"showline\":true,\"ticks\":\"outside\"}},\"title\":{\"x\":0.5,\"xanchor\":\"center\"},\"xaxis\":{\"automargin\":true,\"gridcolor\":\"rgb(232,232,232)\",\"linecolor\":\"rgb(36,36,36)\",\"showgrid\":true,\"showline\":true,\"ticks\":\"outside\",\"title\":{\"standoff\":15},\"zeroline\":false,\"zerolinecolor\":\"rgb(36,36,36)\"},\"yaxis\":{\"automargin\":true,\"gridcolor\":\"rgb(232,232,232)\",\"linecolor\":\"rgb(36,36,36)\",\"showgrid\":true,\"showline\":true,\"ticks\":\"outside\",\"title\":{\"standoff\":15},\"zeroline\":false,\"zerolinecolor\":\"rgb(36,36,36)\"},\"autosize\":true,\"height\":400,\"margin\":{\"b\":30,\"l\":30,\"r\":30,\"t\":30},\"width\":600}},\"scene\":{\"xaxis\":{\"title\":{\"text\":\"Steps\"}},\"yaxis\":{\"title\":{\"text\":\"Ingredients\"}},\"zaxis\":{\"title\":{\"text\":\"Predicted Rating\"}}},\"title\":{\"text\":\"Visualization of Model Performance with Constant Minutes\"}},                        {\"responsive\": true}                    ).then(function(){\n",
       "                            \n",
       "var gd = document.getElementById('c968a81d-b91e-4624-9766-24b5bcfed658');\n",
       "var x = new MutationObserver(function (mutations, observer) {{\n",
       "        var display = window.getComputedStyle(gd).display;\n",
       "        if (!display || display === 'none') {{\n",
       "            console.log([gd, 'removed!']);\n",
       "            Plotly.purge(gd);\n",
       "            observer.disconnect();\n",
       "        }}\n",
       "}});\n",
       "\n",
       "// Listen for the removal of the full notebook cells\n",
       "var notebookContainer = gd.closest('#notebook-container');\n",
       "if (notebookContainer) {{\n",
       "    x.observe(notebookContainer, {childList: true});\n",
       "}}\n",
       "\n",
       "// Listen for the clearing of the current output cell\n",
       "var outputEl = gd.closest('.output');\n",
       "if (outputEl) {{\n",
       "    x.observe(outputEl, {childList: true});\n",
       "}}\n",
       "\n",
       "                        })                };                });            </script>        </div>"
      ]
     },
     "metadata": {},
     "output_type": "display_data"
    }
   ],
   "source": [
    "x_grid, y_grid = np.mgrid[\n",
    "    merged_non_zero['n_ingredients'].min():merged_non_zero['n_ingredients'].max():20j,\n",
    "    merged_non_zero['n_steps'].min():merged_non_zero['n_steps'].max():20j\n",
    "]\n",
    "\n",
    "grid_df = pd.DataFrame({\n",
    "    'n_ingredients': y_grid.ravel(),  # Hold constant\n",
    "    'minutes': merged_non_zero['minutes'].median(), # Hold constant\n",
    "    'n_steps': x_grid.ravel()\n",
    "})\n",
    "\n",
    "z = model_cross.predict(grid_df).reshape(x_grid.shape)\n",
    "\n",
    "fig = go.Figure(data=[\n",
    "    go.Surface(\n",
    "        x=x_grid,\n",
    "        y=y_grid,\n",
    "        z=z,\n",
    "        colorscale='Rainbow'\n",
    "    )\n",
    "])\n",
    "fig.update_layout(\n",
    "    scene=dict(\n",
    "        xaxis_title='Steps',\n",
    "        yaxis_title='Ingredients',\n",
    "        zaxis_title='Predicted Rating'\n",
    "    ),\n",
    "    title='Visualization of Model Performance with Constant Minutes'\n",
    ")\n",
    "fig.show()\n",
    "fig.write_html('finMConstMIN.html', include_plotlyjs='cdn')"
   ]
  }
 ],
 "metadata": {
  "kernelspec": {
   "display_name": "Python 3 (ipykernel)",
   "language": "python",
   "name": "python3"
  },
  "language_info": {
   "codemirror_mode": {
    "name": "ipython",
    "version": 3
   },
   "file_extension": ".py",
   "mimetype": "text/x-python",
   "name": "python",
   "nbconvert_exporter": "python",
   "pygments_lexer": "ipython3",
   "version": "3.10.16"
  }
 },
 "nbformat": 4,
 "nbformat_minor": 4
}
